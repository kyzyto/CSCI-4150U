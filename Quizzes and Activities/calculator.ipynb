{
 "cells": [
  {
   "cell_type": "markdown",
   "metadata": {},
   "source": [
    "# Quiz 1"
   ]
  },
  {
   "cell_type": "markdown",
   "metadata": {},
   "source": [
    "### Question 1a\n",
    "\n",
    "#### Cosine Similarity\n",
    "\n",
    "If **d1** and **d2** are two document vectors, then<br>\n",
    ">   **cosine_Similarity( d1, d2 ) = <d1 , d2> / ||d1|| ||d2||** ,\n",
    "            \n",
    "where <**d1 , d2**> indicates inner product or vector dot product of vectors, \n",
    "**d1 and d2** and **|| d ||** is the length of vector **d**."
   ]
  },
  {
   "cell_type": "code",
   "execution_count": null,
   "metadata": {},
   "outputs": [],
   "source": [
    "def cosine_Similarity(d1, d2):\n",
    "    d1_d2 = (sum((a * b) for a, b in zip(d1, d2)))\n",
    "    print(\"<d1,d2>: \",d1_d2)\n",
    "    length_d1 = (sum((a * a) for a, b in zip(d1, d2))) ** (1/2)\n",
    "    print(\"||d1||:\", length_d1)\n",
    "    length_d2 = (sum((b * b) for a, b in zip(d1, d2))) ** (1/2)\n",
    "    print(\"||d1||:\", length_d2)\n",
    "    similarity = d1_d2/(length_d1*length_d2)\n",
    "    print(\"Cosine Similarity: \",end = '')\n",
    "    return(similarity)\n",
    "\n",
    "x = [1, 3, 5, 8]\n",
    "y = [2, 5, -1, 6]\n",
    "ans2 = cosine_Similarity(x, y)\n",
    "print(ans2)"
   ]
  },
  {
   "cell_type": "markdown",
   "metadata": {},
   "source": [
    "### Question 1b\n",
    "#### Extended Jaccard Cooefficient Similarity(Tanimoto)\n",
    ">   **EJ( d1, d2 ) = <d1 , d2> / ||d1||^2 + ||d2||^2 - <d1, d2>** "
   ]
  },
  {
   "cell_type": "code",
   "execution_count": 236,
   "metadata": {},
   "outputs": [
    {
     "name": "stdout",
     "output_type": "stream",
     "text": [
      "<d1,d2>:  5\n",
      "||d1||: 3.1622776601683795\n",
      "||d1||: 3.1622776601683795\n",
      "Extended Jaccard Similarity: 0.33333333333333326\n"
     ]
    }
   ],
   "source": [
    "# extendedJCS = extended Jaccard Coefficient Similarity(Tanimoto)\n",
    "def extendedJCS(d1, d2):\n",
    "    d1_d2 = (sum((a * b) for a, b in zip(d1, d2)))\n",
    "    print(\"<d1,d2>: \",d1_d2)\n",
    "    length_d1 = (sum((a * a) for a, b in zip(d1, d2))) ** (1/2)\n",
    "    print(\"||d1||:\", length_d1)\n",
    "    length_d2 = (sum((b * b) for a, b in zip(d1, d2))) ** (1/2)\n",
    "    print(\"||d1||:\", length_d2)\n",
    "    similarity = d1_d2 / ((length_d1**2) + (length_d2**2) - d1_d2)\n",
    "    print(\"Extended Jaccard Similarity: \",end = '')\n",
    "    return(similarity)\n",
    "\n",
    "x = [1, 0, 1, 0, 0 ,1, 0, 0, 1, 0, 1, 0, 1, 1, 1, 0, 0, 1, 1, 0]\n",
    "y = [1, 0, 0, 0, 1, 0, 0, 1, 0, 0, 0, 1, 1, 1, 1, 1, 1, 0, 1, 0]\n",
    "ans3 = extendedJCS(x, y)\n",
    "print(ans3)"
   ]
  },
  {
   "cell_type": "markdown",
   "metadata": {},
   "source": [
    "### Question 4"
   ]
  },
  {
   "cell_type": "code",
   "execution_count": 83,
   "metadata": {},
   "outputs": [
    {
     "name": "stdout",
     "output_type": "stream",
     "text": [
      "Sorted Array: [2, 3, 6, 7, 7, 7, 8, 8, 9, 10, 12, 15, 18, 21, 25]\n",
      "The X40 : 8\n"
     ]
    }
   ],
   "source": [
    "import numpy as np\n",
    "x = [25, 7, 2, 6, 12, 7, 8, 7, 3, 21, 10, 9, 8, 18, 15]\n",
    "\n",
    "\n",
    "def x_percent(array, percentage):\n",
    "    array.sort()\n",
    "    print(\"Sorted Array:\", array)\n",
    "    value = len(array) * (percentage/100)\n",
    "    ans = array[int(value)]\n",
    "    print('The X%d : '%(percentage),end = '' )\n",
    "    return(ans)\n",
    "\n",
    "ans4 = x_percent(x, 40)\n",
    "print(ans4)"
   ]
  },
  {
   "cell_type": "markdown",
   "metadata": {},
   "source": [
    "### Question 7\n",
    "AC is Actual Class. PC is Predicted Class\n",
    ">**a** : TP (true positive) : PC = Y and AC = Y<br>\n",
    "**b** : FN (false negative): PC = N and AC = Y<br>\n",
    "**c** : FP (false positive): PC = Y and AC = N<br>\n",
    "**d** : TN (true negative) : PC = N and AC = N<br>\n",
    "    "
   ]
  },
  {
   "cell_type": "code",
   "execution_count": 92,
   "metadata": {},
   "outputs": [
    {
     "name": "stdout",
     "output_type": "stream",
     "text": [
      "Accuracy:  0.25\n",
      "Precision:  0.25\n",
      "Recall:  0.25\n",
      "F-measure:  0.25\n"
     ]
    }
   ],
   "source": [
    "a = 1\n",
    "b = 3\n",
    "c = 3\n",
    "d = 1\n",
    "\n",
    "accuracy = (a + d)/(a + b + c + d)\n",
    "precision = a / (a + c)\n",
    "recall = a / (a + b)\n",
    "f_measure = (2 * a) / ((2 * a) + b + c)\n",
    "#f_measure = (2 * precision * recall) / (recall + precision)\n",
    "\n",
    "print(\"Accuracy: \", accuracy)\n",
    "print(\"Precision: \", precision)\n",
    "print(\"Recall: \", recall)\n",
    "print(\"F-measure: \", f_measure)"
   ]
  },
  {
   "cell_type": "markdown",
   "metadata": {},
   "source": [
    "### Question 8 - functions needed and their explanation"
   ]
  },
  {
   "cell_type": "code",
   "execution_count": 114,
   "metadata": {},
   "outputs": [
    {
     "name": "stdout",
     "output_type": "stream",
     "text": [
      "Gini(N1):  0.2777777777777777\n",
      "Gini(N2):  0.4444444444444444\n",
      "Gini(Parent: ) 0.48611111111111094\n",
      "Weighted Gini of N1 N2 =  0.36111111111111105\n",
      "Gain =  0.12499999999999989\n"
     ]
    }
   ],
   "source": [
    "import numpy as np\n",
    "def giniIndex(c1_value, c2_value):\n",
    "    a = c1_value\n",
    "    b = c2_value\n",
    "    c = a + b\n",
    "    gini = 1 - (np.power((a/c),2)) - (np.power((b/c),2))\n",
    "    return (gini)\n",
    "\n",
    "'''\n",
    "N1 = node 1 and N2 = node 2 and Parent = Parent Node\n",
    "     N1 | N2|\n",
    "C1 |  5 | 2 |\n",
    "C2 |  1 | 4 |\n",
    "Gini(N1) = giniIndex(5,1)\n",
    "Gini(N2) = giniIndex(2,4)\n",
    "\n",
    "    Parent |\n",
    "C1 |  5    |\n",
    "C2 |  1    |\n",
    "Gini(Parent) = giniIndex(7, 5)\n",
    "'''\n",
    "\n",
    "giniNode1 = giniIndex(5,1)\n",
    "print(\"Gini(N1): \", giniNode1)\n",
    "giniNode2 = giniIndex(2,4)\n",
    "print(\"Gini(N2): \", giniNode2)\n",
    "parentNode = giniIndex(7,5)\n",
    "print(\"Gini(Parent: )\", parentNode)\n",
    "''' Weighted Gini of N1 N2 = (sum of values in the rows of N1/sum of whole table * giniNode1) + \n",
    "                                    sum of values in the rows of N2/sum of whole table * giniNode2\n",
    "\n",
    "    Weighted Gini of N1 N2 = 6/12 * 0.278 + 6/12 * 0.444'''\n",
    "weightedGini = (6/12 * giniNode1) + (6/12 * giniNode2)\n",
    "print(\"Weighted Gini of N1 N2 = \", weightedGini)\n",
    "gain = parentNode - weightedGini\n",
    "print(\"Gain = \", gain)"
   ]
  },
  {
   "cell_type": "code",
   "execution_count": 129,
   "metadata": {},
   "outputs": [
    {
     "name": "stdout",
     "output_type": "stream",
     "text": [
      "Entropy:  0.6500224216483541\n",
      "Entropy:  0.9182958340544896\n"
     ]
    }
   ],
   "source": [
    "def entropy(c1_value, c2_value):\n",
    "    a = c1_value\n",
    "    b = c2_value\n",
    "    c = a + b\n",
    "    if a != 0 and b != 0:\n",
    "        entropy = -(a/c)*(np.log2(a/c))-(b/c)*(np.log2(b/c))\n",
    "    else:\n",
    "        entropy = 0\n",
    "    return(entropy)\n",
    "\n",
    "print(\"Entropy: \",entropy(1,5))\n",
    "print(\"Entropy: \",entropy(2,4))"
   ]
  },
  {
   "cell_type": "code",
   "execution_count": 95,
   "metadata": {},
   "outputs": [
    {
     "data": {
      "text/plain": [
       "0.5"
      ]
     },
     "execution_count": 95,
     "metadata": {},
     "output_type": "execute_result"
    }
   ],
   "source": [
    "def classificationError(c0_value, c1_value):\n",
    "    a = c0_value\n",
    "    b = c1_value\n",
    "    c = a + b\n",
    "    if (a/c) > (b/c):\n",
    "        error = 1 - (a/c)\n",
    "    else:\n",
    "        error = 1 - (b/c)\n",
    "    return(error)\n",
    "classificationError(3,3)"
   ]
  },
  {
   "cell_type": "code",
   "execution_count": 96,
   "metadata": {},
   "outputs": [
    {
     "data": {
      "text/plain": [
       "0.361"
      ]
     },
     "execution_count": 96,
     "metadata": {},
     "output_type": "execute_result"
    }
   ],
   "source": [
    "# N1 is the sum of C1 and C2 or that first column\n",
    "# N2 is the sum of C1 and C2 or that second column\n",
    "def giniIndex_split(n1, n2, g1, g2):\n",
    "    x = n1\n",
    "    y = n2\n",
    "    z = n1 + n2\n",
    "    \n",
    "    #g1 is gini index for N1 and g2 is gini index for N2\n",
    "    split = (x/z)*g1 + (y/z)*g2\n",
    "    return(split)\n",
    "#TEST\n",
    "giniIndex_split(6, 6, 0.278, 0.444)"
   ]
  },
  {
   "cell_type": "code",
   "execution_count": 97,
   "metadata": {},
   "outputs": [
    {
     "name": "stdout",
     "output_type": "stream",
     "text": [
      "0.34285714285714286\n"
     ]
    }
   ],
   "source": [
    "r = giniIndex(0,3)\n",
    "h = giniIndex(3,4)\n",
    "print(giniIndex_split(3,7,r,h))"
   ]
  },
  {
   "cell_type": "code",
   "execution_count": 107,
   "metadata": {},
   "outputs": [
    {
     "data": {
      "text/plain": [
       "0.125"
      ]
     },
     "execution_count": 107,
     "metadata": {},
     "output_type": "execute_result"
    }
   ],
   "source": [
    "#To find Parent Gini value Use summation of the rows as the class values then perform regular giniIndex()\n",
    "def gain(parent_GINI_value, giniIndex_split_value):\n",
    "    return(parent_GINI_value - giniIndex_split_value)\n",
    "gain(0.486,0.361)"
   ]
  },
  {
   "cell_type": "code",
   "execution_count": 131,
   "metadata": {},
   "outputs": [],
   "source": [
    "#e_parent is the entropy for the parent which is the C1 and C2 value of the parent. summation value in C1 and C2 of N1 and N2 \n",
    "# N1 is the sum of C1 and C2 or that first column\n",
    "# N2 is the sum of C1 and C2 or that second column\n",
    "def gain_split(n1, n2, e1, e2, e_parent):\n",
    "    x = n1\n",
    "    y = n2\n",
    "    z = n1 + n2\n",
    "    \n",
    "    #e1 is entropy for N1 and g2 is entropy for N2\n",
    "    split = e_parent - (x/z)*e1 - (y/z)*e2\n",
    "    return(split)"
   ]
  },
  {
   "cell_type": "code",
   "execution_count": 133,
   "metadata": {},
   "outputs": [],
   "source": [
    "# N1 is the sum of either C1 and C2 or sum of that first column\n",
    "# N2 is the sum of either C1 and C2 or sum of that second column\n",
    "def splitInfo(n1,n2):\n",
    "    x = n1\n",
    "    y = n2\n",
    "    z = n1 + n2\n",
    "    split_info = -(x/z)*(np.log2(x/z))-(y/z)*(np.log2(y/z))\n",
    "    return(split_info)\n",
    "\n",
    "#use value gotten from splitInfo as split_info\n",
    "def gainRatio(n1, n2, e1, e2, e_parent):\n",
    "    return(gain_split(n1, n2, e1, e2, e_parent)/ splitInfo(n1,n2))"
   ]
  },
  {
   "cell_type": "code",
   "execution_count": 135,
   "metadata": {},
   "outputs": [
    {
     "name": "stdout",
     "output_type": "stream",
     "text": [
      "0.04678484847737538\n",
      "0.7219280948873623\n",
      "0.06480541318270057\n",
      "0.06480541318270057\n"
     ]
    }
   ],
   "source": [
    "n1 = 16\n",
    "n2 = 4\n",
    "e1 = entropy(9,7)\n",
    "e2 = entropy(1,3)\n",
    "e_parent = entropy(10,10)\n",
    "print(gain_split(n1, n2, e1, e2, e_parent))\n",
    "print(ç)\n",
    "print(gain_split(n1, n2, e1, e2, e_parent)/splitInfo(16,4))\n",
    "print(gainRatio(n1, n2, e1, e2, e_parent))"
   ]
  },
  {
   "cell_type": "code",
   "execution_count": null,
   "metadata": {},
   "outputs": [],
   "source": [
    "giniIndex(c1_value, c2_value)#Of a specific node\n",
    "\n",
    "entropy(c1_value, c2_value)#Of a specific node\n",
    "\n",
    "classificationError(3,3)\n",
    "\n",
    "giniIndex_split(node1, node2, giniIndex1, giniIndex2)\n",
    "\n",
    "gain(parent_GINI_value, giniIndex_split_value)\n",
    "\n",
    "gain_split(node1, node2, entropy1, entropy2, entropy_parent)\n",
    "\n",
    "splitInfo(node1,node2)\n",
    "\n",
    "gainRatio(node1, node2, entropy1, entropy2, entropy_parent)"
   ]
  },
  {
   "cell_type": "markdown",
   "metadata": {},
   "source": [
    "### Question 8 solution"
   ]
  },
  {
   "cell_type": "code",
   "execution_count": 136,
   "metadata": {},
   "outputs": [
    {
     "name": "stdout",
     "output_type": "stream",
     "text": [
      "Gini Parent:  0.5\n"
     ]
    }
   ],
   "source": [
    "#Step 1: Find the Gini Parent. Which is the count for classification 1 and classifiction 2\n",
    "c1_count = 5 #since edible is equals to Yes 5 times\n",
    "c2_count = 5 #since edible is equals to No 5 times\n",
    "giniParent = giniIndex(c1_count, c2_count)\n",
    "print(\"Gini Parent: \", giniParent)"
   ]
  },
  {
   "cell_type": "code",
   "execution_count": 141,
   "metadata": {},
   "outputs": [
    {
     "name": "stdout",
     "output_type": "stream",
     "text": [
      "gini C 0.5\n",
      "gini D 0.5\n",
      "Information Gain:  0.0\n"
     ]
    }
   ],
   "source": [
    "#Step 2: Find the Gini for Shapes. Which is the count for classification 1 and classifiction 2 for attibutes C and D in shapes\n",
    "c_c1_count = 2 #since when shapes is equals to C edible is equals to Yes 2 times\n",
    "d_c1_count = 3 #since when shapes is equals to D edible is equals to Yes 3 times\n",
    "c_c2_count = 2 #since when shapes is equals to C edible is equals to No 2 times\n",
    "d_c2_count = 3 #since when shapes is equals to D edible is equals to No 3 times\n",
    "giniC = giniIndex(c_c1_count,c_c2_count)\n",
    "giniD = giniIndex(d_c1_count,d_c2_count)\n",
    "print(\"gini C\", giniC)\n",
    "print(\"gini D\", giniD)\n",
    "weightedGini_shapes = (4/10 * giniC) + (6/10 * giniD)\n",
    "gain_shapes = giniParent - weightedGini_shapes\n",
    "print(\"Information Gain: \", gain_shapes)"
   ]
  },
  {
   "cell_type": "code",
   "execution_count": 142,
   "metadata": {},
   "outputs": [
    {
     "name": "stdout",
     "output_type": "stream",
     "text": [
      "gini B 0.375\n",
      "gini W 0.5\n",
      "gini G 0.0\n",
      "gini U 0.0\n",
      "Information Gain:  0.14999999999999997\n"
     ]
    }
   ],
   "source": [
    "#Step 3: Find the Gini for Shapes. Which is the count for classification 1 and classifiction 2 for attibutes B, W, G, and U in colors\n",
    "giniB = giniIndex(3,1)#Bs with Yes , Bs, with No\n",
    "giniW = giniIndex(2,2)#Ws with Yes , Ws, with No\n",
    "giniG = giniIndex(0,1)#Gs with Yes , Gs, with No\n",
    "giniU = giniIndex(0,1)#Us with Yes , Us, with No\n",
    "print(\"gini B\", giniB)\n",
    "print(\"gini W\", giniW)\n",
    "print(\"gini G\", giniG)\n",
    "print(\"gini U\", giniU)\n",
    "weightedGini_colors = (4/10 * giniB) + (4/10 * giniW) + (1/10 * giniG) + (1/10 * giniU)\n",
    "gain_colors = giniParent - weightedGini_colors\n",
    "print(\"Information Gain: \", gain_colors)"
   ]
  },
  {
   "cell_type": "code",
   "execution_count": 145,
   "metadata": {},
   "outputs": [
    {
     "name": "stdout",
     "output_type": "stream",
     "text": [
      "gini 1 0.0\n",
      "gini 2 0.48\n",
      "gini 3 0.0\n",
      "Information Gain:  0.26\n"
     ]
    }
   ],
   "source": [
    "#Step 3: Find the Gini for Shapes. Which is the count for classification 1 and classifiction 2 for attibutes 1, 2 and 3 in Odours\n",
    "gini1 = giniIndex(3,0)\n",
    "gini2 = giniIndex(2,3)\n",
    "gini3 = giniIndex(0,2)\n",
    "print(\"gini 1\", gini1)\n",
    "print(\"gini 2\", gini2)\n",
    "print(\"gini 3\", gini3)\n",
    "weightedGini_odours = (3/10 * gini1) + (5/10 * gini2) + (2/10 * gini3)\n",
    "gain_odours = giniParent - weightedGini_odours\n",
    "print(\"Information Gain: \", gain_odours)"
   ]
  },
  {
   "cell_type": "markdown",
   "metadata": {},
   "source": [
    "Since Odour has the highest Information Gain the first node would be Odour"
   ]
  },
  {
   "cell_type": "markdown",
   "metadata": {},
   "source": [
    "# Extras"
   ]
  },
  {
   "cell_type": "code",
   "execution_count": null,
   "metadata": {},
   "outputs": [],
   "source": [
    "import numpy as np\n",
    "\n",
    "def calculateNormDist(variance, mean, x):\n",
    "    a = (np.power((x-mean),2))\n",
    "    b = (2*variance)\n",
    "    c = a/b\n",
    "    return (1/np.sqrt(2*np.pi*variance))*np.exp(-c)\n",
    "calculateNormDist(25,90, 120)"
   ]
  },
  {
   "cell_type": "markdown",
   "metadata": {},
   "source": [
    "### Euclidean Distance"
   ]
  },
  {
   "cell_type": "code",
   "execution_count": 232,
   "metadata": {},
   "outputs": [
    {
     "name": "stdout",
     "output_type": "stream",
     "text": [
      "Euclidean distance from x to y:  1.4142135623730951\n"
     ]
    }
   ],
   "source": [
    "import math\n",
    "import numpy as np\n",
    "# Example points in 3-dimensional space...\n",
    "x = (1,1,1,1,1,1,1,1,1,1,1,0)\n",
    "y = (0,1,1,1,1,1,1,1,1,1,1,1)\n",
    "\n",
    "def E_distance(x,y):#Etienne's version\n",
    "    distance = (sum(abs(a - b) for a, b in zip(x, y))) ** (1/2)\n",
    "    return (distance)       \n",
    "print(\"Euclidean distance from x to y: \",E_distance(x,y))"
   ]
  },
  {
   "cell_type": "code",
   "execution_count": 233,
   "metadata": {},
   "outputs": [
    {
     "name": "stdout",
     "output_type": "stream",
     "text": [
      "Euclidean distance from x to y:  4.716990566028302\n"
     ]
    }
   ],
   "source": [
    "def E_distance_etienne(x,y):#Etienne's version\n",
    "    distance = np.linalg.norm(np.subtract(x,y))\n",
    "    return (distance) \n",
    "a = (1,1.5)\n",
    "b = (5, 4)\n",
    "print(\"Euclidean distance from x to y: \",E_distance_etienne(a,b))"
   ]
  },
  {
   "cell_type": "markdown",
   "metadata": {},
   "source": [
    "### Mahalanobis Distance"
   ]
  },
  {
   "cell_type": "code",
   "execution_count": null,
   "metadata": {},
   "outputs": [],
   "source": []
  },
  {
   "cell_type": "markdown",
   "metadata": {},
   "source": [
    "# Quiz 2"
   ]
  },
  {
   "cell_type": "code",
   "execution_count": 12,
   "metadata": {},
   "outputs": [
    {
     "name": "stdout",
     "output_type": "stream",
     "text": [
      "4\n"
     ]
    }
   ],
   "source": [
    "# calculating manhattan distance between vectors\n",
    "from math import sqrt\n",
    " \n",
    "# calculate manhattan distance\n",
    "def manhattan_distance(a, b):\n",
    "    return sum(abs(e1-e2) for e1, e2 in zip(a,b))\n",
    " \n",
    "# define data\n",
    "row1 = [1,0,1,1,0]\n",
    "row2 = [1,1,0,1,0]\n",
    "row3 = [1,1,0,1,0]\n",
    "row4 = [1,1,0,1,0]\n",
    "row5 = [1,1,0,1,0]\n",
    "row6 = [1,1,0,1,0]\n",
    "row7 = [1,1,0,1,0]\n",
    "record = [0,1,0,1,1]\n",
    "# calculate distance\n",
    "dist = manhattan_distance(row1, record)\n",
    "print(dist)"
   ]
  },
  {
   "cell_type": "code",
   "execution_count": 235,
   "metadata": {},
   "outputs": [
    {
     "name": "stdout",
     "output_type": "stream",
     "text": [
      "Manhattan distance: 4\n",
      "Minkowski of inf : \n",
      "1.0\n",
      "20\n"
     ]
    }
   ],
   "source": [
    "import math\n",
    "def Minkowski_distance(x,y,r):\n",
    "    if r == 1:\n",
    "        print(\"Manhattan distance: \",end = '')\n",
    "        distance = (sum(abs(a - b) for a, b in zip(x, y)))\n",
    "        return(distance)\n",
    "    elif r == 2:\n",
    "        print(\"Euclidean distance: \",end = '')\n",
    "        distance = (sum(abs(a - b) for a, b in zip(x, y))) ** (1/2)\n",
    "        return(distance)\n",
    "    else:\n",
    "        print(f'Minkowski of {r}', \": \")\n",
    "        distance = (sum(abs(a - b) for a, b in zip(x, y))) ** (1/r)\n",
    "        return(distance)\n",
    "\n",
    "x = [1, 0, 1, 0, 0, 1, 0, 0, 1, 0, 1, 0, 1, 1, 1, 0, 0, 1, 1, 0]\n",
    "y = [1, 0, 0, 0, 1, 0, 0, 1, 0, 0, 0, 1, 1, 1, 1, 1, 1, 0, 1, 0]\n",
    "f = math.inf\n",
    "ques1 = Minkowski_distance(x,y,f)\n",
    "print(ques1)"
   ]
  },
  {
   "cell_type": "markdown",
   "metadata": {},
   "source": [
    "### Anomaly Detection Activity"
   ]
  },
  {
   "cell_type": "code",
   "execution_count": 212,
   "metadata": {
    "scrolled": true
   },
   "outputs": [
    {
     "name": "stdout",
     "output_type": "stream",
     "text": [
      "    P1    P2    P3    P4    P5    P6\n",
      "P1 0.0   0.5   1.0   5.0   0.5   0.7\n",
      "P2 0.5   0.0   1.1   4.7   0.7   1.1\n",
      "P3 1.0   1.1   0.0   4.2   1.5   1.6\n",
      "P4 5.0   4.7   4.2   0.0   5.4   5.7\n",
      "P5 0.5   0.7   1.5   5.4   0.0   0.5\n",
      "P6 0.7   1.1   1.6   5.7   0.5   0.0\n"
     ]
    }
   ],
   "source": [
    "import statistics as st\n",
    "p1 = (1,1)\n",
    "p2 = (1,1.5)\n",
    "p3 = (2,1)\n",
    "p4 = (5,4)\n",
    "p5 = (0.5,1)\n",
    "p6 = (0.5,0.5)\n",
    "def eD(x,y):\n",
    "    return(round(E_distance(x,y), 1))\n",
    "print(\"    P1    P2    P3    P4    P5    P6\")\n",
    "print(\"P1\", eD(p1,p1),\" \", eD(p1,p2),\" \", eD(p1,p3),\" \", eD(p1,p4),\" \", eD(p1,p5),\" \", eD(p1,p6))\n",
    "print(\"P2\", eD(p2,p1),\" \", eD(p2,p2),\" \", eD(p2,p3),\" \", eD(p2,p4),\" \", eD(p2,p5),\" \", eD(p2,p6))\n",
    "print(\"P3\",eD(p3,p1),\" \", eD(p3,p2),\" \", eD(p3,p3),\" \", eD(p3,p4),\" \", eD(p3,p5),\" \", eD(p3,p6))\n",
    "print(\"P4\",eD(p4,p1),\" \", eD(p4,p2),\" \", eD(p4,p3),\" \", eD(p4,p4),\" \", eD(p4,p5),\" \", eD(p4,p6))\n",
    "print(\"P5\",eD(p5,p1),\" \", eD(p5,p2),\" \", eD(p5,p3),\" \", eD(p5,p4),\" \", eD(p5,p5),\" \", eD(p5,p6))\n",
    "print(\"P6\",eD(p6,p1),\" \", eD(p6,p2),\" \", eD(p6,p3),\" \", eD(p6,p4),\" \", eD(p6,p5),\" \", eD(p6,p6))\n",
    "#repeat for the rest of the combinations of the points from p1 to p6, you'd end up with 36 Euclidean distance values"
   ]
  },
  {
   "cell_type": "markdown",
   "metadata": {},
   "source": [
    "**K = 2<br>\n",
    "A) Use the inverse of distance to k’th neighbour as the density**"
   ]
  },
  {
   "cell_type": "code",
   "execution_count": 225,
   "metadata": {},
   "outputs": [
    {
     "name": "stdout",
     "output_type": "stream",
     "text": [
      "Density of P1:  2.0\n",
      "Density of P2:  1.4\n",
      "Density of P5:  2.0\n",
      "Relative Density: 0.86\n"
     ]
    }
   ],
   "source": [
    "#1 Calculate 2-NN list of P1 = [P2,P5]\n",
    "'''\n",
    "Hence after doing the Euclidean distance between all the 6 points\n",
    "And getting 36 Euclidean distance values\n",
    "Find the K nearest neighbouring values or points (i.e k = 2)\n",
    "You find this by checking which k number of points have similar or close Euclidean distance value to P1\n",
    "'''\n",
    "nn_p1 = [0.5, 0.5] #list of 2 nearest neighbour points euclidean distance values\n",
    "\n",
    "#2 Calculate density of P1. ---->Based on definition A\n",
    "'''\n",
    "P1 = p1 = (1,1).\n",
    "In calculating density, use the KNN point with the highest Euclidean distance value\n",
    "'''\n",
    "def density(distance):\n",
    "    return(1/distance)\n",
    "density_p1 = density(eD(p1,p2))\n",
    "print(\"Density of P1: \",round(density_p1,1))\n",
    "\n",
    "#3 Calculate density of elements(a.k.a points) in the list of P1. ---->Based on definition A\n",
    "'''\n",
    "That is the lowest nearest neighbouring points to the points in the list that is not equals to zero\n",
    "So for P2 that would be P2 x P1 and P2 x P5\n",
    "   for P5 that would be P5 x P1 and P5 x P6\n",
    "'''\n",
    "nn_p2 = [0.5, 0.7]\n",
    "density_p2 = density(eD(p2,p5))\n",
    "print(\"Density of P2: \",round(density_p2,1))\n",
    "\n",
    "nn_p5 = [0.5, 0.5]\n",
    "density_p5 = density(eD(p5,p6))\n",
    "print(\"Density of P5: \",round(density_p5,1))\n",
    "\n",
    "def relative_density(dnn,dp,k):\n",
    "    return((dnn/k)/dp)\n",
    "#dnn = summation of the densities of the nearest neighbouring points density\n",
    "#k = k in knn\n",
    "#dp = density of the point in question\n",
    "dnn = density_p2 + density_p5\n",
    "k = 2\n",
    "dp = density_p1\n",
    "rd = relative_density(dnn,dp,k)\n",
    "print(\"Relative Density:\", round(rd, 2))"
   ]
  },
  {
   "cell_type": "markdown",
   "metadata": {},
   "source": [
    "**K = 2<br>\n",
    "B) Use the inverse of the average distance to k neighbours:**"
   ]
  },
  {
   "cell_type": "code",
   "execution_count": 230,
   "metadata": {},
   "outputs": [
    {
     "name": "stdout",
     "output_type": "stream",
     "text": [
      "Density of P1:  2.0\n",
      "Density of P2:  1.7\n",
      "Density of P5:  2.0\n",
      "Relative Density: 0.92\n"
     ]
    }
   ],
   "source": [
    "#1 Calculate 2-NN list of P1 = [P2,P5]\n",
    "'''\n",
    "Hence after doing the Euclidean distance between all the 6 points\n",
    "And getting 36 Euclidean distance values\n",
    "Find the K nearest neighbouring values or points (i.e k = 2)\n",
    "You find this by checking which k number of points have similar or close Euclidean distance value to P1\n",
    "'''\n",
    "nn_p1 = [0.5, 0.5] #list of 2 nearest neighbour points euclidean distance values\n",
    "\n",
    "\n",
    "\n",
    "#2 Calculate density of P1. ---->Based on definition B \n",
    "'''\n",
    "P1 = p1 = (1,1).\n",
    "In calculating density, use the KNN point with the highest Euclidean distance value\n",
    "'''\n",
    "def density_avg(nn_p):\n",
    "    return(1/st.mean(nn_p))\n",
    "density_avg_p1 = density_avg(nn_p1)\n",
    "print(\"Density of P1: \",round(density_avg_p1,1))\n",
    "\n",
    "\n",
    "#3 Calculate density of elements(a.k.a points) in the list of P1. ---->Based on definition B\n",
    "'''\n",
    "That is the lowest nearest neighbouring points to the points in the list that is not equals to zero\n",
    "So for P2 that would be P2 x P1 and P2 x P5\n",
    "   for P5 that would be P5 x P1 and P5 x P6\n",
    "'''\n",
    "nn_p2 = [0.5, 0.7]\n",
    "density_avg_p2 = density_avg(nn_p2)\n",
    "print(\"Density of P2: \",round(density_avg_p2,1))\n",
    "\n",
    "nn_p5 = [0.5, 0.5]\n",
    "density_avg_p5 = density_avg(nn_p5)\n",
    "print(\"Density of P5: \",round(density_avg_p5,1))\n",
    "\n",
    "def relative_density(nn,np,k):\n",
    "    return((nn/k)/np)\n",
    "#dnn = summation of the average densities of the nearest neighbouring points density\n",
    "#k = k in knn\n",
    "#dp = density of the point in question\n",
    "nn = density_avg_p2 + density_avg_p5\n",
    "k = 2\n",
    "np = density_avg_p1\n",
    "rd = relative_density(nn,np,k)\n",
    "print(\"Relative Density:\", round(rd, 2))"
   ]
  },
  {
   "cell_type": "markdown",
   "metadata": {},
   "source": [
    "### Association Rule Mining Activity 1"
   ]
  },
  {
   "cell_type": "code",
   "execution_count": null,
   "metadata": {},
   "outputs": [],
   "source": [
    "'''\n",
    "• Itemset\n",
    "    • A collection of one or more items\n",
    "    - Example: {Milk, Bread, Diaper}\n",
    "• k-itemset\n",
    "    - An itemset that contains k items\n",
    "• Support count (s)\n",
    "    • Frequency of occurrence of an itemset\n",
    "    • E.g. s({Milk, Bread, Diaper}) = 2\n",
    "• Support (s)\n",
    "    • Fraction of transactions that contain an itemset or support count\n",
    "    • E.g. s({Milk, Bread, Diaper}) = 2/5\n",
    "• Frequent Itemset\n",
    "    • An itemset whose support is greater than or equal to a minsup threshold\n",
    "• Association Rule\n",
    "    • An implication expression of the form X ®Y,\n",
    "        where X and Y are itemsets\n",
    "    • Example: {Milk, Diaper} -> {Beer}\n",
    "• Rule Evaluation Metrics\n",
    "    • Support (s)\n",
    "        - Fraction of transactions that contain both X and Y\n",
    "    • Confidence (c)\n",
    "        - Measures how often items in Y\n",
    "        appear in transactions that contain X\n",
    "'''\n",
    "# Association Rule X-> Y\n",
    "# {Diaper} -> {Beer, Milk}\n",
    "t = 5    # total number of transactions\n",
    "k_itemSet = 3 #number of items in the itemset\n",
    "support_count = 2   #number of times itemset appeared in transaction\n",
    "support = 2/5 #support count divided by total number of transactions\n",
    "confidence = 2/4 #support count divided by total number of times X appeared in transaction"
   ]
  }
 ],
 "metadata": {
  "kernelspec": {
   "display_name": "Python 3",
   "language": "python",
   "name": "python3"
  },
  "language_info": {
   "codemirror_mode": {
    "name": "ipython",
    "version": 3
   },
   "file_extension": ".py",
   "mimetype": "text/x-python",
   "name": "python",
   "nbconvert_exporter": "python",
   "pygments_lexer": "ipython3",
   "version": "3.8.2"
  }
 },
 "nbformat": 4,
 "nbformat_minor": 4
}
