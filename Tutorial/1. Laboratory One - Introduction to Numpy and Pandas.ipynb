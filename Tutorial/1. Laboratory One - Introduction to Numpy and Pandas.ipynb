{
 "cells": [
  {
   "cell_type": "markdown",
   "metadata": {},
   "source": [
    "# Laboratory One - Introduction"
   ]
  },
  {
   "cell_type": "markdown",
   "metadata": {},
   "source": [
    "## Numpy\n",
    "Numpy, which stands for numerical Python, is a Python library package to support numerical computations. The basic data structure in numpy is a multi-dimensional array object called ndarray. Numpy provides a suite of functions that can efficiently manipulate elements of the ndarray."
   ]
  },
  {
   "cell_type": "markdown",
   "metadata": {},
   "source": [
    "### Creating nDarry\n",
    "An ndarray can be created from a list or tuple object."
   ]
  },
  {
   "cell_type": "code",
   "execution_count": 1,
   "metadata": {},
   "outputs": [
    {
     "name": "stdout",
     "output_type": "stream",
     "text": [
      "[1. 2. 3. 4. 5.]\n",
      "#Dimensions = 1\n",
      "Dimension = (5,)\n",
      "Size = 5\n",
      "Array type = float64\n",
      "[[1 2]\n",
      " [3 4]\n",
      " [5 6]\n",
      " [7 8]]\n",
      "#Dimensions = 2\n",
      "Dimension = (4, 2)\n",
      "Size = 8\n",
      "Array type = int64\n",
      "[['1' 'a' '3.0']\n",
      " ['2' 'b' '3.5']]\n",
      "#Dimensions = 2\n",
      "Dimension = (2, 3)\n",
      "Size = 6\n"
     ]
    }
   ],
   "source": [
    "import numpy as np\n",
    "\n",
    "oneDim = np.array([1.0,2,3,4,5])   # a 1-dimensional array (vector)\n",
    "print(oneDim)\n",
    "print(\"#Dimensions =\", oneDim.ndim)\n",
    "print(\"Dimension =\", oneDim.shape)\n",
    "print(\"Size =\", oneDim.size)\n",
    "print(\"Array type =\", oneDim.dtype)\n",
    "\n",
    "twoDim = np.array([[1,2],[3,4],[5,6],[7,8]])  # a two-dimensional array (matrix)\n",
    "print(twoDim)\n",
    "print(\"#Dimensions =\", twoDim.ndim)\n",
    "print(\"Dimension =\", twoDim.shape)\n",
    "print(\"Size =\", twoDim.size)\n",
    "print(\"Array type =\", twoDim.dtype)\n",
    "\n",
    "arrFromTuple = np.array([(1,'a',3.0),(2,'b',3.5)])  # create ndarray from tuple\n",
    "print(arrFromTuple)\n",
    "print(\"#Dimensions =\", arrFromTuple.ndim)\n",
    "print(\"Dimension =\", arrFromTuple.shape)\n",
    "print(\"Size =\", arrFromTuple.size)"
   ]
  },
  {
   "cell_type": "markdown",
   "metadata": {},
   "source": [
    "There are several built-in functions in numpy that can be used to create ndarrays"
   ]
  },
  {
   "cell_type": "code",
   "execution_count": 2,
   "metadata": {},
   "outputs": [
    {
     "name": "stdout",
     "output_type": "stream",
     "text": [
      "[0.30894311 0.61841661 0.45312401 0.30907364 0.45470692]\n",
      "[ 0.233616    0.65143711 -1.79450411 -0.01764178 -0.83320269]\n",
      "[-10  -8  -6  -4  -2   0   2   4   6   8]\n",
      "[[ 0  1  2  3]\n",
      " [ 4  5  6  7]\n",
      " [ 8  9 10 11]]\n",
      "[0.         0.11111111 0.22222222 0.33333333 0.44444444 0.55555556\n",
      " 0.66666667 0.77777778 0.88888889 1.        ]\n",
      "[1.e-03 1.e-02 1.e-01 1.e+00 1.e+01 1.e+02 1.e+03]\n"
     ]
    }
   ],
   "source": [
    "print(np.random.rand(5))      # random numbers from a uniform distribution between [0,1]\n",
    "print(np.random.randn(5))     # random numbers from a normal distribution\n",
    "print(np.arange(-10,10,2))    # similar to range, but returns ndarray instead of list\n",
    "print(np.arange(12).reshape(3,4))  # reshape to a matrix\n",
    "print(np.linspace(0,1,10))    # split interval [0,1] into 10 equally separated values\n",
    "print(np.logspace(-3,3,7))    # create ndarray with values from 10^-3 to 10^3"
   ]
  },
  {
   "cell_type": "code",
   "execution_count": 3,
   "metadata": {},
   "outputs": [
    {
     "name": "stdout",
     "output_type": "stream",
     "text": [
      "[[0. 0. 0.]\n",
      " [0. 0. 0.]]\n",
      "[[1. 1.]\n",
      " [1. 1.]\n",
      " [1. 1.]]\n",
      "[[1. 0. 0.]\n",
      " [0. 1. 0.]\n",
      " [0. 0. 1.]]\n"
     ]
    }
   ],
   "source": [
    "print(np.zeros((2,3)))        # a matrix of zeros\n",
    "print(np.ones((3,2)))         # a matrix of ones\n",
    "print(np.eye(3))              # a 3 x 3 identity matrix"
   ]
  },
  {
   "cell_type": "markdown",
   "metadata": {},
   "source": [
    "### Element-wise Operations\n",
    "You can apply standard operators such as addition and multiplication on each element of the ndarray."
   ]
  },
  {
   "cell_type": "code",
   "execution_count": 4,
   "metadata": {},
   "outputs": [
    {
     "name": "stdout",
     "output_type": "stream",
     "text": [
      "[2 3 4 5 6]\n",
      "[0 1 2 3 4]\n",
      "[ 2  4  6  8 10]\n",
      "[0 1 1 2 2]\n",
      "[ 1  4  9 16 25]\n",
      "[1 0 1 0 1]\n",
      "[1.         0.5        0.33333333 0.25       0.2       ]\n"
     ]
    }
   ],
   "source": [
    "x = np.array([1,2,3,4,5])\n",
    "\n",
    "print(x + 1)      # addition\n",
    "print(x - 1)      # subtraction\n",
    "print(x * 2)      # multiplication\n",
    "print(x // 2)     # integer division\n",
    "print(x ** 2)     # square\n",
    "print(x % 2)      # modulo  \n",
    "print(1 / x)      # division"
   ]
  },
  {
   "cell_type": "code",
   "execution_count": 5,
   "metadata": {},
   "outputs": [
    {
     "name": "stdout",
     "output_type": "stream",
     "text": [
      "[ 3  6  9 12 15]\n",
      "[1 2 3 4 5]\n",
      "[ 2  8 18 32 50]\n",
      "[2. 2. 2. 2. 2.]\n",
      "[2 2 2 2 2]\n",
      "[     2     16    216   4096 100000]\n"
     ]
    }
   ],
   "source": [
    "x = np.array([2,4,6,8,10])\n",
    "y = np.array([1,2,3,4,5])\n",
    "\n",
    "print(x + y)\n",
    "print(x - y)\n",
    "print(x * y)\n",
    "print(x / y)\n",
    "print(x // y)\n",
    "print(x ** y)"
   ]
  },
  {
   "cell_type": "markdown",
   "metadata": {},
   "source": [
    "### Indexing and Slicing\n",
    "There are various ways to select certain elements with an ndarray."
   ]
  },
  {
   "cell_type": "code",
   "execution_count": 6,
   "metadata": {},
   "outputs": [
    {
     "name": "stdout",
     "output_type": "stream",
     "text": [
      "[-5 -4 -3 -2 -1  0  1  2  3  4]\n",
      "[-2 -1]\n",
      "[1000 1000]\n",
      "[  -5   -4   -3 1000 1000    0    1    2    3    4]\n",
      "[1000 1000]\n",
      "[500 500]\n",
      "[  -5   -4   -3 1000 1000    0    1    2    3    4]\n"
     ]
    }
   ],
   "source": [
    "x = np.arange(-5,5)  # x is a -5 inclusive to +5 inclusive array\n",
    "print(x)\n",
    "\n",
    "y = x[3:5]     # y is a slice, i.e., pointer to a subarray in x\n",
    "print(y)\n",
    "y[:] = 1000    # modifying the value of y will change x\n",
    "print(y)\n",
    "print(x)\n",
    "\n",
    "z = x[3:5].copy()   # makes a copy of the subarray\n",
    "print(z)\n",
    "z[:] = 500          # modifying the value of z will not affect x\n",
    "print(z)\n",
    "print(x)"
   ]
  },
  {
   "cell_type": "code",
   "execution_count": 7,
   "metadata": {},
   "outputs": [
    {
     "name": "stdout",
     "output_type": "stream",
     "text": [
      "[[1, 2, 3, 4], [5, 6, 7, 8], [9, 10, 11, 12]]\n",
      "[9, 10, 11, 12]\n",
      "[9, 10, 11, 12]\n",
      "[[ 1  2  3  4]\n",
      " [ 5  6  7  8]\n",
      " [ 9 10 11 12]]\n",
      "[ 9 10 11 12]\n",
      "[ 9 10 11 12]\n",
      "[ 9 10 11 12]\n",
      "[ 3  7 11]\n",
      "[[3 4]\n",
      " [7 8]]\n"
     ]
    }
   ],
   "source": [
    "my2dlist = [[1,2,3,4],[5,6,7,8],[9,10,11,12]]   # a 2-dim list\n",
    "print(my2dlist)\n",
    "print(my2dlist[2])        # access the third sublist\n",
    "print(my2dlist[:][2])     # can't access third element of each sublist\n",
    "# print(my2dlist[:,2])    # this will cause syntax error\n",
    "\n",
    "my2darr = np.array(my2dlist)\n",
    "print(my2darr)\n",
    "print(my2darr[2][:])      # access the third row\n",
    "print(my2darr[2,:])       # access the third row\n",
    "print(my2darr[:][2])      # access the third row (similar to 2d list)\n",
    "print(my2darr[:,2])       # access the third column\n",
    "print(my2darr[:2,2:])     # access the first two rows & last two columns"
   ]
  },
  {
   "cell_type": "markdown",
   "metadata": {},
   "source": [
    "ndarray also supports boolean indexing."
   ]
  },
  {
   "cell_type": "code",
   "execution_count": 8,
   "metadata": {},
   "outputs": [
    {
     "name": "stdout",
     "output_type": "stream",
     "text": [
      "[[ 1  2  3  4]\n",
      " [ 5  6  7  8]\n",
      " [ 9 10 11 12]]\n",
      "[ 3  6  9 12] <class 'numpy.ndarray'>\n",
      "[[ 9 12]]\n"
     ]
    }
   ],
   "source": [
    "my2darr = np.arange(1,13,1).reshape(3,4) # my2darr is a 1 inclusive to 13 inclusive array that reshapes int a 3 by 4 matrix\n",
    "print(my2darr)\n",
    "\n",
    "divBy3 = my2darr[my2darr % 3 == 0] # returns an arrray of values in the matrix that are divisible by 3\n",
    "print(divBy3, type(divBy3))\n",
    "\n",
    "divBy3LastRow = my2darr[2:, my2darr[2,:] % 3 == 0] # returns an array of the values in the matrix that are divisible by 3 and are in the last row\n",
    "print(divBy3LastRow)"
   ]
  },
  {
   "cell_type": "markdown",
   "metadata": {},
   "source": [
    "More indexing examples."
   ]
  },
  {
   "cell_type": "code",
   "execution_count": 9,
   "metadata": {},
   "outputs": [
    {
     "name": "stdout",
     "output_type": "stream",
     "text": [
      "[[ 1  2  3]\n",
      " [ 4  5  6]\n",
      " [ 7  8  9]\n",
      " [10 11 12]]\n",
      "[[ 7  8  9]\n",
      " [ 4  5  6]\n",
      " [ 1  2  3]\n",
      " [10 11 12]]\n",
      "[ 1  3  4  8 12]\n"
     ]
    }
   ],
   "source": [
    "my2darr = np.arange(1,13,1).reshape(4,3)\n",
    "print(my2darr)\n",
    "\n",
    "indices = [2,1,0,3]    # selected row indices\n",
    "print(my2darr[indices,:])\n",
    "\n",
    "rowIndex = [0,0,1,2,3]     # row index into my2darr\n",
    "columnIndex = [0,2,0,1,2]  # column index into my2darr\n",
    "print(my2darr[rowIndex,columnIndex])"
   ]
  },
  {
   "cell_type": "markdown",
   "metadata": {},
   "source": [
    "### Numpy Arithmetic and Statistical Functions\n",
    "There are many built-in mathematical functions available for manipulating elements of nd-array."
   ]
  },
  {
   "cell_type": "code",
   "execution_count": 10,
   "metadata": {},
   "outputs": [
    {
     "name": "stdout",
     "output_type": "stream",
     "text": [
      "[-1.4  0.4 -3.2  2.5  3.4]\n",
      "[1.4 0.4 3.2 2.5 3.4]\n",
      "[1.18321596 0.63245553 1.78885438 1.58113883 1.84390889]\n",
      "[-1.  1. -1.  1.  1.]\n",
      "[ 0.24659696  1.4918247   0.0407622  12.18249396 29.96410005]\n",
      "[-3.2 -1.4  0.4  2.5  3.4]\n"
     ]
    }
   ],
   "source": [
    "y = np.array([-1.4, 0.4, -3.2, 2.5, 3.4])    # generate a random vector\n",
    "print(y)\n",
    "\n",
    "print(np.abs(y))          # convert to absolute values\n",
    "print(np.sqrt(abs(y)))    # apply square root to each element\n",
    "print(np.sign(y))         # get the sign of each element\n",
    "print(np.exp(y))          # apply exponentiation\n",
    "print(np.sort(y))         # sort array"
   ]
  },
  {
   "cell_type": "code",
   "execution_count": 11,
   "metadata": {},
   "outputs": [
    {
     "name": "stdout",
     "output_type": "stream",
     "text": [
      "[-2 -1  0  1  2]\n",
      "[-0.59050403  0.97652588 -2.50399073 -0.8924342  -0.44747671]\n",
      "[-2.59050403 -0.02347412 -2.50399073  0.1075658   1.55252329]\n",
      "[-1.40949597 -1.97652588  2.50399073  1.8924342   2.44747671]\n",
      "[ 1.18100805 -0.97652588 -0.         -0.8924342  -0.89495341]\n",
      "[ 3.3869371  -1.0240384  -0.         -1.1205308  -4.46950638]\n",
      "[-0.59050403  0.97652588  0.          1.          2.        ]\n"
     ]
    }
   ],
   "source": [
    "x = np.arange(-2,3)\n",
    "y = np.random.randn(5)\n",
    "print(x)\n",
    "print(y)\n",
    "\n",
    "print(np.add(x,y))           # element-wise addition       x + y\n",
    "print(np.subtract(x,y))      # element-wise subtraction    x - y\n",
    "print(np.multiply(x,y))      # element-wise multiplication x * y\n",
    "print(np.divide(x,y))        # element-wise division       x / y\n",
    "print(np.maximum(x,y))       # element-wise maximum        max(x,y)"
   ]
  },
  {
   "cell_type": "code",
   "execution_count": 12,
   "metadata": {},
   "outputs": [
    {
     "name": "stdout",
     "output_type": "stream",
     "text": [
      "[-3.2 -1.4  0.4  2.5  3.4]\n",
      "Min = -3.2\n",
      "Max = 3.4\n",
      "Average = 0.34000000000000014\n",
      "Std deviation = 2.432776191925595\n",
      "Sum = 1.7000000000000006\n"
     ]
    }
   ],
   "source": [
    "y = np.array([-3.2, -1.4, 0.4, 2.5, 3.4])    # generate a random vector\n",
    "print(y)\n",
    "\n",
    "print(\"Min =\", np.min(y))             # min \n",
    "print(\"Max =\", np.max(y))             # max \n",
    "print(\"Average =\", np.mean(y))        # mean/average\n",
    "print(\"Std deviation =\", np.std(y))   # standard deviation\n",
    "print(\"Sum =\", np.sum(y))             # sum "
   ]
  },
  {
   "cell_type": "markdown",
   "metadata": {},
   "source": [
    "### Numpy linear algebra\n",
    "Numpy provides many functions to support linear algebra operations."
   ]
  },
  {
   "cell_type": "code",
   "execution_count": 13,
   "metadata": {},
   "outputs": [
    {
     "name": "stdout",
     "output_type": "stream",
     "text": [
      "[[-1.08776058  0.11493938  0.06606491]\n",
      " [-0.21580666  0.9894184  -0.27767992]]\n",
      "[[-1.08776058 -0.21580666]\n",
      " [ 0.11493938  0.9894184 ]\n",
      " [ 0.06606491 -0.27767992]]\n",
      "[ 0.16202233 -0.8391565  -2.40530644]\n",
      "[-0.43159999 -0.19733707]\n",
      "[[1.2007987  0.33012421]\n",
      " [0.33012421 1.10262743]]\n",
      "[[ 1.22979558 -0.3385496  -0.01193763]\n",
      " [-0.3385496   0.99215983 -0.26714817]\n",
      " [-0.01193763 -0.26714817  0.08147071]]\n"
     ]
    }
   ],
   "source": [
    "X = np.random.randn(2,3)    # create a 2 x 3 random matrix\n",
    "print(X)\n",
    "print(X.T)             # matrix transpose operation X^T\n",
    "\n",
    "y = np.random.randn(3) # random vector \n",
    "print(y)\n",
    "print(X.dot(y))        # matrix-vector multiplication  X * y\n",
    "print(X.dot(X.T))      # matrix-matrix multiplication  X * X^T\n",
    "print(X.T.dot(X))      # matrix-matrix multiplication  X^T * X"
   ]
  },
  {
   "cell_type": "code",
   "execution_count": 14,
   "metadata": {},
   "outputs": [
    {
     "name": "stdout",
     "output_type": "stream",
     "text": [
      "[[ 0.66872389  0.14653826 -0.64020963]\n",
      " [-1.39965613 -0.13303435  0.67657268]\n",
      " [-1.29946407  0.04188277  0.06062432]\n",
      " [ 0.66707398 -1.12495672 -1.14828373]\n",
      " [ 1.14027765  0.28199371  0.97341435]]\n",
      "[[ 0.18732911 -0.07034138  0.09732246]\n",
      " [-0.07034138  1.31743468 -0.60645918]\n",
      " [ 0.09732246 -0.60645918  0.62088441]]\n",
      "12.972659367711456\n",
      "[6.33213734 3.43482908 0.59644933]\n",
      "[[ 0.91403065 -0.39893033  0.07350213]\n",
      " [-0.14307927 -0.48661269 -0.86182157]\n",
      " [-0.37957383 -0.7772147   0.50185757]]\n"
     ]
    }
   ],
   "source": [
    "X = np.random.randn(5,3)\n",
    "print(X)\n",
    "\n",
    "C = X.T.dot(X)               # C = X^T * X is a square matrix\n",
    "\n",
    "invC = np.linalg.inv(C)      # inverse of a square matrix\n",
    "print(invC)\n",
    "detC = np.linalg.det(C)      # determinant of a square matrix\n",
    "print(detC)\n",
    "S, U = np.linalg.eig(C)      # eigenvalue S and eigenvector U of a square matrix\n",
    "print(S)\n",
    "print(U)"
   ]
  },
  {
   "cell_type": "markdown",
   "metadata": {},
   "source": [
    "## Pandas"
   ]
  },
  {
   "cell_type": "markdown",
   "metadata": {},
   "source": [
    "Pandas provide two convenient data structures for storing and manipulating data--Series and DataFrame. A Series is similar to a one-dimensional array whereas a DataFrame is more similar to representing a matrix or a spreadsheet table."
   ]
  },
  {
   "cell_type": "markdown",
   "metadata": {},
   "source": [
    "### Series\n",
    "A Series object consists of a one-dimensional array of values, whose elements can be referenced using an index array. A Series object can be created from a list, a numpy array, or a Python dictionary. You can apply most of the numpy functions on the Series object"
   ]
  },
  {
   "cell_type": "code",
   "execution_count": 15,
   "metadata": {},
   "outputs": [
    {
     "name": "stdout",
     "output_type": "stream",
     "text": [
      "0    3.1\n",
      "1    2.4\n",
      "2   -1.7\n",
      "3    0.2\n",
      "4   -2.9\n",
      "5    4.5\n",
      "dtype: float64\n",
      "Values= [ 3.1  2.4 -1.7  0.2 -2.9  4.5]\n",
      "Index= RangeIndex(start=0, stop=6, step=1)\n"
     ]
    }
   ],
   "source": [
    "from pandas import Series\n",
    "\n",
    "s = Series([3.1, 2.4, -1.7, 0.2, -2.9, 4.5])   # creating a series from a list\n",
    "print(s)\n",
    "print('Values=', s.values)     # display values of the Series\n",
    "print('Index=', s.index)       # display indices of the Series"
   ]
  },
  {
   "cell_type": "code",
   "execution_count": 16,
   "metadata": {},
   "outputs": [
    {
     "name": "stdout",
     "output_type": "stream",
     "text": [
      "0    0.470256\n",
      "1    0.977459\n",
      "2    0.265094\n",
      "3    0.824874\n",
      "4    0.584827\n",
      "5    0.319752\n",
      "dtype: float64\n",
      "Values= [0.47025635 0.97745872 0.26509403 0.82487427 0.58482679 0.31975202]\n",
      "Index= RangeIndex(start=0, stop=6, step=1)\n"
     ]
    }
   ],
   "source": [
    "import numpy as np\n",
    "\n",
    "s2 = Series(np.random.randn(6))  # creating a series from a numpy ndarray\n",
    "print(s2)\n",
    "print('Values=', s2.values)   # display values of the Series\n",
    "print('Index=', s2.index)     # display indices of the Series"
   ]
  },
  {
   "cell_type": "code",
   "execution_count": 17,
   "metadata": {},
   "outputs": [
    {
     "name": "stdout",
     "output_type": "stream",
     "text": [
      "Jan 1    1.2\n",
      "Jan 2    2.5\n",
      "Jan 3   -2.2\n",
      "Jan 4    3.1\n",
      "Jan 5   -0.8\n",
      "Jan 6   -3.2\n",
      "dtype: float64\n",
      "Values= [ 1.2  2.5 -2.2  3.1 -0.8 -3.2]\n",
      "Index= Index(['Jan 1', 'Jan 2', 'Jan 3', 'Jan 4', 'Jan 5', 'Jan 6'], dtype='object')\n"
     ]
    }
   ],
   "source": [
    "s3 = Series([1.2,2.5,-2.2,3.1,-0.8,-3.2], \n",
    "            index = ['Jan 1','Jan 2','Jan 3','Jan 4','Jan 5','Jan 6',])\n",
    "print(s3)\n",
    "print('Values=', s3.values)   # display values of the Series\n",
    "print('Index=', s3.index)     # display indices of the Series"
   ]
  },
  {
   "cell_type": "code",
   "execution_count": 18,
   "metadata": {},
   "outputs": [
    {
     "name": "stdout",
     "output_type": "stream",
     "text": [
      "MI       Lansing\n",
      "CA    Sacramento\n",
      "TX        Austin\n",
      "MN       St Paul\n",
      "dtype: object\n",
      "Values= ['Lansing' 'Sacramento' 'Austin' 'St Paul']\n",
      "Index= Index(['MI', 'CA', 'TX', 'MN'], dtype='object')\n"
     ]
    }
   ],
   "source": [
    "capitals = {'MI': 'Lansing', 'CA': 'Sacramento', 'TX': 'Austin', 'MN': 'St Paul'}\n",
    "\n",
    "s4 = Series(capitals)   # creating a series from dictionary object\n",
    "print(s4)\n",
    "print('Values=', s4.values)   # display values of the Series\n",
    "print('Index=', s4.index)     # display indices of the Series"
   ]
  },
  {
   "cell_type": "code",
   "execution_count": 19,
   "metadata": {},
   "outputs": [
    {
     "name": "stdout",
     "output_type": "stream",
     "text": [
      "Jan 1    1.2\n",
      "Jan 2    2.5\n",
      "Jan 3   -2.2\n",
      "Jan 4    3.1\n",
      "Jan 5   -0.8\n",
      "Jan 6   -3.2\n",
      "dtype: float64\n",
      "\n",
      "s3[2]= -2.2\n",
      "s3['Jan 3']= -2.2\n",
      "\n",
      "s3[1:3]=\n",
      "Jan 2    2.5\n",
      "Jan 3   -2.2\n",
      "dtype: float64\n",
      "s3.iloc([1:3])=\n",
      "Jan 2    2.5\n",
      "Jan 3   -2.2\n",
      "dtype: float64\n"
     ]
    }
   ],
   "source": [
    "s3 = Series([1.2,2.5,-2.2,3.1,-0.8,-3.2], \n",
    "            index = ['Jan 1','Jan 2','Jan 3','Jan 4','Jan 5','Jan 6',])\n",
    "print(s3)\n",
    "\n",
    "# Accessing elements of a Series\n",
    "\n",
    "print('\\ns3[2]=', s3[2])        # display third element of the Series\n",
    "print('s3[\\'Jan 3\\']=', s3['Jan 3'])   # indexing element of a Series \n",
    "\n",
    "print('\\ns3[1:3]=')             # display a slice of the Series\n",
    "print(s3[1:3])\n",
    "print('s3.iloc([1:3])=')      # display a slice of the Series\n",
    "print(s3.iloc[1:3])"
   ]
  },
  {
   "cell_type": "code",
   "execution_count": 20,
   "metadata": {},
   "outputs": [
    {
     "name": "stdout",
     "output_type": "stream",
     "text": [
      "shape = (6,)\n",
      "size = 6\n"
     ]
    }
   ],
   "source": [
    "print('shape =', s3.shape)  # get the dimension of the Series\n",
    "print('size =', s3.size)    # get the # of elements of the Series"
   ]
  },
  {
   "cell_type": "code",
   "execution_count": 21,
   "metadata": {},
   "outputs": [
    {
     "name": "stdout",
     "output_type": "stream",
     "text": [
      "Jan 1    1.2\n",
      "Jan 2    2.5\n",
      "Jan 4    3.1\n",
      "dtype: float64\n"
     ]
    }
   ],
   "source": [
    "print(s3[s3 > 0])   # applying filter to select elements of the Series"
   ]
  },
  {
   "cell_type": "code",
   "execution_count": 22,
   "metadata": {},
   "outputs": [
    {
     "name": "stdout",
     "output_type": "stream",
     "text": [
      "Jan 1    5.2\n",
      "Jan 2    6.5\n",
      "Jan 3    1.8\n",
      "Jan 4    7.1\n",
      "Jan 5    3.2\n",
      "Jan 6    0.8\n",
      "dtype: float64\n",
      "Jan 1    0.300\n",
      "Jan 2    0.625\n",
      "Jan 3   -0.550\n",
      "Jan 4    0.775\n",
      "Jan 5   -0.200\n",
      "Jan 6   -0.800\n",
      "dtype: float64\n"
     ]
    }
   ],
   "source": [
    "print(s3 + 4)       # applying scalar operation on a numeric Series\n",
    "print(s3 / 4)    "
   ]
  },
  {
   "cell_type": "code",
   "execution_count": 23,
   "metadata": {},
   "outputs": [
    {
     "name": "stdout",
     "output_type": "stream",
     "text": [
      "Jan 1    1.648659\n",
      "Jan 2    1.871802\n",
      "Jan 3    0.587787\n",
      "Jan 4    1.960095\n",
      "Jan 5    1.163151\n",
      "Jan 6   -0.223144\n",
      "dtype: float64\n"
     ]
    }
   ],
   "source": [
    "print(np.log(s3 + 4))    # applying numpy math functions to a numeric Series"
   ]
  },
  {
   "cell_type": "markdown",
   "metadata": {},
   "source": [
    "### DataFrame\n",
    "A DataFrame object is a tabular, spreadsheet-like data structure containing a collection of columns, each of which can be of different types (numeric, string, boolean, etc). Unlike Series, a DataFrame has distinct row and column indices. There are many ways to create a DataFrame object (e.g., from a dictionary, list of tuples, or even numpy's ndarrays)."
   ]
  },
  {
   "cell_type": "code",
   "execution_count": 24,
   "metadata": {},
   "outputs": [
    {
     "data": {
      "text/html": [
       "<div>\n",
       "<style scoped>\n",
       "    .dataframe tbody tr th:only-of-type {\n",
       "        vertical-align: middle;\n",
       "    }\n",
       "\n",
       "    .dataframe tbody tr th {\n",
       "        vertical-align: top;\n",
       "    }\n",
       "\n",
       "    .dataframe thead th {\n",
       "        text-align: right;\n",
       "    }\n",
       "</style>\n",
       "<table border=\"1\" class=\"dataframe\">\n",
       "  <thead>\n",
       "    <tr style=\"text-align: right;\">\n",
       "      <th></th>\n",
       "      <th>make</th>\n",
       "      <th>model</th>\n",
       "      <th>MSRP</th>\n",
       "    </tr>\n",
       "  </thead>\n",
       "  <tbody>\n",
       "    <tr>\n",
       "      <th>0</th>\n",
       "      <td>Ford</td>\n",
       "      <td>Taurus</td>\n",
       "      <td>27595</td>\n",
       "    </tr>\n",
       "    <tr>\n",
       "      <th>1</th>\n",
       "      <td>Honda</td>\n",
       "      <td>Accord</td>\n",
       "      <td>23570</td>\n",
       "    </tr>\n",
       "    <tr>\n",
       "      <th>2</th>\n",
       "      <td>Toyota</td>\n",
       "      <td>Camry</td>\n",
       "      <td>23495</td>\n",
       "    </tr>\n",
       "    <tr>\n",
       "      <th>3</th>\n",
       "      <td>Tesla</td>\n",
       "      <td>Model S</td>\n",
       "      <td>68000</td>\n",
       "    </tr>\n",
       "  </tbody>\n",
       "</table>\n",
       "</div>"
      ],
      "text/plain": [
       "     make    model   MSRP\n",
       "0    Ford   Taurus  27595\n",
       "1   Honda   Accord  23570\n",
       "2  Toyota    Camry  23495\n",
       "3   Tesla  Model S  68000"
      ]
     },
     "execution_count": 24,
     "metadata": {},
     "output_type": "execute_result"
    }
   ],
   "source": [
    "from pandas import DataFrame\n",
    "\n",
    "cars = {'make': ['Ford', 'Honda', 'Toyota', 'Tesla'],\n",
    "       'model': ['Taurus', 'Accord', 'Camry', 'Model S'],\n",
    "       'MSRP': [27595, 23570, 23495, 68000]}          \n",
    "carData = DataFrame(cars)   # creating DataFrame from dictionary\n",
    "carData                     # display the table"
   ]
  },
  {
   "cell_type": "code",
   "execution_count": 25,
   "metadata": {},
   "outputs": [
    {
     "name": "stdout",
     "output_type": "stream",
     "text": [
      "RangeIndex(start=0, stop=4, step=1)\n",
      "Index(['make', 'model', 'MSRP'], dtype='object')\n"
     ]
    }
   ],
   "source": [
    "print(carData.index)       # print the row indices\n",
    "print(carData.columns)     # print the column indices"
   ]
  },
  {
   "cell_type": "code",
   "execution_count": 26,
   "metadata": {},
   "outputs": [
    {
     "data": {
      "text/html": [
       "<div>\n",
       "<style scoped>\n",
       "    .dataframe tbody tr th:only-of-type {\n",
       "        vertical-align: middle;\n",
       "    }\n",
       "\n",
       "    .dataframe tbody tr th {\n",
       "        vertical-align: top;\n",
       "    }\n",
       "\n",
       "    .dataframe thead th {\n",
       "        text-align: right;\n",
       "    }\n",
       "</style>\n",
       "<table border=\"1\" class=\"dataframe\">\n",
       "  <thead>\n",
       "    <tr style=\"text-align: right;\">\n",
       "      <th></th>\n",
       "      <th>make</th>\n",
       "      <th>model</th>\n",
       "      <th>MSRP</th>\n",
       "      <th>year</th>\n",
       "      <th>dealership</th>\n",
       "    </tr>\n",
       "  </thead>\n",
       "  <tbody>\n",
       "    <tr>\n",
       "      <th>1</th>\n",
       "      <td>Ford</td>\n",
       "      <td>Taurus</td>\n",
       "      <td>27595</td>\n",
       "      <td>2018</td>\n",
       "      <td>Courtesy Ford</td>\n",
       "    </tr>\n",
       "    <tr>\n",
       "      <th>2</th>\n",
       "      <td>Honda</td>\n",
       "      <td>Accord</td>\n",
       "      <td>23570</td>\n",
       "      <td>2018</td>\n",
       "      <td>Capital Honda</td>\n",
       "    </tr>\n",
       "    <tr>\n",
       "      <th>3</th>\n",
       "      <td>Toyota</td>\n",
       "      <td>Camry</td>\n",
       "      <td>23495</td>\n",
       "      <td>2018</td>\n",
       "      <td>Spartan Toyota</td>\n",
       "    </tr>\n",
       "    <tr>\n",
       "      <th>4</th>\n",
       "      <td>Tesla</td>\n",
       "      <td>Model S</td>\n",
       "      <td>68000</td>\n",
       "      <td>2018</td>\n",
       "      <td>N/A</td>\n",
       "    </tr>\n",
       "  </tbody>\n",
       "</table>\n",
       "</div>"
      ],
      "text/plain": [
       "     make    model   MSRP  year      dealership\n",
       "1    Ford   Taurus  27595  2018   Courtesy Ford\n",
       "2   Honda   Accord  23570  2018   Capital Honda\n",
       "3  Toyota    Camry  23495  2018  Spartan Toyota\n",
       "4   Tesla  Model S  68000  2018             N/A"
      ]
     },
     "execution_count": 26,
     "metadata": {},
     "output_type": "execute_result"
    }
   ],
   "source": [
    "carData2 = DataFrame(cars, index = [1,2,3,4])  # change the row index\n",
    "carData2['year'] = 2018    # add column with same value\n",
    "carData2['dealership'] = ['Courtesy Ford','Capital Honda','Spartan Toyota','N/A']\n",
    "carData2                   # display table"
   ]
  },
  {
   "cell_type": "markdown",
   "metadata": {},
   "source": [
    "Creating DataFrame from a list of tuples."
   ]
  },
  {
   "cell_type": "code",
   "execution_count": 27,
   "metadata": {},
   "outputs": [
    {
     "data": {
      "text/html": [
       "<div>\n",
       "<style scoped>\n",
       "    .dataframe tbody tr th:only-of-type {\n",
       "        vertical-align: middle;\n",
       "    }\n",
       "\n",
       "    .dataframe tbody tr th {\n",
       "        vertical-align: top;\n",
       "    }\n",
       "\n",
       "    .dataframe thead th {\n",
       "        text-align: right;\n",
       "    }\n",
       "</style>\n",
       "<table border=\"1\" class=\"dataframe\">\n",
       "  <thead>\n",
       "    <tr style=\"text-align: right;\">\n",
       "      <th></th>\n",
       "      <th>year</th>\n",
       "      <th>temp</th>\n",
       "      <th>precip</th>\n",
       "    </tr>\n",
       "  </thead>\n",
       "  <tbody>\n",
       "    <tr>\n",
       "      <th>0</th>\n",
       "      <td>2011</td>\n",
       "      <td>45.1</td>\n",
       "      <td>32.4</td>\n",
       "    </tr>\n",
       "    <tr>\n",
       "      <th>1</th>\n",
       "      <td>2012</td>\n",
       "      <td>42.4</td>\n",
       "      <td>34.5</td>\n",
       "    </tr>\n",
       "    <tr>\n",
       "      <th>2</th>\n",
       "      <td>2013</td>\n",
       "      <td>47.2</td>\n",
       "      <td>39.2</td>\n",
       "    </tr>\n",
       "    <tr>\n",
       "      <th>3</th>\n",
       "      <td>2014</td>\n",
       "      <td>44.2</td>\n",
       "      <td>31.4</td>\n",
       "    </tr>\n",
       "    <tr>\n",
       "      <th>4</th>\n",
       "      <td>2015</td>\n",
       "      <td>39.9</td>\n",
       "      <td>29.8</td>\n",
       "    </tr>\n",
       "    <tr>\n",
       "      <th>5</th>\n",
       "      <td>2016</td>\n",
       "      <td>41.5</td>\n",
       "      <td>36.7</td>\n",
       "    </tr>\n",
       "  </tbody>\n",
       "</table>\n",
       "</div>"
      ],
      "text/plain": [
       "   year  temp  precip\n",
       "0  2011  45.1    32.4\n",
       "1  2012  42.4    34.5\n",
       "2  2013  47.2    39.2\n",
       "3  2014  44.2    31.4\n",
       "4  2015  39.9    29.8\n",
       "5  2016  41.5    36.7"
      ]
     },
     "execution_count": 27,
     "metadata": {},
     "output_type": "execute_result"
    }
   ],
   "source": [
    "tuplelist = [(2011,45.1,32.4),(2012,42.4,34.5),(2013,47.2,39.2),\n",
    "              (2014,44.2,31.4),(2015,39.9,29.8),(2016,41.5,36.7)]\n",
    "columnNames = ['year','temp','precip']\n",
    "weatherData = DataFrame(tuplelist, columns=columnNames)\n",
    "weatherData"
   ]
  },
  {
   "cell_type": "markdown",
   "metadata": {},
   "source": [
    "Creating DataFrame from numpy ndarray"
   ]
  },
  {
   "cell_type": "code",
   "execution_count": 28,
   "metadata": {},
   "outputs": [
    {
     "data": {
      "text/html": [
       "<div>\n",
       "<style scoped>\n",
       "    .dataframe tbody tr th:only-of-type {\n",
       "        vertical-align: middle;\n",
       "    }\n",
       "\n",
       "    .dataframe tbody tr th {\n",
       "        vertical-align: top;\n",
       "    }\n",
       "\n",
       "    .dataframe thead th {\n",
       "        text-align: right;\n",
       "    }\n",
       "</style>\n",
       "<table border=\"1\" class=\"dataframe\">\n",
       "  <thead>\n",
       "    <tr style=\"text-align: right;\">\n",
       "      <th></th>\n",
       "      <th>x1</th>\n",
       "      <th>x2</th>\n",
       "      <th>x3</th>\n",
       "    </tr>\n",
       "  </thead>\n",
       "  <tbody>\n",
       "    <tr>\n",
       "      <th>0</th>\n",
       "      <td>-2.192228</td>\n",
       "      <td>1.061318</td>\n",
       "      <td>-0.745500</td>\n",
       "    </tr>\n",
       "    <tr>\n",
       "      <th>1</th>\n",
       "      <td>-0.385163</td>\n",
       "      <td>0.911505</td>\n",
       "      <td>1.293675</td>\n",
       "    </tr>\n",
       "    <tr>\n",
       "      <th>2</th>\n",
       "      <td>-0.151104</td>\n",
       "      <td>-1.032676</td>\n",
       "      <td>-1.191483</td>\n",
       "    </tr>\n",
       "    <tr>\n",
       "      <th>3</th>\n",
       "      <td>1.888876</td>\n",
       "      <td>-0.903004</td>\n",
       "      <td>0.510118</td>\n",
       "    </tr>\n",
       "    <tr>\n",
       "      <th>4</th>\n",
       "      <td>0.437452</td>\n",
       "      <td>-0.228007</td>\n",
       "      <td>0.024654</td>\n",
       "    </tr>\n",
       "  </tbody>\n",
       "</table>\n",
       "</div>"
      ],
      "text/plain": [
       "         x1        x2        x3\n",
       "0 -2.192228  1.061318 -0.745500\n",
       "1 -0.385163  0.911505  1.293675\n",
       "2 -0.151104 -1.032676 -1.191483\n",
       "3  1.888876 -0.903004  0.510118\n",
       "4  0.437452 -0.228007  0.024654"
      ]
     },
     "execution_count": 28,
     "metadata": {},
     "output_type": "execute_result"
    }
   ],
   "source": [
    "import numpy as np\n",
    "\n",
    "npdata = np.random.randn(5,3)  # create a 5 by 3 random matrix\n",
    "columnNames = ['x1','x2','x3']\n",
    "data = DataFrame(npdata, columns=columnNames)\n",
    "data"
   ]
  },
  {
   "cell_type": "markdown",
   "metadata": {},
   "source": [
    "The elements of a DataFrame can be accessed in many ways."
   ]
  },
  {
   "cell_type": "code",
   "execution_count": 29,
   "metadata": {},
   "outputs": [
    {
     "name": "stdout",
     "output_type": "stream",
     "text": [
      "0    1.061318\n",
      "1    0.911505\n",
      "2   -1.032676\n",
      "3   -0.903004\n",
      "4   -0.228007\n",
      "Name: x2, dtype: float64\n",
      "<class 'pandas.core.series.Series'>\n"
     ]
    }
   ],
   "source": [
    "# accessing an entire column will return a Series object\n",
    "\n",
    "print(data['x2'])\n",
    "print(type(data['x2']))"
   ]
  },
  {
   "cell_type": "code",
   "execution_count": 30,
   "metadata": {},
   "outputs": [
    {
     "name": "stdout",
     "output_type": "stream",
     "text": [
      "Row 3 of data table:\n",
      "x1   -0.151104\n",
      "x2   -1.032676\n",
      "x3   -1.191483\n",
      "Name: 2, dtype: float64\n",
      "<class 'pandas.core.series.Series'>\n",
      "\n",
      "Row 3 of car data table:\n",
      "make                  Toyota\n",
      "model                  Camry\n",
      "MSRP                   23495\n",
      "year                    2018\n",
      "dealership    Spartan Toyota\n",
      "Name: 3, dtype: object\n"
     ]
    }
   ],
   "source": [
    "# accessing an entire row will return a Series object\n",
    "\n",
    "print('Row 3 of data table:')\n",
    "print(data.iloc[2])       # returns the 3rd row of DataFrame\n",
    "print(type(data.iloc[2]))\n",
    "print('\\nRow 3 of car data table:')\n",
    "print(carData2.iloc[2])   # row contains objects of different types"
   ]
  },
  {
   "cell_type": "code",
   "execution_count": 31,
   "metadata": {},
   "outputs": [
    {
     "name": "stdout",
     "output_type": "stream",
     "text": [
      "23570\n",
      "Taurus\n",
      "carData2.iloc[1:3,1:3]=\n",
      "    model   MSRP\n",
      "2  Accord  23570\n",
      "3   Camry  23495\n"
     ]
    }
   ],
   "source": [
    "# accessing a specific element of the DataFrame\n",
    "\n",
    "print(carData2.iloc[1,2])      # retrieving second row, third column\n",
    "print(carData2.loc[1,'model']) # retrieving second row, column named 'model'\n",
    "\n",
    "# accessing a slice of the DataFrame\n",
    "\n",
    "print('carData2.iloc[1:3,1:3]=')\n",
    "print(carData2.iloc[1:3,1:3])"
   ]
  },
  {
   "cell_type": "code",
   "execution_count": 32,
   "metadata": {},
   "outputs": [
    {
     "name": "stdout",
     "output_type": "stream",
     "text": [
      "carData2.shape = (4, 5)\n",
      "carData2.size = 20\n"
     ]
    }
   ],
   "source": [
    "print('carData2.shape =', carData2.shape)\n",
    "print('carData2.size =', carData2.size)"
   ]
  },
  {
   "cell_type": "code",
   "execution_count": 33,
   "metadata": {},
   "outputs": [
    {
     "name": "stdout",
     "output_type": "stream",
     "text": [
      "carData2[carData2.MSRP > 25000]\n",
      "    make    model   MSRP  year     dealership\n",
      "1   Ford   Taurus  27595  2018  Courtesy Ford\n",
      "4  Tesla  Model S  68000  2018            N/A\n"
     ]
    }
   ],
   "source": [
    "# selection and filtering\n",
    "\n",
    "print('carData2[carData2.MSRP > 25000]')  \n",
    "print(carData2[carData2.MSRP > 25000])"
   ]
  },
  {
   "cell_type": "markdown",
   "metadata": {},
   "source": [
    "### Arithmetic Operations"
   ]
  },
  {
   "cell_type": "code",
   "execution_count": 34,
   "metadata": {},
   "outputs": [
    {
     "name": "stdout",
     "output_type": "stream",
     "text": [
      "         x1        x2        x3\n",
      "0 -2.192228  1.061318 -0.745500\n",
      "1 -0.385163  0.911505  1.293675\n",
      "2 -0.151104 -1.032676 -1.191483\n",
      "3  1.888876 -0.903004  0.510118\n",
      "4  0.437452 -0.228007  0.024654\n",
      "Data transpose operation:\n",
      "           0         1         2         3         4\n",
      "x1 -2.192228 -0.385163 -0.151104  1.888876  0.437452\n",
      "x2  1.061318  0.911505 -1.032676 -0.903004 -0.228007\n",
      "x3 -0.745500  1.293675 -1.191483  0.510118  0.024654\n",
      "Addition:\n",
      "         x1        x2        x3\n",
      "0  1.807772  5.061318  3.254500\n",
      "1  3.614837  4.911505  5.293675\n",
      "2  3.848896  2.967324  2.808517\n",
      "3  5.888876  3.096996  4.510118\n",
      "4  4.437452  3.771993  4.024654\n",
      "Multiplication:\n",
      "          x1         x2         x3\n",
      "0 -21.922282  10.613179  -7.455003\n",
      "1  -3.851626   9.115052  12.936747\n",
      "2  -1.511037 -10.326758 -11.914829\n",
      "3  18.888758  -9.030042   5.101183\n",
      "4   4.374525  -2.280075   0.246537\n"
     ]
    }
   ],
   "source": [
    "print(data)\n",
    "\n",
    "print('Data transpose operation:')\n",
    "print(data.T)    # transpose operation\n",
    "\n",
    "print('Addition:')\n",
    "print(data + 4)    # addition operation\n",
    "\n",
    "print('Multiplication:')\n",
    "print(data * 10)   # multiplication operation"
   ]
  },
  {
   "cell_type": "code",
   "execution_count": 35,
   "metadata": {},
   "outputs": [
    {
     "name": "stdout",
     "output_type": "stream",
     "text": [
      "data =\n",
      "         x1        x2        x3\n",
      "0 -2.192228  1.061318 -0.745500\n",
      "1 -0.385163  0.911505  1.293675\n",
      "2 -0.151104 -1.032676 -1.191483\n",
      "3  1.888876 -0.903004  0.510118\n",
      "4  0.437452 -0.228007  0.024654\n",
      "\n",
      "data2 =\n",
      "         x1        x2        x3\n",
      "0  2.511265  0.763306 -1.243319\n",
      "1  0.449863 -1.761913 -0.431200\n",
      "2 -0.489539 -0.419417  0.204387\n",
      "3 -0.043092  0.422485  0.546546\n",
      "4  0.932873 -1.827372  1.068928\n",
      "\n",
      "data + data2 = \n",
      "         x1        x2        x3\n",
      "0  0.319037  1.824624 -1.988819\n",
      "1  0.064700 -0.850407  0.862475\n",
      "2 -0.640643 -1.452093 -0.987096\n",
      "3  1.845784 -0.480519  1.056665\n",
      "4  1.370326 -2.055380  1.093581\n",
      "\n",
      "data * data2 = \n",
      "         x1        x2        x3\n",
      "0 -5.505266  0.810110  0.926895\n",
      "1 -0.173270 -1.605992 -0.557832\n",
      "2  0.073971  0.433122 -0.243523\n",
      "3 -0.081395 -0.381506  0.278803\n",
      "4  0.408088  0.416655  0.026353\n"
     ]
    }
   ],
   "source": [
    "print('data =')\n",
    "print(data)\n",
    "\n",
    "columnNames = ['x1','x2','x3']\n",
    "data2 = DataFrame(np.random.randn(5,3), columns=columnNames)\n",
    "print('\\ndata2 =')\n",
    "print(data2)\n",
    "\n",
    "print('\\ndata + data2 = ')\n",
    "print(data.add(data2))\n",
    "\n",
    "print('\\ndata * data2 = ')\n",
    "print(data.mul(data2))"
   ]
  },
  {
   "cell_type": "code",
   "execution_count": 36,
   "metadata": {},
   "outputs": [
    {
     "name": "stdout",
     "output_type": "stream",
     "text": [
      "         x1        x2        x3\n",
      "0  2.192228  1.061318  0.745500\n",
      "1  0.385163  0.911505  1.293675\n",
      "2  0.151104  1.032676  1.191483\n",
      "3  1.888876  0.903004  0.510118\n",
      "4  0.437452  0.228007  0.024654\n",
      "\n",
      "Maximum value per column:\n",
      "x1    1.888876\n",
      "x2    1.061318\n",
      "x3    1.293675\n",
      "dtype: float64\n",
      "\n",
      "Minimum value per row:\n",
      "0   -2.192228\n",
      "1   -0.385163\n",
      "2   -1.191483\n",
      "3   -0.903004\n",
      "4   -0.228007\n",
      "dtype: float64\n",
      "\n",
      "Sum of values per column:\n",
      "x1   -0.402166\n",
      "x2   -0.190864\n",
      "x3   -0.108537\n",
      "dtype: float64\n",
      "\n",
      "Average value per row:\n",
      "0   -0.625470\n",
      "1    0.606672\n",
      "2   -0.791754\n",
      "3    0.498663\n",
      "4    0.078033\n",
      "dtype: float64\n",
      "\n",
      "Calculate max - min per column\n",
      "x1    4.081104\n",
      "x2    2.093994\n",
      "x3    2.485158\n",
      "dtype: float64\n",
      "\n",
      "Calculate max - min per row\n",
      "0    3.253546\n",
      "1    1.678837\n",
      "2    1.040379\n",
      "3    2.791880\n",
      "4    0.665460\n",
      "dtype: float64\n"
     ]
    }
   ],
   "source": [
    "print(data.abs())    # get the absolute value for each element\n",
    "\n",
    "print('\\nMaximum value per column:')\n",
    "print(data.max())    # get maximum value for each column\n",
    "\n",
    "print('\\nMinimum value per row:')\n",
    "print(data.min(axis=1))    # get minimum value for each row\n",
    "\n",
    "print('\\nSum of values per column:')\n",
    "print(data.sum())    # get sum of values for each column\n",
    "\n",
    "print('\\nAverage value per row:')\n",
    "print(data.mean(axis=1))    # get average value for each row\n",
    "\n",
    "print('\\nCalculate max - min per column')\n",
    "f = lambda x: x.max() - x.min()\n",
    "print(data.apply(f))\n",
    "\n",
    "print('\\nCalculate max - min per row')\n",
    "f = lambda x: x.max() - x.min()\n",
    "print(data.apply(f, axis=1))"
   ]
  },
  {
   "cell_type": "markdown",
   "metadata": {},
   "source": [
    "### Plotting Series and DataFrame\n",
    "There are built-in functions you can use to plot the data stored in a Series or a DataFrame."
   ]
  },
  {
   "cell_type": "code",
   "execution_count": 38,
   "metadata": {},
   "outputs": [
    {
     "data": {
      "text/plain": [
       "<matplotlib.axes._subplots.AxesSubplot at 0x7fd840eada90>"
      ]
     },
     "execution_count": 38,
     "metadata": {},
     "output_type": "execute_result"
    },
    {
     "data": {
      "image/png": "[encoded data removed]",
      "text/plain": [
       "<Figure size 432x288 with 1 Axes>"
      ]
     },
     "metadata": {
      "needs_background": "light"
     },
     "output_type": "display_data"
    }
   ],
   "source": [
    "%matplotlib inline\n",
    "\n",
    "s3 = Series([1.2,2.5,-2.2,3.1,-0.8,-3.2,1.4], \n",
    "            index = ['Jan 1','Jan 2','Jan 3','Jan 4','Jan 5','Jan 6','Jan 7'])\n",
    "s3.plot(kind='line', title='Line plot')\n"
   ]
  },
  {
   "cell_type": "code",
   "execution_count": 39,
   "metadata": {},
   "outputs": [
    {
     "data": {
      "text/plain": [
       "<matplotlib.axes._subplots.AxesSubplot at 0x7fd840f812e0>"
      ]
     },
     "execution_count": 39,
     "metadata": {},
     "output_type": "execute_result"
    },
    {
     "data": {
      "image/png": "[encoded data removed]",
      "text/plain": [
       "<Figure size 432x288 with 1 Axes>"
      ]
     },
     "metadata": {
      "needs_background": "light"
     },
     "output_type": "display_data"
    }
   ],
   "source": [
    "s3.plot(kind='bar', title='Bar plot')"
   ]
  },
  {
   "cell_type": "code",
   "execution_count": 40,
   "metadata": {},
   "outputs": [
    {
     "data": {
      "text/plain": [
       "<matplotlib.axes._subplots.AxesSubplot at 0x7fd841072730>"
      ]
     },
     "execution_count": 40,
     "metadata": {},
     "output_type": "execute_result"
    },
    {
     "data": {
      "image/png": "[encoded data removed]",
      "text/plain": [
       "<Figure size 432x288 with 1 Axes>"
      ]
     },
     "metadata": {
      "needs_background": "light"
     },
     "output_type": "display_data"
    }
   ],
   "source": [
    "s3.plot(kind='hist', title = 'Histogram')"
   ]
  },
  {
   "cell_type": "code",
   "execution_count": 41,
   "metadata": {},
   "outputs": [
    {
     "data": {
      "text/plain": [
       "<matplotlib.axes._subplots.AxesSubplot at 0x7fd841176550>"
      ]
     },
     "execution_count": 41,
     "metadata": {},
     "output_type": "execute_result"
    },
    {
     "data": {
      "image/png": "[encoded data removed]",
      "text/plain": [
       "<Figure size 432x288 with 1 Axes>"
      ]
     },
     "metadata": {
      "needs_background": "light"
     },
     "output_type": "display_data"
    }
   ],
   "source": [
    "tuplelist = [(2011,45.1,32.4),(2012,42.4,34.5),(2013,47.2,39.2),\n",
    "              (2014,44.2,31.4),(2015,39.9,29.8),(2016,41.5,36.7)]\n",
    "columnNames = ['year','temp','precip']\n",
    "weatherData = DataFrame(tuplelist, columns=columnNames)\n",
    "weatherData[['temp','precip']].plot(kind='box', title='Box plot')"
   ]
  },
  {
   "cell_type": "code",
   "execution_count": 43,
   "metadata": {},
   "outputs": [
    {
     "data": {
      "image/png": "[encoded data removed]",
      "text/plain": [
       "<Figure size 432x288 with 1 Axes>"
      ]
     },
     "metadata": {},
     "output_type": "display_data"
    }
   ],
   "source": [
    "%matplotlib inline\n",
    "import matplotlib.pyplot as plt\n",
    "plt.style.use('seaborn-whitegrid')\n",
    "import numpy as np\n",
    "\n",
    "rng = np.random.RandomState(0)\n",
    "for marker in ['o', '.', ',', 'x', '+', 'v', '^', '<', '>', 's', 'd']:\n",
    "    plt.plot(rng.rand(5), rng.rand(5), marker,\n",
    "             label=\"marker='{0}'\".format(marker))\n",
    "plt.legend(numpoints=1)\n",
    "plt.xlim(0, 1.8);"
   ]
  }
 ],
 "metadata": {
  "kernelspec": {
   "display_name": "Python 3 (ipykernel)",
   "language": "python",
   "name": "python3"
  },
  "language_info": {
   "codemirror_mode": {
    "name": "ipython",
    "version": 3
   },
   "file_extension": ".py",
   "mimetype": "text/x-python",
   "name": "python",
   "nbconvert_exporter": "python",
   "pygments_lexer": "ipython3",
   "version": "3.8.8"
  }
 },
 "nbformat": 4,
 "nbformat_minor": 4
}
