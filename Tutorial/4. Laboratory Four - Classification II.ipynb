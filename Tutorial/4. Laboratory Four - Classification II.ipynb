{
 "cells": [
  {
   "cell_type": "markdown",
   "metadata": {},
   "source": [
    "# Laboratory Four - Classification II"
   ]
  },
  {
   "cell_type": "code",
   "execution_count": 3,
   "metadata": {},
   "outputs": [
    {
     "data": {
      "text/html": [
       "<div>\n",
       "<style scoped>\n",
       "    .dataframe tbody tr th:only-of-type {\n",
       "        vertical-align: middle;\n",
       "    }\n",
       "\n",
       "    .dataframe tbody tr th {\n",
       "        vertical-align: top;\n",
       "    }\n",
       "\n",
       "    .dataframe thead th {\n",
       "        text-align: right;\n",
       "    }\n",
       "</style>\n",
       "<table border=\"1\" class=\"dataframe\">\n",
       "  <thead>\n",
       "    <tr style=\"text-align: right;\">\n",
       "      <th></th>\n",
       "      <th>Status of existing checking account</th>\n",
       "      <th>Duration in month</th>\n",
       "      <th>Credit history</th>\n",
       "      <th>Purpose</th>\n",
       "      <th>Credit amount</th>\n",
       "      <th>Savings account/bonds</th>\n",
       "      <th>Present employment since</th>\n",
       "      <th>Installment rate in percentage of disposable income</th>\n",
       "      <th>Personal status and sex</th>\n",
       "      <th>Other debtors / guarantors</th>\n",
       "      <th>...</th>\n",
       "      <th>Property</th>\n",
       "      <th>Age in years</th>\n",
       "      <th>Other installment plans</th>\n",
       "      <th>Housing</th>\n",
       "      <th>Number of existing credits at this bank</th>\n",
       "      <th>Job</th>\n",
       "      <th>Number of people being liable to provide maintenance for</th>\n",
       "      <th>Telephone</th>\n",
       "      <th>foreign worker</th>\n",
       "      <th>Class</th>\n",
       "    </tr>\n",
       "  </thead>\n",
       "  <tbody>\n",
       "    <tr>\n",
       "      <th>0</th>\n",
       "      <td>A11</td>\n",
       "      <td>6</td>\n",
       "      <td>A34</td>\n",
       "      <td>A43</td>\n",
       "      <td>1169</td>\n",
       "      <td>A65</td>\n",
       "      <td>A75</td>\n",
       "      <td>4</td>\n",
       "      <td>A93</td>\n",
       "      <td>A101</td>\n",
       "      <td>...</td>\n",
       "      <td>A121</td>\n",
       "      <td>67</td>\n",
       "      <td>A143</td>\n",
       "      <td>A152</td>\n",
       "      <td>2</td>\n",
       "      <td>A173</td>\n",
       "      <td>1</td>\n",
       "      <td>A192</td>\n",
       "      <td>A201</td>\n",
       "      <td>1</td>\n",
       "    </tr>\n",
       "    <tr>\n",
       "      <th>1</th>\n",
       "      <td>A12</td>\n",
       "      <td>48</td>\n",
       "      <td>A32</td>\n",
       "      <td>A43</td>\n",
       "      <td>5951</td>\n",
       "      <td>A61</td>\n",
       "      <td>A73</td>\n",
       "      <td>2</td>\n",
       "      <td>A92</td>\n",
       "      <td>A101</td>\n",
       "      <td>...</td>\n",
       "      <td>A121</td>\n",
       "      <td>22</td>\n",
       "      <td>A143</td>\n",
       "      <td>A152</td>\n",
       "      <td>1</td>\n",
       "      <td>A173</td>\n",
       "      <td>1</td>\n",
       "      <td>A191</td>\n",
       "      <td>A201</td>\n",
       "      <td>2</td>\n",
       "    </tr>\n",
       "    <tr>\n",
       "      <th>2</th>\n",
       "      <td>A14</td>\n",
       "      <td>12</td>\n",
       "      <td>A34</td>\n",
       "      <td>A46</td>\n",
       "      <td>2096</td>\n",
       "      <td>A61</td>\n",
       "      <td>A74</td>\n",
       "      <td>2</td>\n",
       "      <td>A93</td>\n",
       "      <td>A101</td>\n",
       "      <td>...</td>\n",
       "      <td>A121</td>\n",
       "      <td>49</td>\n",
       "      <td>A143</td>\n",
       "      <td>A152</td>\n",
       "      <td>1</td>\n",
       "      <td>A172</td>\n",
       "      <td>2</td>\n",
       "      <td>A191</td>\n",
       "      <td>A201</td>\n",
       "      <td>1</td>\n",
       "    </tr>\n",
       "    <tr>\n",
       "      <th>3</th>\n",
       "      <td>A11</td>\n",
       "      <td>42</td>\n",
       "      <td>A32</td>\n",
       "      <td>A42</td>\n",
       "      <td>7882</td>\n",
       "      <td>A61</td>\n",
       "      <td>A74</td>\n",
       "      <td>2</td>\n",
       "      <td>A93</td>\n",
       "      <td>A103</td>\n",
       "      <td>...</td>\n",
       "      <td>A122</td>\n",
       "      <td>45</td>\n",
       "      <td>A143</td>\n",
       "      <td>A153</td>\n",
       "      <td>1</td>\n",
       "      <td>A173</td>\n",
       "      <td>2</td>\n",
       "      <td>A191</td>\n",
       "      <td>A201</td>\n",
       "      <td>1</td>\n",
       "    </tr>\n",
       "    <tr>\n",
       "      <th>4</th>\n",
       "      <td>A11</td>\n",
       "      <td>24</td>\n",
       "      <td>A33</td>\n",
       "      <td>A40</td>\n",
       "      <td>4870</td>\n",
       "      <td>A61</td>\n",
       "      <td>A73</td>\n",
       "      <td>3</td>\n",
       "      <td>A93</td>\n",
       "      <td>A101</td>\n",
       "      <td>...</td>\n",
       "      <td>A124</td>\n",
       "      <td>53</td>\n",
       "      <td>A143</td>\n",
       "      <td>A153</td>\n",
       "      <td>2</td>\n",
       "      <td>A173</td>\n",
       "      <td>2</td>\n",
       "      <td>A191</td>\n",
       "      <td>A201</td>\n",
       "      <td>2</td>\n",
       "    </tr>\n",
       "  </tbody>\n",
       "</table>\n",
       "<p>5 rows × 21 columns</p>\n",
       "</div>"
      ],
      "text/plain": [
       "  Status of existing checking account Duration in month Credit history  \\\n",
       "0                                 A11                 6            A34   \n",
       "1                                 A12                48            A32   \n",
       "2                                 A14                12            A34   \n",
       "3                                 A11                42            A32   \n",
       "4                                 A11                24            A33   \n",
       "\n",
       "  Purpose Credit amount Savings account/bonds Present employment since  \\\n",
       "0     A43          1169                   A65                      A75   \n",
       "1     A43          5951                   A61                      A73   \n",
       "2     A46          2096                   A61                      A74   \n",
       "3     A42          7882                   A61                      A74   \n",
       "4     A40          4870                   A61                      A73   \n",
       "\n",
       "  Installment rate in percentage of disposable income Personal status and sex  \\\n",
       "0                                                  4                      A93   \n",
       "1                                                  2                      A92   \n",
       "2                                                  2                      A93   \n",
       "3                                                  2                      A93   \n",
       "4                                                  3                      A93   \n",
       "\n",
       "  Other debtors / guarantors  ... Property Age in years  \\\n",
       "0                       A101  ...     A121           67   \n",
       "1                       A101  ...     A121           22   \n",
       "2                       A101  ...     A121           49   \n",
       "3                       A103  ...     A122           45   \n",
       "4                       A101  ...     A124           53   \n",
       "\n",
       "  Other installment plans Housing Number of existing credits at this bank  \\\n",
       "0                    A143    A152                                       2   \n",
       "1                    A143    A152                                       1   \n",
       "2                    A143    A152                                       1   \n",
       "3                    A143    A153                                       1   \n",
       "4                    A143    A153                                       2   \n",
       "\n",
       "    Job Number of people being liable to provide maintenance for Telephone  \\\n",
       "0  A173                                                  1            A192   \n",
       "1  A173                                                  1            A191   \n",
       "2  A172                                                  2            A191   \n",
       "3  A173                                                  2            A191   \n",
       "4  A173                                                  2            A191   \n",
       "\n",
       "  foreign worker Class  \n",
       "0           A201     1  \n",
       "1           A201     2  \n",
       "2           A201     1  \n",
       "3           A201     1  \n",
       "4           A201     2  \n",
       "\n",
       "[5 rows x 21 columns]"
      ]
     },
     "execution_count": 3,
     "metadata": {},
     "output_type": "execute_result"
    }
   ],
   "source": [
    "import pandas as pd\n",
    "\n",
    "firstdata = pd.read_csv('/Users/adunifekizitookoye/Desktop/CSCI 4150U - Data Mining/german.data',\n",
    "                   header=None)\n",
    "firstdata.columns = ['first']\n",
    "split_data = firstdata['first'].str.split(\" \")\n",
    "data = split_data.to_list()\n",
    "names = ['Status of existing checking account','Duration in month','Credit history',\n",
    "         'Purpose','Credit amount','Savings account/bonds','Present employment since',\n",
    "         'Installment rate in percentage of disposable income','Personal status and sex','Other debtors / guarantors',\n",
    "         'Present residence since','Property','Age in years','Other installment plans','Housing',\n",
    "         'Number of existing credits at this bank','Job',\n",
    "         'Number of people being liable to provide maintenance for','Telephone','foreign worker', 'Class']\n",
    "new_df = pd.DataFrame(data, columns=names)\n",
    "new_df.head()"
   ]
  },
  {
   "cell_type": "code",
   "execution_count": 4,
   "metadata": {},
   "outputs": [],
   "source": [
    "from sklearn import tree\n",
    "Y = new_df['Class'].astype(str).astype(int)\n",
    "X1 = new_df['Duration in month'].astype(str).astype(int)\n",
    "X2 = new_df['Credit amount'].astype(str).astype(int)\n",
    "X3 = [X1,X2]\n",
    "X = pd.DataFrame(X3)"
   ]
  },
  {
   "cell_type": "markdown",
   "metadata": {},
   "source": [
    "### Part I (inference efficiency):\n",
    "\n",
    "#### Build a k-NN model and compare its efficiency with another model:\n",
    "\n",
    "    1. Perform preprocessing (normalization) if it is necessary"
   ]
  },
  {
   "cell_type": "code",
   "execution_count": 5,
   "metadata": {},
   "outputs": [
    {
     "data": {
      "text/html": [
       "<div>\n",
       "<style scoped>\n",
       "    .dataframe tbody tr th:only-of-type {\n",
       "        vertical-align: middle;\n",
       "    }\n",
       "\n",
       "    .dataframe tbody tr th {\n",
       "        vertical-align: top;\n",
       "    }\n",
       "\n",
       "    .dataframe thead th {\n",
       "        text-align: right;\n",
       "    }\n",
       "</style>\n",
       "<table border=\"1\" class=\"dataframe\">\n",
       "  <thead>\n",
       "    <tr style=\"text-align: right;\">\n",
       "      <th></th>\n",
       "      <th>col1</th>\n",
       "      <th>col2</th>\n",
       "      <th>col3</th>\n",
       "      <th>col4</th>\n",
       "      <th>col5</th>\n",
       "      <th>col6</th>\n",
       "      <th>col7</th>\n",
       "      <th>col8</th>\n",
       "      <th>col9</th>\n",
       "      <th>col10</th>\n",
       "      <th>...</th>\n",
       "      <th>col13</th>\n",
       "      <th>col14</th>\n",
       "      <th>col15</th>\n",
       "      <th>col16</th>\n",
       "      <th>col17</th>\n",
       "      <th>col18</th>\n",
       "      <th>col19</th>\n",
       "      <th>col20</th>\n",
       "      <th>col21</th>\n",
       "      <th>Class</th>\n",
       "    </tr>\n",
       "  </thead>\n",
       "  <tbody>\n",
       "    <tr>\n",
       "      <th>0</th>\n",
       "      <td>-1.23</td>\n",
       "      <td>-1.56</td>\n",
       "      <td>-1.75</td>\n",
       "      <td>-0.28</td>\n",
       "      <td>0.60</td>\n",
       "      <td>2.22</td>\n",
       "      <td>0.85</td>\n",
       "      <td>0.21</td>\n",
       "      <td>-0.20</td>\n",
       "      <td>0.89</td>\n",
       "      <td>...</td>\n",
       "      <td>2.89</td>\n",
       "      <td>7.75</td>\n",
       "      <td>4.59</td>\n",
       "      <td>3.15</td>\n",
       "      <td>5.12</td>\n",
       "      <td>3.32</td>\n",
       "      <td>1.20</td>\n",
       "      <td>0.24</td>\n",
       "      <td>-0.56</td>\n",
       "      <td>2</td>\n",
       "    </tr>\n",
       "    <tr>\n",
       "      <th>1</th>\n",
       "      <td>-0.69</td>\n",
       "      <td>2.43</td>\n",
       "      <td>0.61</td>\n",
       "      <td>2.08</td>\n",
       "      <td>2.30</td>\n",
       "      <td>3.25</td>\n",
       "      <td>5.52</td>\n",
       "      <td>4.55</td>\n",
       "      <td>2.97</td>\n",
       "      <td>2.22</td>\n",
       "      <td>...</td>\n",
       "      <td>1.24</td>\n",
       "      <td>1.89</td>\n",
       "      <td>1.88</td>\n",
       "      <td>-1.34</td>\n",
       "      <td>0.83</td>\n",
       "      <td>1.41</td>\n",
       "      <td>1.78</td>\n",
       "      <td>0.60</td>\n",
       "      <td>2.42</td>\n",
       "      <td>1</td>\n",
       "    </tr>\n",
       "    <tr>\n",
       "      <th>2</th>\n",
       "      <td>-0.12</td>\n",
       "      <td>-0.94</td>\n",
       "      <td>1.29</td>\n",
       "      <td>2.59</td>\n",
       "      <td>2.42</td>\n",
       "      <td>3.55</td>\n",
       "      <td>4.94</td>\n",
       "      <td>3.25</td>\n",
       "      <td>1.90</td>\n",
       "      <td>2.07</td>\n",
       "      <td>...</td>\n",
       "      <td>2.50</td>\n",
       "      <td>0.12</td>\n",
       "      <td>1.41</td>\n",
       "      <td>2.78</td>\n",
       "      <td>0.64</td>\n",
       "      <td>0.62</td>\n",
       "      <td>-0.01</td>\n",
       "      <td>-0.79</td>\n",
       "      <td>-0.12</td>\n",
       "      <td>0</td>\n",
       "    </tr>\n",
       "    <tr>\n",
       "      <th>3</th>\n",
       "      <td>0.86</td>\n",
       "      <td>0.29</td>\n",
       "      <td>2.19</td>\n",
       "      <td>-0.02</td>\n",
       "      <td>1.13</td>\n",
       "      <td>2.51</td>\n",
       "      <td>2.37</td>\n",
       "      <td>5.45</td>\n",
       "      <td>5.45</td>\n",
       "      <td>4.84</td>\n",
       "      <td>...</td>\n",
       "      <td>2.58</td>\n",
       "      <td>1.40</td>\n",
       "      <td>1.24</td>\n",
       "      <td>1.41</td>\n",
       "      <td>1.07</td>\n",
       "      <td>-1.43</td>\n",
       "      <td>2.84</td>\n",
       "      <td>-1.18</td>\n",
       "      <td>1.12</td>\n",
       "      <td>1</td>\n",
       "    </tr>\n",
       "    <tr>\n",
       "      <th>4</th>\n",
       "      <td>1.16</td>\n",
       "      <td>0.37</td>\n",
       "      <td>0.40</td>\n",
       "      <td>-0.59</td>\n",
       "      <td>2.66</td>\n",
       "      <td>1.00</td>\n",
       "      <td>2.69</td>\n",
       "      <td>4.06</td>\n",
       "      <td>5.34</td>\n",
       "      <td>3.53</td>\n",
       "      <td>...</td>\n",
       "      <td>4.30</td>\n",
       "      <td>1.84</td>\n",
       "      <td>1.73</td>\n",
       "      <td>0.21</td>\n",
       "      <td>-0.18</td>\n",
       "      <td>0.13</td>\n",
       "      <td>-0.21</td>\n",
       "      <td>-0.80</td>\n",
       "      <td>-0.68</td>\n",
       "      <td>1</td>\n",
       "    </tr>\n",
       "  </tbody>\n",
       "</table>\n",
       "<p>5 rows × 22 columns</p>\n",
       "</div>"
      ],
      "text/plain": [
       "   col1  col2  col3  col4  col5  col6  col7  col8  col9  col10  ...  col13  \\\n",
       "0 -1.23 -1.56 -1.75 -0.28  0.60  2.22  0.85  0.21 -0.20   0.89  ...   2.89   \n",
       "1 -0.69  2.43  0.61  2.08  2.30  3.25  5.52  4.55  2.97   2.22  ...   1.24   \n",
       "2 -0.12 -0.94  1.29  2.59  2.42  3.55  4.94  3.25  1.90   2.07  ...   2.50   \n",
       "3  0.86  0.29  2.19 -0.02  1.13  2.51  2.37  5.45  5.45   4.84  ...   2.58   \n",
       "4  1.16  0.37  0.40 -0.59  2.66  1.00  2.69  4.06  5.34   3.53  ...   4.30   \n",
       "\n",
       "   col14  col15  col16  col17  col18  col19  col20  col21  Class  \n",
       "0   7.75   4.59   3.15   5.12   3.32   1.20   0.24  -0.56      2  \n",
       "1   1.89   1.88  -1.34   0.83   1.41   1.78   0.60   2.42      1  \n",
       "2   0.12   1.41   2.78   0.64   0.62  -0.01  -0.79  -0.12      0  \n",
       "3   1.40   1.24   1.41   1.07  -1.43   2.84  -1.18   1.12      1  \n",
       "4   1.84   1.73   0.21  -0.18   0.13  -0.21  -0.80  -0.68      1  \n",
       "\n",
       "[5 rows x 22 columns]"
      ]
     },
     "execution_count": 5,
     "metadata": {},
     "output_type": "execute_result"
    }
   ],
   "source": [
    "import pandas as pd\n",
    "data2 = pd.read_csv('/Users/adunifekizitookoye/Desktop/CSCI 4150U - Data Mining/waveform.data', header=None)\n",
    "data2.columns = ['col1', 'col2', 'col3','col4','col5','col6','col7','col8','col9','col10','col11','col12','col13','col14',\n",
    "                'col15','col16','col17','col18','col19','col20','col21','Class']\n",
    "data2.head()"
   ]
  },
  {
   "cell_type": "code",
   "execution_count": 6,
   "metadata": {},
   "outputs": [],
   "source": [
    "Y2 = data2['Class']\n",
    "X2 = data2.drop(['Class'], axis=1)"
   ]
  },
  {
   "cell_type": "markdown",
   "metadata": {},
   "source": [
    "    2. Build k-NN classifier for k = 5: \n",
    "        A. Use 90% of data set for the train and 10 % for the test, and perform evaluation 5 times, the final results are the average of trails performance."
   ]
  },
  {
   "cell_type": "code",
   "execution_count": 7,
   "metadata": {},
   "outputs": [],
   "source": [
    "#Part 1, 2B - '...final average F-measure'\n",
    "import matplotlib.pyplot as plt\n",
    "%matplotlib inline\n",
    "######################################\n",
    "#training and test set creation\n",
    "######################################\n",
    "\n",
    "from sklearn.neighbors import KNeighborsClassifier\n",
    "from sklearn.model_selection import train_test_split\n",
    "\n",
    "import time\n",
    "\n",
    "from sklearn import tree\n",
    "from sklearn.metrics import recall_score\n",
    "\n",
    "\n",
    "indexes = [0,1,2,3,4]\n",
    "#indexes = [1,2,3,4,5]\n",
    "trainScore = [] #recall\n",
    "testScore = [] #recall\n",
    "\n",
    "start_time = time.time()\n",
    "for indexe in indexes:\n",
    "    #test_size = 0.1 since using 10% of daata for the test\n",
    "    X_train, X_test, Y_train, Y_test = train_test_split(X2, Y2, test_size=0.9)\n",
    "    clf = KNeighborsClassifier(n_neighbors=5, metric = 'minkowski', p=2)\n",
    "    clf.fit(X_train, Y_train)\n",
    "    Y_predTrain = clf.predict(X_train)\n",
    "    Y_predTest = clf.predict(X_test)\n",
    "trainScore = [] #recall\n",
    "testScore = [] #recall\n",
    "\n",
    "end_time = time.time()"
   ]
  },
  {
   "cell_type": "markdown",
   "metadata": {},
   "source": [
    "        B. You should report the final average F-measure, and average test time (the time that model spends to predict labels for the test dataset instances). Use bar charts."
   ]
  },
  {
   "cell_type": "code",
   "execution_count": 8,
   "metadata": {},
   "outputs": [
    {
     "name": "stdout",
     "output_type": "stream",
     "text": [
      "training set F-measure 0.8868\n",
      "testing set F-measure 0.8092\n",
      "Time spent to predict: 0.9534008502960205\n"
     ]
    },
    {
     "data": {
      "text/plain": [
       "Text(0, 0.5, 'F-measure')"
      ]
     },
     "execution_count": 8,
     "metadata": {},
     "output_type": "execute_result"
    },
    {
     "data": {
      "image/png": "[encoded data removed]",
      "text/plain": [
       "<Figure size 432x288 with 1 Axes>"
      ]
     },
     "metadata": {
      "needs_background": "light"
     },
     "output_type": "display_data"
    }
   ],
   "source": [
    "import numpy as np\n",
    "print(\"training set F-measure\", np.mean(trainScore))\n",
    "print(\"testing set F-measure\", np.mean(testScore))\n",
    "\n",
    "print(\"Time spent to predict:\",end_time-start_time)\n",
    "time = end_time - start_time\n",
    "plt.plot(indexes, trainScore, 'ro-', indexes, testScore, 'bv--')\n",
    "plt.legend(['Training F-measure', 'Test F-measure'])\n",
    "plt.xlabel('Indexes')\n",
    "plt.ylabel('F-measure')"
   ]
  },
  {
   "cell_type": "markdown",
   "metadata": {},
   "source": [
    "    3. Repeat (2) for building a decision tree classifier (use default parameters). \n"
   ]
  },
  {
   "cell_type": "code",
   "execution_count": 10,
   "metadata": {},
   "outputs": [],
   "source": [
    "import matplotlib.pyplot as plt\n",
    "%matplotlib inline\n",
    "######################################\n",
    "#training and test set creation\n",
    "######################################\n",
    "\n",
    "from sklearn.model_selection import train_test_split\n",
    "\n",
    "import time\n",
    "\n",
    "from sklearn import tree\n",
    "from sklearn.metrics import recall_score\n",
    "\n",
    "indexes = [0,1,2,3,4] #using default parameters from step 2\n",
    "trainScore1 = [] #recall\n",
    "testScore1 = [] #recall\n",
    "\n",
    "start_time1 = time.time()\n",
    "for i in range(4):\n",
    "    X_train, X_test, Y_train, Y_test, = train_test_split(X.T, Y, test_size=0.9)\n",
    "    clf = tree.DecisionTreeClassifier(max_depth=3)\n",
    "    clf.fit(X_train, Y_train)\n",
    "    Y_predTrain = clf.predict(X_train)\n",
    "    Y_predTest = clf.predict(X_test)\n",
    "    trainScore1.append(recall_score(Y_train, Y_predTrain))\n",
    "    testScore1.append(recall_score(Y_test, Y_predTest))\n",
    "end_time1 = time.time()"
   ]
  },
  {
   "cell_type": "code",
   "execution_count": 8,
   "metadata": {},
   "outputs": [
    {
     "name": "stdout",
     "output_type": "stream",
     "text": [
      "training set F-measure 1.0\n",
      "testing set F-measure 0.8614649681528663\n"
     ]
    },
    {
     "data": {
      "text/plain": [
       "Text(0, 0.5, 'F-measure')"
      ]
     },
     "execution_count": 8,
     "metadata": {},
     "output_type": "execute_result"
    },
    {
     "data": {
      "image/png": "[encoded data removed]",
      "text/plain": [
       "<Figure size 432x288 with 1 Axes>"
      ]
     },
     "metadata": {
      "needs_background": "light"
     },
     "output_type": "display_data"
    }
   ],
   "source": [
    "import numpy as np\n",
    "print(\"training set F-measure\", np.mean(trainScore1))\n",
    "print(\"testing set F-measure\", np.mean(testScore1))\n",
    "\n",
    "print(\"Time spent to predict:\",end_time1 - start_time1)\n",
    "time1 = end_time1 - start_time1\n",
    "plt.plot(indexes, trainScore1, 'ro-',indexes, testScore1, 'bv--')\n",
    "plt.legend(['Training F-measure', 'Test F-measure'])\n",
    "plt.xlabel('Indexes')\n",
    "plt.ylabel('F-measure')"
   ]
  },
  {
   "cell_type": "markdown",
   "metadata": {},
   "source": [
    "    4. Compare results of part (2) and (3) using appropriate charts"
   ]
  },
  {
   "cell_type": "code",
   "execution_count": 53,
   "metadata": {},
   "outputs": [
    {
     "data": {
      "text/plain": [
       "<matplotlib.legend.Legend at 0x7faeb5ff05b0>"
      ]
     },
     "execution_count": 53,
     "metadata": {},
     "output_type": "execute_result"
    },
    {
     "data": {
      "image/png": "[encoded data removed]",
      "text/plain": [
       "<Figure size 432x288 with 1 Axes>"
      ]
     },
     "metadata": {
      "needs_background": "light"
     },
     "output_type": "display_data"
    }
   ],
   "source": [
    "import matplotlib\n",
    "import matplotlib.pyplot as plt\n",
    "import numpy as np\n",
    "\n",
    "labels = ['Average F-measure', 'Average time']\n",
    "avgfscore = []\n",
    "avgtime = []\n",
    "\n",
    "avgfscore.append(np.mean(trainScore))\n",
    "avgfscore.append(np.mean(trainScore1))\n",
    "avgtime.append(time)\n",
    "avgtime.append(time1)\n",
    "\n",
    "x = np.arange(len(labels)) #the label locations\n",
    "width = 0.35 # the width of the bars\n",
    "\n",
    "fig, ax = plt.subplots()\n",
    "rects1 = ax.bar(x - width/2, avgfscore, width, label='first dataset')\n",
    "rects2 = ax.bar(x + width/2, avgtime, width, label='second dataset')\n",
    "\n",
    "#Add some text for labesl, title and custom x-axis tick labels, etc\n",
    "ax.set_ylabel('F-measure')\n",
    "ax.set_xticks(x)\n",
    "ax.set_xticklabels(labels)\n",
    "ax.legend()"
   ]
  },
  {
   "cell_type": "markdown",
   "metadata": {},
   "source": [
    "### Part II (model selection):  \n",
    "   #### Perform model selection for the k-NN and decision tree:\n",
    "\n",
    "    1. Perform preprocessing (normalization) if it is necessary"
   ]
  },
  {
   "cell_type": "code",
   "execution_count": 9,
   "metadata": {},
   "outputs": [
    {
     "data": {
      "text/html": [
       "<div>\n",
       "<style scoped>\n",
       "    .dataframe tbody tr th:only-of-type {\n",
       "        vertical-align: middle;\n",
       "    }\n",
       "\n",
       "    .dataframe tbody tr th {\n",
       "        vertical-align: top;\n",
       "    }\n",
       "\n",
       "    .dataframe thead th {\n",
       "        text-align: right;\n",
       "    }\n",
       "</style>\n",
       "<table border=\"1\" class=\"dataframe\">\n",
       "  <thead>\n",
       "    <tr style=\"text-align: right;\">\n",
       "      <th></th>\n",
       "      <th>col1</th>\n",
       "      <th>col2</th>\n",
       "      <th>col3</th>\n",
       "      <th>col4</th>\n",
       "      <th>col5</th>\n",
       "      <th>col6</th>\n",
       "      <th>col7</th>\n",
       "      <th>col8</th>\n",
       "      <th>col9</th>\n",
       "      <th>col10</th>\n",
       "      <th>...</th>\n",
       "      <th>col13</th>\n",
       "      <th>col14</th>\n",
       "      <th>col15</th>\n",
       "      <th>col16</th>\n",
       "      <th>col17</th>\n",
       "      <th>col18</th>\n",
       "      <th>col19</th>\n",
       "      <th>col20</th>\n",
       "      <th>col21</th>\n",
       "      <th>Class</th>\n",
       "    </tr>\n",
       "  </thead>\n",
       "  <tbody>\n",
       "    <tr>\n",
       "      <th>0</th>\n",
       "      <td>-1.23</td>\n",
       "      <td>-1.56</td>\n",
       "      <td>-1.75</td>\n",
       "      <td>-0.28</td>\n",
       "      <td>0.60</td>\n",
       "      <td>2.22</td>\n",
       "      <td>0.85</td>\n",
       "      <td>0.21</td>\n",
       "      <td>-0.20</td>\n",
       "      <td>0.89</td>\n",
       "      <td>...</td>\n",
       "      <td>2.89</td>\n",
       "      <td>7.75</td>\n",
       "      <td>4.59</td>\n",
       "      <td>3.15</td>\n",
       "      <td>5.12</td>\n",
       "      <td>3.32</td>\n",
       "      <td>1.20</td>\n",
       "      <td>0.24</td>\n",
       "      <td>-0.56</td>\n",
       "      <td>2</td>\n",
       "    </tr>\n",
       "    <tr>\n",
       "      <th>1</th>\n",
       "      <td>-0.69</td>\n",
       "      <td>2.43</td>\n",
       "      <td>0.61</td>\n",
       "      <td>2.08</td>\n",
       "      <td>2.30</td>\n",
       "      <td>3.25</td>\n",
       "      <td>5.52</td>\n",
       "      <td>4.55</td>\n",
       "      <td>2.97</td>\n",
       "      <td>2.22</td>\n",
       "      <td>...</td>\n",
       "      <td>1.24</td>\n",
       "      <td>1.89</td>\n",
       "      <td>1.88</td>\n",
       "      <td>-1.34</td>\n",
       "      <td>0.83</td>\n",
       "      <td>1.41</td>\n",
       "      <td>1.78</td>\n",
       "      <td>0.60</td>\n",
       "      <td>2.42</td>\n",
       "      <td>1</td>\n",
       "    </tr>\n",
       "    <tr>\n",
       "      <th>2</th>\n",
       "      <td>-0.12</td>\n",
       "      <td>-0.94</td>\n",
       "      <td>1.29</td>\n",
       "      <td>2.59</td>\n",
       "      <td>2.42</td>\n",
       "      <td>3.55</td>\n",
       "      <td>4.94</td>\n",
       "      <td>3.25</td>\n",
       "      <td>1.90</td>\n",
       "      <td>2.07</td>\n",
       "      <td>...</td>\n",
       "      <td>2.50</td>\n",
       "      <td>0.12</td>\n",
       "      <td>1.41</td>\n",
       "      <td>2.78</td>\n",
       "      <td>0.64</td>\n",
       "      <td>0.62</td>\n",
       "      <td>-0.01</td>\n",
       "      <td>-0.79</td>\n",
       "      <td>-0.12</td>\n",
       "      <td>0</td>\n",
       "    </tr>\n",
       "    <tr>\n",
       "      <th>3</th>\n",
       "      <td>0.86</td>\n",
       "      <td>0.29</td>\n",
       "      <td>2.19</td>\n",
       "      <td>-0.02</td>\n",
       "      <td>1.13</td>\n",
       "      <td>2.51</td>\n",
       "      <td>2.37</td>\n",
       "      <td>5.45</td>\n",
       "      <td>5.45</td>\n",
       "      <td>4.84</td>\n",
       "      <td>...</td>\n",
       "      <td>2.58</td>\n",
       "      <td>1.40</td>\n",
       "      <td>1.24</td>\n",
       "      <td>1.41</td>\n",
       "      <td>1.07</td>\n",
       "      <td>-1.43</td>\n",
       "      <td>2.84</td>\n",
       "      <td>-1.18</td>\n",
       "      <td>1.12</td>\n",
       "      <td>1</td>\n",
       "    </tr>\n",
       "    <tr>\n",
       "      <th>4</th>\n",
       "      <td>1.16</td>\n",
       "      <td>0.37</td>\n",
       "      <td>0.40</td>\n",
       "      <td>-0.59</td>\n",
       "      <td>2.66</td>\n",
       "      <td>1.00</td>\n",
       "      <td>2.69</td>\n",
       "      <td>4.06</td>\n",
       "      <td>5.34</td>\n",
       "      <td>3.53</td>\n",
       "      <td>...</td>\n",
       "      <td>4.30</td>\n",
       "      <td>1.84</td>\n",
       "      <td>1.73</td>\n",
       "      <td>0.21</td>\n",
       "      <td>-0.18</td>\n",
       "      <td>0.13</td>\n",
       "      <td>-0.21</td>\n",
       "      <td>-0.80</td>\n",
       "      <td>-0.68</td>\n",
       "      <td>1</td>\n",
       "    </tr>\n",
       "  </tbody>\n",
       "</table>\n",
       "<p>5 rows × 22 columns</p>\n",
       "</div>"
      ],
      "text/plain": [
       "   col1  col2  col3  col4  col5  col6  col7  col8  col9  col10  ...  col13  \\\n",
       "0 -1.23 -1.56 -1.75 -0.28  0.60  2.22  0.85  0.21 -0.20   0.89  ...   2.89   \n",
       "1 -0.69  2.43  0.61  2.08  2.30  3.25  5.52  4.55  2.97   2.22  ...   1.24   \n",
       "2 -0.12 -0.94  1.29  2.59  2.42  3.55  4.94  3.25  1.90   2.07  ...   2.50   \n",
       "3  0.86  0.29  2.19 -0.02  1.13  2.51  2.37  5.45  5.45   4.84  ...   2.58   \n",
       "4  1.16  0.37  0.40 -0.59  2.66  1.00  2.69  4.06  5.34   3.53  ...   4.30   \n",
       "\n",
       "   col14  col15  col16  col17  col18  col19  col20  col21  Class  \n",
       "0   7.75   4.59   3.15   5.12   3.32   1.20   0.24  -0.56      2  \n",
       "1   1.89   1.88  -1.34   0.83   1.41   1.78   0.60   2.42      1  \n",
       "2   0.12   1.41   2.78   0.64   0.62  -0.01  -0.79  -0.12      0  \n",
       "3   1.40   1.24   1.41   1.07  -1.43   2.84  -1.18   1.12      1  \n",
       "4   1.84   1.73   0.21  -0.18   0.13  -0.21  -0.80  -0.68      1  \n",
       "\n",
       "[5 rows x 22 columns]"
      ]
     },
     "execution_count": 9,
     "metadata": {},
     "output_type": "execute_result"
    }
   ],
   "source": [
    "import pandas as pd\n",
    "data2 = pd.read_csv('/Users/adunifekizitookoye/Desktop/CSCI 4150U - Data Mining/waveform.data', header=None)\n",
    "data2.columns = ['col1', 'col2', 'col3','col4','col5','col6','col7','col8','col9','col10','col11','col12','col13','col14',\n",
    "                'col15','col16','col17','col18','col19','col20','col21','Class']\n",
    "data2.head()"
   ]
  },
  {
   "cell_type": "code",
   "execution_count": 10,
   "metadata": {},
   "outputs": [],
   "source": [
    "Y2 = data2['Class']\n",
    "X2 = data2.drop(['Class'], axis=1)"
   ]
  },
  {
   "cell_type": "markdown",
   "metadata": {},
   "source": [
    "    2. Build k-NN classifier for different k (1, 2, 3, 4, 5) and select the best k: \n",
    "        A. Use 90% of data set for train and 10 % for the test,  and 10% of the train for validation"
   ]
  },
  {
   "cell_type": "code",
   "execution_count": 38,
   "metadata": {},
   "outputs": [],
   "source": [
    "#Part 1, 2B - '...final average F-measure'\n",
    "import matplotlib.pyplot as plt\n",
    "%matplotlib inline\n",
    "######################################\n",
    "#training and test set creation\n",
    "######################################\n",
    "\n",
    "from sklearn.neighbors import KNeighborsClassifier\n",
    "from sklearn.model_selection import train_test_split\n",
    "\n",
    "import time\n",
    "\n",
    "from sklearn import tree\n",
    "from sklearn.metrics import recall_score\n",
    "\n",
    "\n",
    "indexes = [1,2,3,4,5]\n",
    "trainScore2 = [] #recall\n",
    "testScore2 = [] #recall\n",
    "\n",
    "start_time2 = time.time()\n",
    "for indexe in indexes:\n",
    "    #test_size = 0.1 since using 10% of daata for the test\n",
    "    X_train, X_test, Y_train, Y_test = train_test_split(X2, Y2, test_size=0.9)\n",
    "    clf = KNeighborsClassifier(n_neighbors=5, metric = 'minkowski', p=3)\n",
    "    clf.fit(X_train, Y_train)\n",
    "    Y_predTrain = clf.predict(X_train)\n",
    "    Y_predTest = clf.predict(X_test)\n",
    "    trainScore2.append(recall_score(Y_train, Y_predTrain, average='micro'))\n",
    "    testScore2.append(recall_score(Y_test, Y_predTest, average='micro'))\n",
    "end_time2 = time.time()"
   ]
  },
  {
   "cell_type": "markdown",
   "metadata": {},
   "source": [
    "        B. Build the k-NN model using the train data set and select the best k based on F-measure on the validation set"
   ]
  },
  {
   "cell_type": "code",
   "execution_count": 39,
   "metadata": {},
   "outputs": [
    {
     "name": "stdout",
     "output_type": "stream",
     "text": [
      "training set F-measure 0.89\n",
      "testing set F-measure 0.8097333333333333\n",
      "Time spent to predict: 3.7792000770568848\n"
     ]
    },
    {
     "data": {
      "text/plain": [
       "Text(0, 0.5, 'F-measure')"
      ]
     },
     "execution_count": 39,
     "metadata": {},
     "output_type": "execute_result"
    },
    {
     "data": {
      "image/png": "[encoded data removed]",
      "text/plain": [
       "<Figure size 432x288 with 1 Axes>"
      ]
     },
     "metadata": {
      "needs_background": "light"
     },
     "output_type": "display_data"
    }
   ],
   "source": [
    "import numpy as np\n",
    "print(\"training set F-measure\", np.mean(trainScore2))\n",
    "print(\"testing set F-measure\", np.mean(testScore2))\n",
    "\n",
    "print(\"Time spent to predict:\",end_time2-start_time2)\n",
    "time2 = end_time2 - start_time2\n",
    "plt.plot(indexes, trainScore2, 'ro-',indexes, testScore2, 'bv--')\n",
    "plt.legend(['Training F-measure', 'Test F-measure'])\n",
    "plt.xlabel('Indexes')\n",
    "plt.ylabel('F-measure')"
   ]
  },
  {
   "cell_type": "markdown",
   "metadata": {},
   "source": [
    "    3. Build the decision tree model using the train data set and select the best tree:\n",
    "        A. Change the tree depth (3, 4...10) and calculate F-measure on the validation set\n"
   ]
  },
  {
   "cell_type": "code",
   "execution_count": 40,
   "metadata": {},
   "outputs": [],
   "source": [
    "from numpy.random import random\n",
    "import matplotlib.pyplot as plt\n",
    "%matplotlib inline\n",
    "######################################\n",
    "#training and test set creation\n",
    "######################################\n",
    "\n",
    "from sklearn.model_selection import train_test_split\n",
    "\n",
    "import time\n",
    "\n",
    "from sklearn import tree\n",
    "from sklearn.metrics import recall_score\n",
    "\n",
    "maxdepths = list(range(3,11,1))\n",
    "\n",
    "trainScore3 = [] #recall\n",
    "testScore3 = [] #recall\n",
    "\n",
    "start_time3 = time.time()\n",
    "index = 0\n",
    "for dpth in maxdepths:\n",
    "    X_train, X_test, Y_train, Y_test, = train_test_split(X.T, Y, test_size=0.9)\n",
    "    clf = tree.DecisionTreeClassifier(max_depth=dpth)\n",
    "    clf.fit(X_train, Y_train)\n",
    "    Y_predTrain = clf.predict(X_train)\n",
    "    Y_predTest = clf.predict(X_test)\n",
    "    trainScore3.append(recall_score(Y_train, Y_predTrain))\n",
    "    testScore3.append(recall_score(Y_test, Y_predTest))\n",
    "\n",
    "end_time3 = time.time()"
   ]
  },
  {
   "cell_type": "code",
   "execution_count": 41,
   "metadata": {},
   "outputs": [
    {
     "name": "stdout",
     "output_type": "stream",
     "text": [
      "training set F-measure 0.9716760103757007\n",
      "testing set F-measure 0.8097099159436735\n",
      "Time spent to predict: 0.047515869140625\n"
     ]
    },
    {
     "data": {
      "text/plain": [
       "Text(0, 0.5, 'F-measure')"
      ]
     },
     "execution_count": 41,
     "metadata": {},
     "output_type": "execute_result"
    },
    {
     "data": {
      "image/png": "[encoded data removed]",
      "text/plain": [
       "<Figure size 432x288 with 1 Axes>"
      ]
     },
     "metadata": {
      "needs_background": "light"
     },
     "output_type": "display_data"
    }
   ],
   "source": [
    "import numpy as np\n",
    "print(\"training set F-measure\", np.mean(trainScore3))\n",
    "print(\"testing set F-measure\", np.mean(testScore3))\n",
    "\n",
    "print(\"Time spent to predict:\",end_time3 -start_time3)\n",
    "time3 = end_time3 - start_time3\n",
    "plt.plot(maxdepths, trainScore3, 'ro-',maxdepths, testScore3, 'bv--')\n",
    "plt.legend(['Training F-measure', 'Test F-measure'])\n",
    "plt.xlabel('Indexes')\n",
    "plt.ylabel('F-measure')"
   ]
  },
  {
   "cell_type": "markdown",
   "metadata": {},
   "source": [
    "        B. Compare results of part (2) and (3) using the appropriate charts"
   ]
  },
  {
   "cell_type": "code",
   "execution_count": 54,
   "metadata": {},
   "outputs": [
    {
     "data": {
      "text/plain": [
       "<matplotlib.legend.Legend at 0x7faeb35e24c0>"
      ]
     },
     "execution_count": 54,
     "metadata": {},
     "output_type": "execute_result"
    },
    {
     "data": {
      "image/png": "[encoded data removed]",
      "text/plain": [
       "<Figure size 432x288 with 1 Axes>"
      ]
     },
     "metadata": {
      "needs_background": "light"
     },
     "output_type": "display_data"
    }
   ],
   "source": [
    "import matplotlib\n",
    "import matplotlib.pyplot as plt\n",
    "import numpy as np\n",
    "\n",
    "labels = ['Average F-measure', 'Average time']\n",
    "avgfscore = []\n",
    "avgtime = []\n",
    "\n",
    "avgfscore.append(np.mean(trainScore2))\n",
    "avgfscore.append(np.mean(trainScore3))\n",
    "avgtime.append(time2)\n",
    "avgtime.append(time3)\n",
    "\n",
    "x = np.arange(len(labels)) #the label locations\n",
    "width = 0.35 # the width of the bars\n",
    "\n",
    "fig, ax = plt.subplots()\n",
    "rects1 = ax.bar(x - width/2, avgfscore, width, label='first dataset')\n",
    "rects2 = ax.bar(x + width/2, avgtime, width, label='second dataset')\n",
    "\n",
    "#Add some text for labesl, title and custom x-axis tick labels, etc\n",
    "ax.set_ylabel('F-measure')\n",
    "ax.set_xticks(x)\n",
    "ax.set_xticklabels(labels)\n",
    "ax.legend()"
   ]
  },
  {
   "cell_type": "markdown",
   "metadata": {},
   "source": [
    "### Comparisons of training score of KNN for Part I and Part II"
   ]
  },
  {
   "cell_type": "code",
   "execution_count": 55,
   "metadata": {},
   "outputs": [
    {
     "data": {
      "text/plain": [
       "<matplotlib.legend.Legend at 0x7faeb2a61b50>"
      ]
     },
     "execution_count": 55,
     "metadata": {},
     "output_type": "execute_result"
    },
    {
     "data": {
      "image/png": "[encoded data removed]",
      "text/plain": [
       "<Figure size 432x288 with 1 Axes>"
      ]
     },
     "metadata": {
      "needs_background": "light"
     },
     "output_type": "display_data"
    }
   ],
   "source": [
    "#Part 2, 3B\n",
    "import matplotlib\n",
    "import matplotlib\n",
    "import numpy as np\n",
    "\n",
    "labels = ['G1', 'G2', 'G3', 'G4', 'G5']\n",
    "\n",
    "x = np.arange(len(labels)) #the label locations\n",
    "width = 0.35 # the width of the bars\n",
    "\n",
    "fig, ax = plt.subplots()\n",
    "rects1 = ax.bar(x - width/2, trainScore, width, label='first dataset')\n",
    "rects2 = ax.bar(x + width/2, trainScore2, width, label='second dataset')\n",
    "\n",
    "#Add some text for labesl, title and custom x-axis tick labels, etc\n",
    "ax.set_ylabel('F-measure')\n",
    "ax.set_xticks(x)\n",
    "ax.set_xticklabels(labels)\n",
    "ax.legend()"
   ]
  }
 ],
 "metadata": {
  "kernelspec": {
   "display_name": "Python 3",
   "language": "python",
   "name": "python3"
  },
  "language_info": {
   "codemirror_mode": {
    "name": "ipython",
    "version": 3
   },
   "file_extension": ".py",
   "mimetype": "text/x-python",
   "name": "python",
   "nbconvert_exporter": "python",
   "pygments_lexer": "ipython3",
   "version": "3.8.2"
  }
 },
 "nbformat": 4,
 "nbformat_minor": 4
}
