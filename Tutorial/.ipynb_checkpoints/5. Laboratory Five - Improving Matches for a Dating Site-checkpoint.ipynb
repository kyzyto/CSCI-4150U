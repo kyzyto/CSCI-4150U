{
 "cells": [
  {
   "cell_type": "markdown",
   "metadata": {},
   "source": [
    "# Laboratory Five - Improving Matches for a Dating Site"
   ]
  },
  {
   "cell_type": "code",
   "execution_count": 17,
   "metadata": {},
   "outputs": [
    {
     "data": {
      "text/html": [
       "<div>\n",
       "<style scoped>\n",
       "    .dataframe tbody tr th:only-of-type {\n",
       "        vertical-align: middle;\n",
       "    }\n",
       "\n",
       "    .dataframe tbody tr th {\n",
       "        vertical-align: top;\n",
       "    }\n",
       "\n",
       "    .dataframe thead th {\n",
       "        text-align: right;\n",
       "    }\n",
       "</style>\n",
       "<table border=\"1\" class=\"dataframe\">\n",
       "  <thead>\n",
       "    <tr style=\"text-align: right;\">\n",
       "      <th></th>\n",
       "      <th>first</th>\n",
       "    </tr>\n",
       "  </thead>\n",
       "  <tbody>\n",
       "    <tr>\n",
       "      <th>0</th>\n",
       "      <td>9916\\t2.695935\\t1.512111\\tsmallDoses</td>\n",
       "    </tr>\n",
       "    <tr>\n",
       "      <th>1</th>\n",
       "      <td>38889\\t3.356646\\t0.324230\\tdidntLike</td>\n",
       "    </tr>\n",
       "    <tr>\n",
       "      <th>2</th>\n",
       "      <td>39075\\t14.677836\\t0.793183\\tlargeDoses</td>\n",
       "    </tr>\n",
       "    <tr>\n",
       "      <th>3</th>\n",
       "      <td>48071\\t1.551934\\t0.130902\\tdidntLike</td>\n",
       "    </tr>\n",
       "    <tr>\n",
       "      <th>4</th>\n",
       "      <td>7275\\t2.464739\\t0.223502\\tsmallDoses</td>\n",
       "    </tr>\n",
       "  </tbody>\n",
       "</table>\n",
       "</div>"
      ],
      "text/plain": [
       "                                    first\n",
       "0    9916\\t2.695935\\t1.512111\\tsmallDoses\n",
       "1    38889\\t3.356646\\t0.324230\\tdidntLike\n",
       "2  39075\\t14.677836\\t0.793183\\tlargeDoses\n",
       "3    48071\\t1.551934\\t0.130902\\tdidntLike\n",
       "4    7275\\t2.464739\\t0.223502\\tsmallDoses"
      ]
     },
     "execution_count": 17,
     "metadata": {},
     "output_type": "execute_result"
    }
   ],
   "source": [
    "import pandas as pd\n",
    "\n",
    "firstdata = pd.read_csv('/Users/adunifekizitookoye/Desktop/CSCI 4150U - Data Mining/datingData_test.txt', header=None)\n",
    "firstdata.columns = ['first']\n",
    "firstdata.head()"
   ]
  },
  {
   "cell_type": "code",
   "execution_count": 18,
   "metadata": {},
   "outputs": [
    {
     "data": {
      "text/html": [
       "<div>\n",
       "<style scoped>\n",
       "    .dataframe tbody tr th:only-of-type {\n",
       "        vertical-align: middle;\n",
       "    }\n",
       "\n",
       "    .dataframe tbody tr th {\n",
       "        vertical-align: top;\n",
       "    }\n",
       "\n",
       "    .dataframe thead th {\n",
       "        text-align: right;\n",
       "    }\n",
       "</style>\n",
       "<table border=\"1\" class=\"dataframe\">\n",
       "  <thead>\n",
       "    <tr style=\"text-align: right;\">\n",
       "      <th></th>\n",
       "      <th>Number of frequent flyer miles earned per year</th>\n",
       "      <th>Percentage of time spent playing video games</th>\n",
       "      <th>Liters of ice cream consumed per week</th>\n",
       "      <th>Class</th>\n",
       "    </tr>\n",
       "  </thead>\n",
       "  <tbody>\n",
       "    <tr>\n",
       "      <th>0</th>\n",
       "      <td>9916</td>\n",
       "      <td>2.695935</td>\n",
       "      <td>1.512111</td>\n",
       "      <td>smallDoses</td>\n",
       "    </tr>\n",
       "    <tr>\n",
       "      <th>1</th>\n",
       "      <td>38889</td>\n",
       "      <td>3.356646</td>\n",
       "      <td>0.324230</td>\n",
       "      <td>didntLike</td>\n",
       "    </tr>\n",
       "    <tr>\n",
       "      <th>2</th>\n",
       "      <td>39075</td>\n",
       "      <td>14.677836</td>\n",
       "      <td>0.793183</td>\n",
       "      <td>largeDoses</td>\n",
       "    </tr>\n",
       "    <tr>\n",
       "      <th>3</th>\n",
       "      <td>48071</td>\n",
       "      <td>1.551934</td>\n",
       "      <td>0.130902</td>\n",
       "      <td>didntLike</td>\n",
       "    </tr>\n",
       "    <tr>\n",
       "      <th>4</th>\n",
       "      <td>7275</td>\n",
       "      <td>2.464739</td>\n",
       "      <td>0.223502</td>\n",
       "      <td>smallDoses</td>\n",
       "    </tr>\n",
       "  </tbody>\n",
       "</table>\n",
       "</div>"
      ],
      "text/plain": [
       "  Number of frequent flyer miles earned per year  \\\n",
       "0                                           9916   \n",
       "1                                          38889   \n",
       "2                                          39075   \n",
       "3                                          48071   \n",
       "4                                           7275   \n",
       "\n",
       "  Percentage of time spent playing video games  \\\n",
       "0                                     2.695935   \n",
       "1                                     3.356646   \n",
       "2                                    14.677836   \n",
       "3                                     1.551934   \n",
       "4                                     2.464739   \n",
       "\n",
       "  Liters of ice cream consumed per week       Class  \n",
       "0                              1.512111  smallDoses  \n",
       "1                              0.324230   didntLike  \n",
       "2                              0.793183  largeDoses  \n",
       "3                              0.130902   didntLike  \n",
       "4                              0.223502  smallDoses  "
      ]
     },
     "execution_count": 18,
     "metadata": {},
     "output_type": "execute_result"
    }
   ],
   "source": [
    "import pandas as pd\n",
    "\n",
    "firstdata = pd.read_csv('/Users/adunifekizitookoye/Desktop/CSCI 4150U - Data Mining/datingData_test.txt', header=None)\n",
    "firstdata.columns = ['first']\n",
    "split_data = firstdata['first'].str.split('\\t')\n",
    "data1st = split_data.to_list()\n",
    "names = ['Number of frequent flyer miles earned per year', \n",
    "         'Percentage of time spent playing video games', \n",
    "         'Liters of ice cream consumed per week', 'Class']\n",
    "testdata = pd.DataFrame(data1st, columns=names)\n",
    "testdata.head()"
   ]
  },
  {
   "cell_type": "code",
   "execution_count": 19,
   "metadata": {},
   "outputs": [
    {
     "data": {
      "text/html": [
       "<div>\n",
       "<style scoped>\n",
       "    .dataframe tbody tr th:only-of-type {\n",
       "        vertical-align: middle;\n",
       "    }\n",
       "\n",
       "    .dataframe tbody tr th {\n",
       "        vertical-align: top;\n",
       "    }\n",
       "\n",
       "    .dataframe thead th {\n",
       "        text-align: right;\n",
       "    }\n",
       "</style>\n",
       "<table border=\"1\" class=\"dataframe\">\n",
       "  <thead>\n",
       "    <tr style=\"text-align: right;\">\n",
       "      <th></th>\n",
       "      <th>first</th>\n",
       "    </tr>\n",
       "  </thead>\n",
       "  <tbody>\n",
       "    <tr>\n",
       "      <th>0</th>\n",
       "      <td>40920\\t8.326976\\t0.953952\\tlargeDoses</td>\n",
       "    </tr>\n",
       "    <tr>\n",
       "      <th>1</th>\n",
       "      <td>14488\\t7.153469\\t1.673904\\tsmallDoses</td>\n",
       "    </tr>\n",
       "    <tr>\n",
       "      <th>2</th>\n",
       "      <td>26052\\t1.441871\\t0.805124\\tdidntLike</td>\n",
       "    </tr>\n",
       "    <tr>\n",
       "      <th>3</th>\n",
       "      <td>75136\\t13.147394\\t0.428964\\tdidntLike</td>\n",
       "    </tr>\n",
       "    <tr>\n",
       "      <th>4</th>\n",
       "      <td>38344\\t1.669788\\t0.134296\\tdidntLike</td>\n",
       "    </tr>\n",
       "  </tbody>\n",
       "</table>\n",
       "</div>"
      ],
      "text/plain": [
       "                                   first\n",
       "0  40920\\t8.326976\\t0.953952\\tlargeDoses\n",
       "1  14488\\t7.153469\\t1.673904\\tsmallDoses\n",
       "2   26052\\t1.441871\\t0.805124\\tdidntLike\n",
       "3  75136\\t13.147394\\t0.428964\\tdidntLike\n",
       "4   38344\\t1.669788\\t0.134296\\tdidntLike"
      ]
     },
     "execution_count": 19,
     "metadata": {},
     "output_type": "execute_result"
    }
   ],
   "source": [
    "import pandas as pd\n",
    "\n",
    "seconddata = pd.read_csv('/Users/adunifekizitookoye/Desktop/CSCI 4150U - Data Mining/datingData_training.txt', header=None)\n",
    "seconddata.columns = ['first']\n",
    "seconddata.head()"
   ]
  },
  {
   "cell_type": "code",
   "execution_count": 20,
   "metadata": {},
   "outputs": [
    {
     "data": {
      "text/html": [
       "<div>\n",
       "<style scoped>\n",
       "    .dataframe tbody tr th:only-of-type {\n",
       "        vertical-align: middle;\n",
       "    }\n",
       "\n",
       "    .dataframe tbody tr th {\n",
       "        vertical-align: top;\n",
       "    }\n",
       "\n",
       "    .dataframe thead th {\n",
       "        text-align: right;\n",
       "    }\n",
       "</style>\n",
       "<table border=\"1\" class=\"dataframe\">\n",
       "  <thead>\n",
       "    <tr style=\"text-align: right;\">\n",
       "      <th></th>\n",
       "      <th>Number of frequent flyer miles earned per year</th>\n",
       "      <th>Percentage of time spent playing video games</th>\n",
       "      <th>Liters of ice cream consumed per week</th>\n",
       "      <th>Class</th>\n",
       "    </tr>\n",
       "  </thead>\n",
       "  <tbody>\n",
       "    <tr>\n",
       "      <th>0</th>\n",
       "      <td>40920</td>\n",
       "      <td>8.326976</td>\n",
       "      <td>0.953952</td>\n",
       "      <td>largeDoses</td>\n",
       "    </tr>\n",
       "    <tr>\n",
       "      <th>1</th>\n",
       "      <td>14488</td>\n",
       "      <td>7.153469</td>\n",
       "      <td>1.673904</td>\n",
       "      <td>smallDoses</td>\n",
       "    </tr>\n",
       "    <tr>\n",
       "      <th>2</th>\n",
       "      <td>26052</td>\n",
       "      <td>1.441871</td>\n",
       "      <td>0.805124</td>\n",
       "      <td>didntLike</td>\n",
       "    </tr>\n",
       "    <tr>\n",
       "      <th>3</th>\n",
       "      <td>75136</td>\n",
       "      <td>13.147394</td>\n",
       "      <td>0.428964</td>\n",
       "      <td>didntLike</td>\n",
       "    </tr>\n",
       "    <tr>\n",
       "      <th>4</th>\n",
       "      <td>38344</td>\n",
       "      <td>1.669788</td>\n",
       "      <td>0.134296</td>\n",
       "      <td>didntLike</td>\n",
       "    </tr>\n",
       "  </tbody>\n",
       "</table>\n",
       "</div>"
      ],
      "text/plain": [
       "  Number of frequent flyer miles earned per year  \\\n",
       "0                                          40920   \n",
       "1                                          14488   \n",
       "2                                          26052   \n",
       "3                                          75136   \n",
       "4                                          38344   \n",
       "\n",
       "  Percentage of time spent playing video games  \\\n",
       "0                                     8.326976   \n",
       "1                                     7.153469   \n",
       "2                                     1.441871   \n",
       "3                                    13.147394   \n",
       "4                                     1.669788   \n",
       "\n",
       "  Liters of ice cream consumed per week       Class  \n",
       "0                              0.953952  largeDoses  \n",
       "1                              1.673904  smallDoses  \n",
       "2                              0.805124   didntLike  \n",
       "3                              0.428964   didntLike  \n",
       "4                              0.134296   didntLike  "
      ]
     },
     "execution_count": 20,
     "metadata": {},
     "output_type": "execute_result"
    }
   ],
   "source": [
    "import pandas as pd\n",
    "\n",
    "seconddata = pd.read_csv('/Users/adunifekizitookoye/Desktop/CSCI 4150U - Data Mining/datingData_training.txt', header=None)\n",
    "seconddata.columns = ['first']\n",
    "split_data = seconddata['first'].str.split('\\t')\n",
    "data2nd = split_data.to_list()\n",
    "names = ['Number of frequent flyer miles earned per year', \n",
    "         'Percentage of time spent playing video games', \n",
    "         'Liters of ice cream consumed per week', 'Class']\n",
    "traindata = pd.DataFrame(data2nd, columns=names)\n",
    "traindata.head()"
   ]
  },
  {
   "cell_type": "code",
   "execution_count": 21,
   "metadata": {},
   "outputs": [],
   "source": [
    "from sklearn import tree\n",
    "Y = testdata['Class'].astype(str).astype(str)\n",
    "X1 = testdata['Number of frequent flyer miles earned per year'].astype(str).astype(int)\n",
    "X2 = testdata['Percentage of time spent playing video games'].astype(str).astype(float)\n",
    "X3 = [X1,X2]\n",
    "X = pd.DataFrame(X3)"
   ]
  },
  {
   "cell_type": "code",
   "execution_count": 22,
   "metadata": {},
   "outputs": [],
   "source": [
    "Y_train = traindata['Class']\n",
    "X_train = traindata.drop(['Class'], axis = 1)"
   ]
  },
  {
   "cell_type": "code",
   "execution_count": 23,
   "metadata": {},
   "outputs": [],
   "source": [
    "Y_test = testdata['Class']\n",
    "X_test = testdata.drop(['Class'], axis = 1)"
   ]
  },
  {
   "cell_type": "markdown",
   "metadata": {},
   "source": [
    "## Decision Tree Classifier"
   ]
  },
  {
   "cell_type": "code",
   "execution_count": 24,
   "metadata": {},
   "outputs": [
    {
     "data": {
      "text/plain": [
       "Text(0, 0.5, 'Accuracy')"
      ]
     },
     "execution_count": 24,
     "metadata": {},
     "output_type": "execute_result"
    },
    {
     "data": {
      "image/png": "[encoded data removed]",
      "text/plain": [
       "<Figure size 432x288 with 1 Axes>"
      ]
     },
     "metadata": {
      "needs_background": "light"
     },
     "output_type": "display_data"
    }
   ],
   "source": [
    "import numpy as np\n",
    "import matplotlib.pyplot as plt\n",
    "from sklearn import tree\n",
    "from sklearn.metrics import accuracy_score\n",
    "from sklearn.metrics import precision_score\n",
    "from sklearn.metrics import recall_score\n",
    "import time\n",
    "\n",
    "#############################################\n",
    "# Model fitting and evaluation\n",
    "#############################################\n",
    "\n",
    "maxdepths = [2,3,4,5,6,7,8,9,10,15,20,25,30,35,40,45,50]\n",
    "\n",
    "trainAcc = []\n",
    "testAcc = []\n",
    "\n",
    "\n",
    "for depth in maxdepths:\n",
    "    clf = tree.DecisionTreeClassifier(max_depth=3)\n",
    "    clf = clf.fit(X_train, Y_train)\n",
    "    Y_predTrain = clf.predict(X_train)\n",
    "    Y_predTest = clf.predict(X_test)\n",
    "    trainAcc.append(accuracy_score(Y_train, Y_predTrain))\n",
    "    testAcc.append(accuracy_score(Y_test, Y_predTest))\n",
    "\n",
    "#############################################\n",
    "# Plot of training and test accuracies\n",
    "#############################################\n",
    "plt.title('Plot for training and testing Accuracy')\n",
    "plt.plot(maxdepths, trainAcc, 'ro-', maxdepths, testAcc, 'bv--')\n",
    "plt.legend(['Training Accuracy', 'Test Accuracy'])\n",
    "plt.xlabel('Max depth')\n",
    "plt.ylabel('Accuracy')"
   ]
  },
  {
   "cell_type": "markdown",
   "metadata": {},
   "source": [
    "##  K-Nearest neighbor classifier"
   ]
  },
  {
   "cell_type": "code",
   "execution_count": 25,
   "metadata": {},
   "outputs": [],
   "source": [
    "import matplotlib.pyplot as plt\n",
    "%matplotlib inline\n",
    "from sklearn.neighbors import KNeighborsClassifier\n",
    "import time\n",
    "from sklearn import tree\n",
    "from sklearn.metrics import recall_score\n",
    "\n",
    "######################################\n",
    "#training and test set creation\n",
    "######################################\n",
    "\n",
    "\n",
    "indexes = [2,3,4,5,6,7,8,9,10,15,20,25,30,35,40,45,50]\n",
    "trainScore2 = [] #recall\n",
    "testScore2 = [] #recall\n",
    "\n",
    "start_time2 = time.time()\n",
    "for indexe in indexes:\n",
    "    #test_size = 0.1 since using 10% of daata for the test\n",
    "    clf = KNeighborsClassifier(n_neighbors=5, metric = 'minkowski', p=3)\n",
    "    clf.fit(X_train, Y_train)\n",
    "    Y_predTrain = clf.predict(X_train)\n",
    "    Y_predTest = clf.predict(X_test)\n",
    "    trainScore2.append(recall_score(Y_train, Y_predTrain, average='micro'))\n",
    "    testScore2.append(recall_score(Y_test, Y_predTest, average='micro'))\n",
    "end_time2 = time.time()"
   ]
  },
  {
   "cell_type": "code",
   "execution_count": 26,
   "metadata": {},
   "outputs": [
    {
     "name": "stdout",
     "output_type": "stream",
     "text": [
      "training set F-measure 0.855\n",
      "testing set F-measure 0.805\n",
      "Time spent to predict: 0.6412060260772705\n"
     ]
    },
    {
     "data": {
      "text/plain": [
       "Text(0, 0.5, 'F-measure')"
      ]
     },
     "execution_count": 26,
     "metadata": {},
     "output_type": "execute_result"
    },
    {
     "data": {
      "image/png": "[encoded data removed]",
      "text/plain": [
       "<Figure size 432x288 with 1 Axes>"
      ]
     },
     "metadata": {
      "needs_background": "light"
     },
     "output_type": "display_data"
    }
   ],
   "source": [
    "import numpy as np\n",
    "print(\"training set F-measure\", np.mean(trainScore2))\n",
    "print(\"testing set F-measure\", np.mean(testScore2))\n",
    "\n",
    "print(\"Time spent to predict:\",end_time2-start_time2)\n",
    "time2 = end_time2 - start_time2\n",
    "plt.plot(indexes, trainScore2, 'ro-',indexes, testScore2, 'bv--')\n",
    "plt.legend(['Training F-measure', 'Test F-measure'])\n",
    "plt.xlabel('Indexes')\n",
    "plt.ylabel('F-measure')"
   ]
  },
  {
   "cell_type": "markdown",
   "metadata": {},
   "source": [
    "## Linear Classifiers"
   ]
  },
  {
   "cell_type": "code",
   "execution_count": null,
   "metadata": {},
   "outputs": [],
   "source": [
    "from sklearn import linear_model\n",
    "from sklearn.svm import SVC\n",
    "\n",
    "C = [0.01, 0.1, 0.2, 0.5, 0.8, 1, 5, 10, 20, 50]\n",
    "LRtrainAcc = []\n",
    "LRtestAcc = []\n",
    "SVMtrainAcc = []\n",
    "SVMtestAcc = []\n",
    "\n",
    "for param in C:\n",
    "    clf = linear_model.LogisticRegression(C=param)\n",
    "    clf.fit(X_train, Y_train)\n",
    "    Y_predTrain = clf.predict(X_train)\n",
    "    Y_predTest = clf.predict(X_test)\n",
    "    LRtrainAcc.append(accuracy_score(Y_train, Y_predTrain))\n",
    "    LRtestAcc.append(accuracy_score(Y_test, Y_predTest))\n",
    "\n",
    "    clf = SVC(C=param,kernel='linear')\n",
    "    clf.fit(X_train, Y_train)\n",
    "    Y_predTrain = clf.predict(X_train)\n",
    "    Y_predTest = clf.predict(X_test)\n",
    "    SVMtrainAcc.append(accuracy_score(Y_train, Y_predTrain))\n",
    "    SVMtestAcc.append(accuracy_score(Y_test, Y_predTest))\n",
    "\n",
    "fig, (ax1, ax2) = plt.subplots(1, 2, figsize=(12,6))\n",
    "ax1.plot(C, LRtrainAcc, 'ro-', C, LRtestAcc,'bv--')\n",
    "ax1.legend(['Training Accuracy','Test Accuracy'])\n",
    "ax1.set_xlabel('C')\n",
    "ax1.set_xscale('log')\n",
    "ax1.set_ylabel('Accuracy')\n",
    "\n",
    "ax2.plot(C, SVMtrainAcc, 'ro-', C, SVMtestAcc,'bv--')\n",
    "ax2.legend(['Training Accuracy','Test Accuracy'])\n",
    "ax2.set_xlabel('C')\n",
    "ax2.set_xscale('log')\n",
    "ax2.set_ylabel('Accuracy')"
   ]
  },
  {
   "cell_type": "markdown",
   "metadata": {},
   "source": [
    "## Nonlinear Support Vector Machine"
   ]
  },
  {
   "cell_type": "code",
   "execution_count": null,
   "metadata": {},
   "outputs": [],
   "source": [
    "from sklearn.svm import SVC\n",
    "\n",
    "C = [0.01, 0.1, 0.2, 0.5, 0.8, 1, 5, 10, 20, 50]\n",
    "SVMtrainAcc = []\n",
    "SVMtestAcc = []\n",
    "\n",
    "for param in C:\n",
    "    clf = SVC(C=param,kernel='rbf',gamma='auto')\n",
    "    clf.fit(X_train, Y_train)\n",
    "    Y_predTrain = clf.predict(X_train)\n",
    "    Y_predTest = clf.predict(X_test)\n",
    "    SVMtrainAcc.append(accuracy_score(Y_train, Y_predTrain))\n",
    "    SVMtestAcc.append(accuracy_score(Y_test, Y_predTest))\n",
    "\n",
    "plt.plot(C, SVMtrainAcc, 'ro-', C, SVMtestAcc,'bv--')\n",
    "plt.legend(['Training Accuracy','Test Accuracy'])\n",
    "plt.xlabel('C')\n",
    "plt.xscale('log')\n",
    "plt.ylabel('Accuracy')"
   ]
  },
  {
   "cell_type": "code",
   "execution_count": null,
   "metadata": {},
   "outputs": [],
   "source": []
  }
 ],
 "metadata": {
  "kernelspec": {
   "display_name": "Python 3",
   "language": "python",
   "name": "python3"
  },
  "language_info": {
   "codemirror_mode": {
    "name": "ipython",
    "version": 3
   },
   "file_extension": ".py",
   "mimetype": "text/x-python",
   "name": "python",
   "nbconvert_exporter": "python",
   "pygments_lexer": "ipython3",
   "version": "3.8.2"
  }
 },
 "nbformat": 4,
 "nbformat_minor": 4
}
