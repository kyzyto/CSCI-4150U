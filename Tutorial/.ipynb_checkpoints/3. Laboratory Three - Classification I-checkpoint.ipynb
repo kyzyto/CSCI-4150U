{
 "cells": [
  {
   "cell_type": "markdown",
   "metadata": {},
   "source": [
    "# Laboratory Three - Classification I"
   ]
  },
  {
   "cell_type": "code",
   "execution_count": 1,
   "metadata": {
    "scrolled": true
   },
   "outputs": [
    {
     "data": {
      "text/html": [
       "<div>\n",
       "<style scoped>\n",
       "    .dataframe tbody tr th:only-of-type {\n",
       "        vertical-align: middle;\n",
       "    }\n",
       "\n",
       "    .dataframe tbody tr th {\n",
       "        vertical-align: top;\n",
       "    }\n",
       "\n",
       "    .dataframe thead th {\n",
       "        text-align: right;\n",
       "    }\n",
       "</style>\n",
       "<table border=\"1\" class=\"dataframe\">\n",
       "  <thead>\n",
       "    <tr style=\"text-align: right;\">\n",
       "      <th></th>\n",
       "      <th>Status of existing checking account</th>\n",
       "      <th>Duration in month</th>\n",
       "      <th>Credit history</th>\n",
       "      <th>Purpose</th>\n",
       "      <th>Credit amount</th>\n",
       "      <th>Savings account/bonds</th>\n",
       "      <th>Present employment since</th>\n",
       "      <th>Installment rate in percentage of disposable income</th>\n",
       "      <th>Personal status and sex</th>\n",
       "      <th>Other debtors / guarantors</th>\n",
       "      <th>...</th>\n",
       "      <th>Property</th>\n",
       "      <th>Age in years</th>\n",
       "      <th>Other installment plans</th>\n",
       "      <th>Housing</th>\n",
       "      <th>Number of existing credits at this bank</th>\n",
       "      <th>Job</th>\n",
       "      <th>Number of people being liable to provide maintenance for</th>\n",
       "      <th>Telephone</th>\n",
       "      <th>foreign worker</th>\n",
       "      <th>Class</th>\n",
       "    </tr>\n",
       "  </thead>\n",
       "  <tbody>\n",
       "    <tr>\n",
       "      <th>0</th>\n",
       "      <td>A11</td>\n",
       "      <td>6</td>\n",
       "      <td>A34</td>\n",
       "      <td>A43</td>\n",
       "      <td>1169</td>\n",
       "      <td>A65</td>\n",
       "      <td>A75</td>\n",
       "      <td>4</td>\n",
       "      <td>A93</td>\n",
       "      <td>A101</td>\n",
       "      <td>...</td>\n",
       "      <td>A121</td>\n",
       "      <td>67</td>\n",
       "      <td>A143</td>\n",
       "      <td>A152</td>\n",
       "      <td>2</td>\n",
       "      <td>A173</td>\n",
       "      <td>1</td>\n",
       "      <td>A192</td>\n",
       "      <td>A201</td>\n",
       "      <td>1</td>\n",
       "    </tr>\n",
       "    <tr>\n",
       "      <th>1</th>\n",
       "      <td>A12</td>\n",
       "      <td>48</td>\n",
       "      <td>A32</td>\n",
       "      <td>A43</td>\n",
       "      <td>5951</td>\n",
       "      <td>A61</td>\n",
       "      <td>A73</td>\n",
       "      <td>2</td>\n",
       "      <td>A92</td>\n",
       "      <td>A101</td>\n",
       "      <td>...</td>\n",
       "      <td>A121</td>\n",
       "      <td>22</td>\n",
       "      <td>A143</td>\n",
       "      <td>A152</td>\n",
       "      <td>1</td>\n",
       "      <td>A173</td>\n",
       "      <td>1</td>\n",
       "      <td>A191</td>\n",
       "      <td>A201</td>\n",
       "      <td>2</td>\n",
       "    </tr>\n",
       "  </tbody>\n",
       "</table>\n",
       "<p>2 rows × 21 columns</p>\n",
       "</div>"
      ],
      "text/plain": [
       "  Status of existing checking account Duration in month Credit history  \\\n",
       "0                                 A11                 6            A34   \n",
       "1                                 A12                48            A32   \n",
       "\n",
       "  Purpose Credit amount Savings account/bonds Present employment since  \\\n",
       "0     A43          1169                   A65                      A75   \n",
       "1     A43          5951                   A61                      A73   \n",
       "\n",
       "  Installment rate in percentage of disposable income Personal status and sex  \\\n",
       "0                                                  4                      A93   \n",
       "1                                                  2                      A92   \n",
       "\n",
       "  Other debtors / guarantors  ... Property Age in years  \\\n",
       "0                       A101  ...     A121           67   \n",
       "1                       A101  ...     A121           22   \n",
       "\n",
       "  Other installment plans Housing Number of existing credits at this bank  \\\n",
       "0                    A143    A152                                       2   \n",
       "1                    A143    A152                                       1   \n",
       "\n",
       "    Job Number of people being liable to provide maintenance for Telephone  \\\n",
       "0  A173                                                  1            A192   \n",
       "1  A173                                                  1            A191   \n",
       "\n",
       "  foreign worker Class  \n",
       "0           A201     1  \n",
       "1           A201     2  \n",
       "\n",
       "[2 rows x 21 columns]"
      ]
     },
     "execution_count": 1,
     "metadata": {},
     "output_type": "execute_result"
    }
   ],
   "source": [
    "import pandas as pd\n",
    "\n",
    "firstdata = pd.read_csv('/Users/adunifekizitookoye/Desktop/Final Year courses/CSCI 4150U - Data Mining/datasets0/german.data',\n",
    "                   header=None)\n",
    "firstdata.columns = ['first']\n",
    "split_data = firstdata['first'].str.split(\" \")\n",
    "data = split_data.to_list()\n",
    "names = ['Status of existing checking account','Duration in month','Credit history',\n",
    "         'Purpose','Credit amount','Savings account/bonds','Present employment since',\n",
    "         'Installment rate in percentage of disposable income','Personal status and sex','Other debtors / guarantors',\n",
    "         'Present residence since','Property','Age in years','Other installment plans','Housing',\n",
    "         'Number of existing credits at this bank','Job',\n",
    "         'Number of people being liable to provide maintenance for','Telephone','foreign worker', 'Class']\n",
    "new_df = pd.DataFrame(data, columns=names)\n",
    "new_df.head(2)"
   ]
  },
  {
   "cell_type": "code",
   "execution_count": 2,
   "metadata": {},
   "outputs": [],
   "source": [
    "# new_df.dtypes"
   ]
  },
  {
   "cell_type": "code",
   "execution_count": 3,
   "metadata": {},
   "outputs": [],
   "source": [
    "# new_df['Duration in month'].astype(str).astype(int)"
   ]
  },
  {
   "cell_type": "code",
   "execution_count": 4,
   "metadata": {},
   "outputs": [
    {
     "data": {
      "text/plain": [
       "\"\\nX1 = new_df['Duration in month'].astype(str).astype(int)\\nX2 = new_df['Credit amount'].astype(str).astype(int)\\nX3 = [X1, X2]\\nX = pd.DataFrame(X3)\\nprint(X)\\nprint(X.T) \\n\""
      ]
     },
     "execution_count": 4,
     "metadata": {},
     "output_type": "execute_result"
    }
   ],
   "source": [
    "'''\n",
    "X1 = new_df['Duration in month'].astype(str).astype(int)\n",
    "X2 = new_df['Credit amount'].astype(str).astype(int)\n",
    "X3 = [X1, X2]\n",
    "X = pd.DataFrame(X3)\n",
    "print(X)\n",
    "print(X.T) \n",
    "'''"
   ]
  },
  {
   "cell_type": "code",
   "execution_count": 5,
   "metadata": {},
   "outputs": [],
   "source": [
    "from sklearn import tree\n",
    "Y = new_df['Class'].astype(str).astype(int)\n",
    "X1 = new_df['Duration in month'].astype(str).astype(int)\n",
    "X2 = new_df['Credit amount'].astype(str).astype(int)\n",
    "X3 = [X1,X2]\n",
    "X = pd.DataFrame(X3)\n",
    "clf = tree.DecisionTreeClassifier(criterion='entropy',max_depth=3)\n",
    "clf = clf.fit(X.T, Y)"
   ]
  },
  {
   "cell_type": "code",
   "execution_count": 10,
   "metadata": {},
   "outputs": [
    {
     "name": "stdout",
     "output_type": "stream",
     "text": [
      "\u001b[33mWARNING: Skipping graphviz as it is not installed.\u001b[0m\r\n"
     ]
    }
   ],
   "source": [
    "!pip uninstall graphviz"
   ]
  },
  {
   "cell_type": "code",
   "execution_count": 9,
   "metadata": {},
   "outputs": [
    {
     "ename": "InvocationException",
     "evalue": "GraphViz's executables not found",
     "output_type": "error",
     "traceback": [
      "\u001b[0;31m---------------------------------------------------------------------------\u001b[0m",
      "\u001b[0;31mInvocationException\u001b[0m                       Traceback (most recent call last)",
      "\u001b[0;32m<ipython-input-9-726dc9bf9cb6>\u001b[0m in \u001b[0;36m<module>\u001b[0;34m\u001b[0m\n\u001b[1;32m      6\u001b[0m                                out_file=None)\n\u001b[1;32m      7\u001b[0m \u001b[0mgraph\u001b[0m \u001b[0;34m=\u001b[0m \u001b[0mpydotplus\u001b[0m\u001b[0;34m.\u001b[0m\u001b[0mgraph_from_dot_data\u001b[0m\u001b[0;34m(\u001b[0m\u001b[0mdot_data\u001b[0m\u001b[0;34m)\u001b[0m\u001b[0;34m\u001b[0m\u001b[0;34m\u001b[0m\u001b[0m\n\u001b[0;32m----> 8\u001b[0;31m \u001b[0mImage\u001b[0m\u001b[0;34m(\u001b[0m\u001b[0mgraph\u001b[0m\u001b[0;34m.\u001b[0m\u001b[0mcreate_png\u001b[0m\u001b[0;34m(\u001b[0m\u001b[0;34m)\u001b[0m\u001b[0;34m)\u001b[0m\u001b[0;34m\u001b[0m\u001b[0;34m\u001b[0m\u001b[0m\n\u001b[0m",
      "\u001b[0;32m/opt/anaconda3/lib/python3.8/site-packages/pydotplus/graphviz.py\u001b[0m in \u001b[0;36m<lambda>\u001b[0;34m(f, prog)\u001b[0m\n\u001b[1;32m   1795\u001b[0m             self.__setattr__(\n\u001b[1;32m   1796\u001b[0m                 \u001b[0;34m'create_'\u001b[0m \u001b[0;34m+\u001b[0m \u001b[0mfrmt\u001b[0m\u001b[0;34m,\u001b[0m\u001b[0;34m\u001b[0m\u001b[0;34m\u001b[0m\u001b[0m\n\u001b[0;32m-> 1797\u001b[0;31m                 \u001b[0;32mlambda\u001b[0m \u001b[0mf\u001b[0m\u001b[0;34m=\u001b[0m\u001b[0mfrmt\u001b[0m\u001b[0;34m,\u001b[0m \u001b[0mprog\u001b[0m\u001b[0;34m=\u001b[0m\u001b[0mself\u001b[0m\u001b[0;34m.\u001b[0m\u001b[0mprog\u001b[0m\u001b[0;34m:\u001b[0m \u001b[0mself\u001b[0m\u001b[0;34m.\u001b[0m\u001b[0mcreate\u001b[0m\u001b[0;34m(\u001b[0m\u001b[0mformat\u001b[0m\u001b[0;34m=\u001b[0m\u001b[0mf\u001b[0m\u001b[0;34m,\u001b[0m \u001b[0mprog\u001b[0m\u001b[0;34m=\u001b[0m\u001b[0mprog\u001b[0m\u001b[0;34m)\u001b[0m\u001b[0;34m\u001b[0m\u001b[0;34m\u001b[0m\u001b[0m\n\u001b[0m\u001b[1;32m   1798\u001b[0m             )\n\u001b[1;32m   1799\u001b[0m             \u001b[0mf\u001b[0m \u001b[0;34m=\u001b[0m \u001b[0mself\u001b[0m\u001b[0;34m.\u001b[0m\u001b[0m__dict__\u001b[0m\u001b[0;34m[\u001b[0m\u001b[0;34m'create_'\u001b[0m \u001b[0;34m+\u001b[0m \u001b[0mfrmt\u001b[0m\u001b[0;34m]\u001b[0m\u001b[0;34m\u001b[0m\u001b[0;34m\u001b[0m\u001b[0m\n",
      "\u001b[0;32m/opt/anaconda3/lib/python3.8/site-packages/pydotplus/graphviz.py\u001b[0m in \u001b[0;36mcreate\u001b[0;34m(self, prog, format)\u001b[0m\n\u001b[1;32m   1957\u001b[0m             \u001b[0mself\u001b[0m\u001b[0;34m.\u001b[0m\u001b[0mprogs\u001b[0m \u001b[0;34m=\u001b[0m \u001b[0mfind_graphviz\u001b[0m\u001b[0;34m(\u001b[0m\u001b[0;34m)\u001b[0m\u001b[0;34m\u001b[0m\u001b[0;34m\u001b[0m\u001b[0m\n\u001b[1;32m   1958\u001b[0m             \u001b[0;32mif\u001b[0m \u001b[0mself\u001b[0m\u001b[0;34m.\u001b[0m\u001b[0mprogs\u001b[0m \u001b[0;32mis\u001b[0m \u001b[0;32mNone\u001b[0m\u001b[0;34m:\u001b[0m\u001b[0;34m\u001b[0m\u001b[0;34m\u001b[0m\u001b[0m\n\u001b[0;32m-> 1959\u001b[0;31m                 raise InvocationException(\n\u001b[0m\u001b[1;32m   1960\u001b[0m                     'GraphViz\\'s executables not found')\n\u001b[1;32m   1961\u001b[0m \u001b[0;34m\u001b[0m\u001b[0m\n",
      "\u001b[0;31mInvocationException\u001b[0m: GraphViz's executables not found"
     ]
    }
   ],
   "source": [
    "import pydotplus\n",
    "from IPython.display import Image\n",
    "from sklearn.tree import export_graphviz\n",
    "\n",
    "dot_data = tree.export_graphviz(clf, feature_names=X.T.columns, class_names=['Good','Bad'], filled=True,\n",
    "                               out_file=None)\n",
    "graph = pydotplus.graph_from_dot_data(dot_data)\n",
    "Image(graph.create_png())"
   ]
  },
  {
   "cell_type": "markdown",
   "metadata": {},
   "source": [
    "### Part I:\n",
    "\n",
    "#### 1. Build a decision tree model and evaluate the model using:\n",
    "    1. Holdout\n",
    "        A. Use 90% of data set for train and 10 % for the test, and perform it 5 times, the final results are the average of performance trials\n",
    "        B. You should report the Accuracy, Precision and F-measure for each trial as well as their final average (use a table and then a bar chart)"
   ]
  },
  {
   "cell_type": "code",
   "execution_count": 11,
   "metadata": {},
   "outputs": [
    {
     "data": {
      "image/png": "[encoded data removed]",
      "text/plain": [
       "<Figure size 1440x360 with 3 Axes>"
      ]
     },
     "metadata": {
      "needs_background": "light"
     },
     "output_type": "display_data"
    }
   ],
   "source": [
    "import numpy as np\n",
    "import matplotlib.pyplot as plt\n",
    "from numpy.random import random\n",
    "#############################################\n",
    "# Training and Test set creation\n",
    "#############################################\n",
    "\n",
    "from sklearn.model_selection import train_test_split\n",
    "\n",
    "#test_size = 0.1 since using 10% of daata for the test\n",
    "X_train, X_test, Y_train, Y_test = train_test_split(X.T, Y, test_size=0.9, random_state=1)\n",
    "from sklearn import tree\n",
    "from sklearn.metrics import accuracy_score, precision_score, recall_score\n",
    "\n",
    "#############################################\n",
    "# Model fitting and evaluation\n",
    "#############################################\n",
    "\n",
    "maxdepths = [5,10,15,20,25]\n",
    "\n",
    "trainAcc = np.zeros(len(maxdepths))\n",
    "testAcc = np.zeros(len(maxdepths))\n",
    "\n",
    "trainPre = np.zeros(len(maxdepths))\n",
    "testPre = np.zeros(len(maxdepths))\n",
    "\n",
    "trainScore = np.zeros(len(maxdepths))\n",
    "testScore = np.zeros(len(maxdepths))\n",
    "\n",
    "\n",
    "index = 0\n",
    "for depth in maxdepths:\n",
    "    clf = tree.DecisionTreeClassifier(max_depth=depth)\n",
    "    clf = clf.fit(X_train, Y_train)\n",
    "    Y_predTrain = clf.predict(X_train)\n",
    "    Y_predTest = clf.predict(X_test)\n",
    "    trainAcc[index] = accuracy_score(Y_train, Y_predTrain)\n",
    "    testAcc[index] = accuracy_score(Y_test, Y_predTest)\n",
    "    trainPre[index] = precision_score(Y_train, Y_predTrain)\n",
    "    testPre[index] = precision_score(Y_test, Y_predTest)\n",
    "    trainScore[index] = recall_score(Y_train, Y_predTrain)\n",
    "    testScore[index] = recall_score(Y_test, Y_predTest)\n",
    "    index += 1\n",
    "\n",
    "#############################################\n",
    "# Plot of training and test accuracies\n",
    "#############################################\n",
    "plt.figure(figsize=(20, 5))\n",
    "plt.subplot(131)\n",
    "plt.title('Plot for training and testing Accuracy')\n",
    "plt.plot(maxdepths, trainAcc, 'ro-', maxdepths, testAcc, 'bv--')\n",
    "plt.legend(['Training Accuracy', 'Test Accuracy'])\n",
    "plt.xlabel('Max depth')\n",
    "plt.ylabel('Accuracy')\n",
    "\n",
    "#############################################\n",
    "# Plot of training and test precisions\n",
    "#############################################\n",
    "plt.subplot(132)\n",
    "plt.title('Plot for training and testing Precision')\n",
    "plt.plot(maxdepths, trainPre, 'ro-', maxdepths, testPre, 'bv--')\n",
    "plt.legend(['Training Precision', 'Test Precision'])\n",
    "plt.xlabel('Max depth')\n",
    "plt.ylabel('Precision')\n",
    "\n",
    "#############################################\n",
    "# Plot of training and test recalls\n",
    "#############################################\n",
    "plt.subplot(133)\n",
    "plt.title('Plot for training and testing Recall')\n",
    "plt.plot(maxdepths, trainScore, 'ro-', maxdepths, testScore, 'bv--')\n",
    "plt.legend(['Training Recall', 'Test Recall'])\n",
    "plt.xlabel('Max depth')\n",
    "plt.ylabel('Recall')\n",
    "plt.show()"
   ]
  },
  {
   "cell_type": "markdown",
   "metadata": {},
   "source": [
    "    2. Cross-validation \n",
    "       A. Perform 10-fold cross-validation for evaluating the model \n",
    "       B. You should report the Accuracy, Precision and F-measure for each trial as well as their final average ((use a table and then a bar chart))"
   ]
  },
  {
   "cell_type": "code",
   "execution_count": 13,
   "metadata": {},
   "outputs": [
    {
     "data": {
      "text/html": [
       "<div>\n",
       "<style scoped>\n",
       "    .dataframe tbody tr th:only-of-type {\n",
       "        vertical-align: middle;\n",
       "    }\n",
       "\n",
       "    .dataframe tbody tr th {\n",
       "        vertical-align: top;\n",
       "    }\n",
       "\n",
       "    .dataframe thead th {\n",
       "        text-align: right;\n",
       "    }\n",
       "</style>\n",
       "<table border=\"1\" class=\"dataframe\">\n",
       "  <thead>\n",
       "    <tr style=\"text-align: right;\">\n",
       "      <th></th>\n",
       "      <th>col1</th>\n",
       "      <th>col2</th>\n",
       "      <th>col3</th>\n",
       "      <th>col4</th>\n",
       "      <th>col5</th>\n",
       "      <th>col6</th>\n",
       "      <th>col7</th>\n",
       "      <th>col8</th>\n",
       "      <th>col9</th>\n",
       "      <th>col10</th>\n",
       "      <th>...</th>\n",
       "      <th>col13</th>\n",
       "      <th>col14</th>\n",
       "      <th>col15</th>\n",
       "      <th>col16</th>\n",
       "      <th>col17</th>\n",
       "      <th>col18</th>\n",
       "      <th>col19</th>\n",
       "      <th>col20</th>\n",
       "      <th>col21</th>\n",
       "      <th>Class</th>\n",
       "    </tr>\n",
       "  </thead>\n",
       "  <tbody>\n",
       "    <tr>\n",
       "      <th>0</th>\n",
       "      <td>-1.23</td>\n",
       "      <td>-1.56</td>\n",
       "      <td>-1.75</td>\n",
       "      <td>-0.28</td>\n",
       "      <td>0.60</td>\n",
       "      <td>2.22</td>\n",
       "      <td>0.85</td>\n",
       "      <td>0.21</td>\n",
       "      <td>-0.20</td>\n",
       "      <td>0.89</td>\n",
       "      <td>...</td>\n",
       "      <td>2.89</td>\n",
       "      <td>7.75</td>\n",
       "      <td>4.59</td>\n",
       "      <td>3.15</td>\n",
       "      <td>5.12</td>\n",
       "      <td>3.32</td>\n",
       "      <td>1.20</td>\n",
       "      <td>0.24</td>\n",
       "      <td>-0.56</td>\n",
       "      <td>2</td>\n",
       "    </tr>\n",
       "    <tr>\n",
       "      <th>1</th>\n",
       "      <td>-0.69</td>\n",
       "      <td>2.43</td>\n",
       "      <td>0.61</td>\n",
       "      <td>2.08</td>\n",
       "      <td>2.30</td>\n",
       "      <td>3.25</td>\n",
       "      <td>5.52</td>\n",
       "      <td>4.55</td>\n",
       "      <td>2.97</td>\n",
       "      <td>2.22</td>\n",
       "      <td>...</td>\n",
       "      <td>1.24</td>\n",
       "      <td>1.89</td>\n",
       "      <td>1.88</td>\n",
       "      <td>-1.34</td>\n",
       "      <td>0.83</td>\n",
       "      <td>1.41</td>\n",
       "      <td>1.78</td>\n",
       "      <td>0.60</td>\n",
       "      <td>2.42</td>\n",
       "      <td>1</td>\n",
       "    </tr>\n",
       "    <tr>\n",
       "      <th>2</th>\n",
       "      <td>-0.12</td>\n",
       "      <td>-0.94</td>\n",
       "      <td>1.29</td>\n",
       "      <td>2.59</td>\n",
       "      <td>2.42</td>\n",
       "      <td>3.55</td>\n",
       "      <td>4.94</td>\n",
       "      <td>3.25</td>\n",
       "      <td>1.90</td>\n",
       "      <td>2.07</td>\n",
       "      <td>...</td>\n",
       "      <td>2.50</td>\n",
       "      <td>0.12</td>\n",
       "      <td>1.41</td>\n",
       "      <td>2.78</td>\n",
       "      <td>0.64</td>\n",
       "      <td>0.62</td>\n",
       "      <td>-0.01</td>\n",
       "      <td>-0.79</td>\n",
       "      <td>-0.12</td>\n",
       "      <td>0</td>\n",
       "    </tr>\n",
       "    <tr>\n",
       "      <th>3</th>\n",
       "      <td>0.86</td>\n",
       "      <td>0.29</td>\n",
       "      <td>2.19</td>\n",
       "      <td>-0.02</td>\n",
       "      <td>1.13</td>\n",
       "      <td>2.51</td>\n",
       "      <td>2.37</td>\n",
       "      <td>5.45</td>\n",
       "      <td>5.45</td>\n",
       "      <td>4.84</td>\n",
       "      <td>...</td>\n",
       "      <td>2.58</td>\n",
       "      <td>1.40</td>\n",
       "      <td>1.24</td>\n",
       "      <td>1.41</td>\n",
       "      <td>1.07</td>\n",
       "      <td>-1.43</td>\n",
       "      <td>2.84</td>\n",
       "      <td>-1.18</td>\n",
       "      <td>1.12</td>\n",
       "      <td>1</td>\n",
       "    </tr>\n",
       "    <tr>\n",
       "      <th>4</th>\n",
       "      <td>1.16</td>\n",
       "      <td>0.37</td>\n",
       "      <td>0.40</td>\n",
       "      <td>-0.59</td>\n",
       "      <td>2.66</td>\n",
       "      <td>1.00</td>\n",
       "      <td>2.69</td>\n",
       "      <td>4.06</td>\n",
       "      <td>5.34</td>\n",
       "      <td>3.53</td>\n",
       "      <td>...</td>\n",
       "      <td>4.30</td>\n",
       "      <td>1.84</td>\n",
       "      <td>1.73</td>\n",
       "      <td>0.21</td>\n",
       "      <td>-0.18</td>\n",
       "      <td>0.13</td>\n",
       "      <td>-0.21</td>\n",
       "      <td>-0.80</td>\n",
       "      <td>-0.68</td>\n",
       "      <td>1</td>\n",
       "    </tr>\n",
       "  </tbody>\n",
       "</table>\n",
       "<p>5 rows × 22 columns</p>\n",
       "</div>"
      ],
      "text/plain": [
       "   col1  col2  col3  col4  col5  col6  col7  col8  col9  col10  ...  col13  \\\n",
       "0 -1.23 -1.56 -1.75 -0.28  0.60  2.22  0.85  0.21 -0.20   0.89  ...   2.89   \n",
       "1 -0.69  2.43  0.61  2.08  2.30  3.25  5.52  4.55  2.97   2.22  ...   1.24   \n",
       "2 -0.12 -0.94  1.29  2.59  2.42  3.55  4.94  3.25  1.90   2.07  ...   2.50   \n",
       "3  0.86  0.29  2.19 -0.02  1.13  2.51  2.37  5.45  5.45   4.84  ...   2.58   \n",
       "4  1.16  0.37  0.40 -0.59  2.66  1.00  2.69  4.06  5.34   3.53  ...   4.30   \n",
       "\n",
       "   col14  col15  col16  col17  col18  col19  col20  col21  Class  \n",
       "0   7.75   4.59   3.15   5.12   3.32   1.20   0.24  -0.56      2  \n",
       "1   1.89   1.88  -1.34   0.83   1.41   1.78   0.60   2.42      1  \n",
       "2   0.12   1.41   2.78   0.64   0.62  -0.01  -0.79  -0.12      0  \n",
       "3   1.40   1.24   1.41   1.07  -1.43   2.84  -1.18   1.12      1  \n",
       "4   1.84   1.73   0.21  -0.18   0.13  -0.21  -0.80  -0.68      1  \n",
       "\n",
       "[5 rows x 22 columns]"
      ]
     },
     "execution_count": 13,
     "metadata": {},
     "output_type": "execute_result"
    }
   ],
   "source": [
    "import pandas as pd\n",
    "data2 = pd.read_csv('/Users/adunifekizitookoye/Desktop/Final Year courses/CSCI 4150U - Data Mining/datasets0/waveform.data', header=None)\n",
    "data2.columns = ['col1', 'col2', 'col3','col4','col5','col6','col7','col8','col9','col10','col11','col12','col13','col14',\n",
    "                'col15','col16','col17','col18','col19','col20','col21','Class']\n",
    "data2.head()"
   ]
  },
  {
   "cell_type": "code",
   "execution_count": 14,
   "metadata": {},
   "outputs": [
    {
     "data": {
      "text/plain": [
       "col1     float64\n",
       "col2     float64\n",
       "col3     float64\n",
       "col4     float64\n",
       "col5     float64\n",
       "col6     float64\n",
       "col7     float64\n",
       "col8     float64\n",
       "col9     float64\n",
       "col10    float64\n",
       "col11    float64\n",
       "col12    float64\n",
       "col13    float64\n",
       "col14    float64\n",
       "col15    float64\n",
       "col16    float64\n",
       "col17    float64\n",
       "col18    float64\n",
       "col19    float64\n",
       "col20    float64\n",
       "col21    float64\n",
       "Class      int64\n",
       "dtype: object"
      ]
     },
     "execution_count": 14,
     "metadata": {},
     "output_type": "execute_result"
    }
   ],
   "source": [
    "data2.dtypes"
   ]
  },
  {
   "cell_type": "code",
   "execution_count": 19,
   "metadata": {},
   "outputs": [
    {
     "name": "stdout",
     "output_type": "stream",
     "text": [
      "<class 'pandas.core.frame.DataFrame'>\n",
      "RangeIndex: 5000 entries, 0 to 4999\n",
      "Data columns (total 22 columns):\n",
      " #   Column  Non-Null Count  Dtype  \n",
      "---  ------  --------------  -----  \n",
      " 0   col1    5000 non-null   float64\n",
      " 1   col2    5000 non-null   float64\n",
      " 2   col3    5000 non-null   float64\n",
      " 3   col4    5000 non-null   float64\n",
      " 4   col5    5000 non-null   float64\n",
      " 5   col6    5000 non-null   float64\n",
      " 6   col7    5000 non-null   float64\n",
      " 7   col8    5000 non-null   float64\n",
      " 8   col9    5000 non-null   float64\n",
      " 9   col10   5000 non-null   float64\n",
      " 10  col11   5000 non-null   float64\n",
      " 11  col12   5000 non-null   float64\n",
      " 12  col13   5000 non-null   float64\n",
      " 13  col14   5000 non-null   float64\n",
      " 14  col15   5000 non-null   float64\n",
      " 15  col16   5000 non-null   float64\n",
      " 16  col17   5000 non-null   float64\n",
      " 17  col18   5000 non-null   float64\n",
      " 18  col19   5000 non-null   float64\n",
      " 19  col20   5000 non-null   float64\n",
      " 20  col21   5000 non-null   float64\n",
      " 21  Class   5000 non-null   int64  \n",
      "dtypes: float64(21), int64(1)\n",
      "memory usage: 859.5 KB\n"
     ]
    }
   ],
   "source": [
    "data2.info()"
   ]
  },
  {
   "cell_type": "code",
   "execution_count": 30,
   "metadata": {},
   "outputs": [],
   "source": [
    "Y2 = data2['Class']\n",
    "X2 = data2.drop(['Class'], axis=1)"
   ]
  },
  {
   "cell_type": "code",
   "execution_count": 31,
   "metadata": {},
   "outputs": [
    {
     "data": {
      "text/plain": [
       "(5000,)"
      ]
     },
     "execution_count": 31,
     "metadata": {},
     "output_type": "execute_result"
    }
   ],
   "source": [
    "Y2.shape"
   ]
  },
  {
   "cell_type": "code",
   "execution_count": 32,
   "metadata": {},
   "outputs": [
    {
     "data": {
      "text/plain": [
       "(5000, 21)"
      ]
     },
     "execution_count": 32,
     "metadata": {},
     "output_type": "execute_result"
    }
   ],
   "source": [
    "X2.shape"
   ]
  },
  {
   "cell_type": "code",
   "execution_count": 34,
   "metadata": {},
   "outputs": [
    {
     "ename": "InvocationException",
     "evalue": "GraphViz's executables not found",
     "output_type": "error",
     "traceback": [
      "\u001b[0;31m---------------------------------------------------------------------------\u001b[0m",
      "\u001b[0;31mInvocationException\u001b[0m                       Traceback (most recent call last)",
      "\u001b[0;32m<ipython-input-34-04ec765f411f>\u001b[0m in \u001b[0;36m<module>\u001b[0;34m\u001b[0m\n\u001b[1;32m      6\u001b[0m                                out_file=None)\n\u001b[1;32m      7\u001b[0m \u001b[0mgraph\u001b[0m \u001b[0;34m=\u001b[0m \u001b[0mpydotplus\u001b[0m\u001b[0;34m.\u001b[0m\u001b[0mgraph_from_dot_data\u001b[0m\u001b[0;34m(\u001b[0m\u001b[0mdot_data\u001b[0m\u001b[0;34m)\u001b[0m\u001b[0;34m\u001b[0m\u001b[0;34m\u001b[0m\u001b[0m\n\u001b[0;32m----> 8\u001b[0;31m \u001b[0mImage\u001b[0m\u001b[0;34m(\u001b[0m\u001b[0mgraph\u001b[0m\u001b[0;34m.\u001b[0m\u001b[0mcreate_png\u001b[0m\u001b[0;34m(\u001b[0m\u001b[0;34m)\u001b[0m\u001b[0;34m)\u001b[0m\u001b[0;34m\u001b[0m\u001b[0;34m\u001b[0m\u001b[0m\n\u001b[0m",
      "\u001b[0;32m/opt/anaconda3/lib/python3.8/site-packages/pydotplus/graphviz.py\u001b[0m in \u001b[0;36m<lambda>\u001b[0;34m(f, prog)\u001b[0m\n\u001b[1;32m   1795\u001b[0m             self.__setattr__(\n\u001b[1;32m   1796\u001b[0m                 \u001b[0;34m'create_'\u001b[0m \u001b[0;34m+\u001b[0m \u001b[0mfrmt\u001b[0m\u001b[0;34m,\u001b[0m\u001b[0;34m\u001b[0m\u001b[0;34m\u001b[0m\u001b[0m\n\u001b[0;32m-> 1797\u001b[0;31m                 \u001b[0;32mlambda\u001b[0m \u001b[0mf\u001b[0m\u001b[0;34m=\u001b[0m\u001b[0mfrmt\u001b[0m\u001b[0;34m,\u001b[0m \u001b[0mprog\u001b[0m\u001b[0;34m=\u001b[0m\u001b[0mself\u001b[0m\u001b[0;34m.\u001b[0m\u001b[0mprog\u001b[0m\u001b[0;34m:\u001b[0m \u001b[0mself\u001b[0m\u001b[0;34m.\u001b[0m\u001b[0mcreate\u001b[0m\u001b[0;34m(\u001b[0m\u001b[0mformat\u001b[0m\u001b[0;34m=\u001b[0m\u001b[0mf\u001b[0m\u001b[0;34m,\u001b[0m \u001b[0mprog\u001b[0m\u001b[0;34m=\u001b[0m\u001b[0mprog\u001b[0m\u001b[0;34m)\u001b[0m\u001b[0;34m\u001b[0m\u001b[0;34m\u001b[0m\u001b[0m\n\u001b[0m\u001b[1;32m   1798\u001b[0m             )\n\u001b[1;32m   1799\u001b[0m             \u001b[0mf\u001b[0m \u001b[0;34m=\u001b[0m \u001b[0mself\u001b[0m\u001b[0;34m.\u001b[0m\u001b[0m__dict__\u001b[0m\u001b[0;34m[\u001b[0m\u001b[0;34m'create_'\u001b[0m \u001b[0;34m+\u001b[0m \u001b[0mfrmt\u001b[0m\u001b[0;34m]\u001b[0m\u001b[0;34m\u001b[0m\u001b[0;34m\u001b[0m\u001b[0m\n",
      "\u001b[0;32m/opt/anaconda3/lib/python3.8/site-packages/pydotplus/graphviz.py\u001b[0m in \u001b[0;36mcreate\u001b[0;34m(self, prog, format)\u001b[0m\n\u001b[1;32m   1957\u001b[0m             \u001b[0mself\u001b[0m\u001b[0;34m.\u001b[0m\u001b[0mprogs\u001b[0m \u001b[0;34m=\u001b[0m \u001b[0mfind_graphviz\u001b[0m\u001b[0;34m(\u001b[0m\u001b[0;34m)\u001b[0m\u001b[0;34m\u001b[0m\u001b[0;34m\u001b[0m\u001b[0m\n\u001b[1;32m   1958\u001b[0m             \u001b[0;32mif\u001b[0m \u001b[0mself\u001b[0m\u001b[0;34m.\u001b[0m\u001b[0mprogs\u001b[0m \u001b[0;32mis\u001b[0m \u001b[0;32mNone\u001b[0m\u001b[0;34m:\u001b[0m\u001b[0;34m\u001b[0m\u001b[0;34m\u001b[0m\u001b[0m\n\u001b[0;32m-> 1959\u001b[0;31m                 raise InvocationException(\n\u001b[0m\u001b[1;32m   1960\u001b[0m                     'GraphViz\\'s executables not found')\n\u001b[1;32m   1961\u001b[0m \u001b[0;34m\u001b[0m\u001b[0m\n",
      "\u001b[0;31mInvocationException\u001b[0m: GraphViz's executables not found"
     ]
    }
   ],
   "source": [
    "import pydotplus\n",
    "from IPython.display import Image\n",
    "from sklearn.tree import export_graphviz\n",
    "\n",
    "dot_data = tree.export_graphviz(clf, feature_names=X.T.columns, class_names=['class 0', 'class 1', 'class 2'], filled=True,\n",
    "                               out_file=None)\n",
    "graph = pydotplus.graph_from_dot_data(dot_data)\n",
    "Image(graph.create_png())"
   ]
  },
  {
   "cell_type": "code",
   "execution_count": 27,
   "metadata": {},
   "outputs": [
    {
     "name": "stdout",
     "output_type": "stream",
     "text": [
      "Cross val score for training set =  [array([0.62, 0.62, 0.56, 0.64, 0.74, 0.68, 0.62, 0.72, 0.7 , 0.64])]\n",
      "Cross val score for testing set =  [array([0.68888889, 0.67333333, 0.71111111, 0.70666667, 0.66222222,\n",
      "       0.7       , 0.66      , 0.70888889, 0.70666667, 0.69111111])]\n"
     ]
    }
   ],
   "source": [
    "from sklearn.model_selection import cross_val_score\n",
    "import numpy as np\n",
    "import matplotlib.pyplot as plt\n",
    "'''\n",
    "Accuracy = (TP + TN) /(TP + TN + FP + FN)\n",
    "Precision = (TP) / (TP + FP)\n",
    "Recall = (TP) / (TP + FN)\n",
    "'''\n",
    "\n",
    "from sklearn import tree\n",
    "from sklearn.model_selection import train_test_split\n",
    "\n",
    "\n",
    "\n",
    "scoresTrain2 = []\n",
    "scoresTest2 = []\n",
    "\n",
    "indexes = [0,1,2,3,4,5,6,7,8,9,10]\n",
    "\n",
    "X_train2, X_test2, Y_train2, Y_test2 = train_test_split(X2, Y2, test_size=0.9)\n",
    "clf2 = tree.DecisionTreeClassifier(max_depth=2)\n",
    "scoresTest2.append(cross_val_score(clf2, X_test2, Y_test2, cv=10))\n",
    "scoresTrain2.append(cross_val_score(clf2, X_train2, Y_train2, cv=10))\n",
    " \n",
    "#############################################\n",
    "# Plot of training and test accuracies\n",
    "#############################################\n",
    "print(\"Cross val score for training set = \", scoresTrain2)\n",
    "print(\"Cross val score for testing set = \", scoresTest2)"
   ]
  },
  {
   "cell_type": "markdown",
   "metadata": {},
   "source": [
    "### Part II:\n",
    "\n",
    "#### 1. Select the Entropy as the impurity measure and repeat Part I "
   ]
  },
  {
   "cell_type": "code",
   "execution_count": null,
   "metadata": {},
   "outputs": [],
   "source": [
    "from sklearn import tree\n",
    "Y = new_df['Class'].astype(str).astype(int)\n",
    "X1 = new_df['Duration in month'].astype(str).astype(int)\n",
    "X2 = new_df['Credit amount'].astype(str).astype(int)\n",
    "X3 = [X1,X2]\n",
    "X = pd.DataFrame(X3)\n",
    "clf = tree.DecisionTreeClassifier(criterion='entropy',max_depth=3)\n",
    "clf = clf.fit(X.T, Y)"
   ]
  },
  {
   "cell_type": "code",
   "execution_count": null,
   "metadata": {},
   "outputs": [],
   "source": [
    "testdata = pd.read_csv('/Users/adunifekizitookoye/Desktop/CSCI 4150U - Data Mining/waveform.data', header=None)\n",
    "testdata.columns = ['?','Status of existing checking account','Duration in month','Credit history',\n",
    "         'Purpose','Credit amount','Savings account/bonds','Present employment since',\n",
    "         'Installment rate in percentage of disposable income','Personal status and sex','Other debtors / guarantors',\n",
    "         'Present residence since','Property','Age in years','Other installment plans','Housing',\n",
    "         'Number of existing credits at this bank','Job',\n",
    "         'Number of people being liable to provide maintenance for','Telephone','foreign worker', 'Class']\n",
    "testdata.head()\n",
    "\n",
    "testY = testdata['Class']\n",
    "testX1 = testdata['Duration in month']\n",
    "testX2 = testdata['Credit amount']\n",
    "testX3 = [testX1, testX2]\n",
    "testX = pd.DataFrame(testX3)\n",
    "\n",
    "predY = clf.predict(testX.T)\n",
    "predictions = pd.concat([testdata['Status of existing checking account'],pd.Series(predY, name='Predicted Class')], axis=1)\n",
    "predictions"
   ]
  },
  {
   "cell_type": "markdown",
   "metadata": {},
   "source": [
    "#### 2. Compare the final Accuracy of cross-validation of Part I and II using some figures "
   ]
  },
  {
   "cell_type": "code",
   "execution_count": null,
   "metadata": {},
   "outputs": [],
   "source": [
    "from sklearn.metrics import accuracy_score\n",
    "\n",
    "print('Accuracy on test data is %.2f' % (accuracy_score(testY, predY)))"
   ]
  },
  {
   "cell_type": "markdown",
   "metadata": {},
   "source": [
    "### Part III:\n",
    "\n",
    "#### 1. Use the holdout method (train: 90 % data set, test: 10 % set) \n",
    "    1. Investigate the effect of tree depth on the accuracy of the model (see the tutorial)\n",
    "        A. Change the tree depth (e.g, 2, 5, 8, ..., 50) and draw training and test accuracy \n"
   ]
  },
  {
   "cell_type": "code",
   "execution_count": null,
   "metadata": {},
   "outputs": [],
   "source": [
    "import numpy as np\n",
    "import matplotlib.pyplot as plt\n",
    "from numpy.random import random\n",
    "#############################################\n",
    "# Training and Test set creation\n",
    "#############################################\n",
    "\n",
    "from sklearn.model_selection import train_test_split\n",
    "\n",
    "#test_size = 0.1 since using 10% of daata for the test\n",
    "X_train, X_test, Y_train, Y_test = train_test_split(X.T, Y, test_size=0.1, random_state=1)\n",
    "\n",
    "from sklearn import tree\n",
    "from sklearn.metrics import accuracy_score\n",
    "from sklearn.metrics import precision_score\n",
    "from sklearn.metrics import recall_score\n",
    "\n",
    "#############################################\n",
    "# Model fitting and evaluation\n",
    "#############################################\n",
    "\n",
    "maxdepths = list(range(2, 51, 3))\n",
    "#maxdepths = [5, 8, 11, 14, 17, 20, 23, 26, 29, 32, 35, 38, 41, 44, 47, 50]\n",
    "\n",
    "trainAcc = np.zeros(len(maxdepths))\n",
    "testAcc = np.zeros(len(maxdepths))\n",
    "\n",
    "trainPre = np.zeros(len(maxdepths))\n",
    "testPre = np.zeros(len(maxdepths))\n",
    "\n",
    "trainScore = np.zeros(len(maxdepths))\n",
    "testScore = np.zeros(len(maxdepths))\n",
    "\n",
    "\n",
    "index = 0\n",
    "for depth in maxdepths:\n",
    "    clf = tree.DecisionTreeClassifier(max_depth=depth)\n",
    "    clf = clf.fit(X_train, Y_train)\n",
    "    Y_predTrain = clf.predict(X_train)\n",
    "    Y_predTest = clf.predict(X_test)\n",
    "    trainAcc[index] = accuracy_score(Y_train, Y_predTrain)\n",
    "    testAcc[index] = accuracy_score(Y_test, Y_predTest)\n",
    "    trainPre[index] = precision_score(Y_train, Y_predTrain)\n",
    "    testPre[index] = precision_score(Y_test, Y_predTest)\n",
    "    trainScore[index] = recall_score(Y_train, Y_predTrain)\n",
    "    testScore[index] = recall_score(Y_test, Y_predTest)\n",
    "    index += 1\n",
    "\n",
    "#############################################\n",
    "# Plot of training and test accuracies\n",
    "#############################################\n",
    "plt.figure(figsize=(20, 5))\n",
    "plt.subplot(131)\n",
    "plt.title('Plot for training and testing Accuracy')\n",
    "plt.plot(maxdepths, trainAcc, 'ro-', maxdepths, testAcc, 'bv--')\n",
    "plt.legend(['Training Accuracy', 'Test Accuracy'])\n",
    "plt.xlabel('Max depth')\n",
    "plt.ylabel('Accuracy')\n",
    "\n",
    "#############################################\n",
    "# Plot of training and test precisions\n",
    "#############################################\n",
    "plt.subplot(132)\n",
    "plt.title('Plot for training and testing Precision')\n",
    "plt.plot(maxdepths, trainPre, 'ro-', maxdepths, testPre, 'bv--')\n",
    "plt.legend(['Training Precision', 'Test Precision'])\n",
    "plt.xlabel('Max depth')\n",
    "plt.ylabel('Precision')\n",
    "\n",
    "#############################################\n",
    "# Plot of training and test recalls\n",
    "#############################################\n",
    "plt.subplot(133)\n",
    "plt.title('Plot for training and testing Recall')\n",
    "plt.plot(maxdepths, trainScore, 'ro-', maxdepths, testScore, 'bv--')\n",
    "plt.legend(['Training Recall', 'Test Recall'])\n",
    "plt.xlabel('Max depth')\n",
    "plt.ylabel('Recall')\n",
    "plt.show()"
   ]
  },
  {
   "cell_type": "markdown",
   "metadata": {},
   "source": [
    "        B. Explain your observation "
   ]
  }
 ],
 "metadata": {
  "kernelspec": {
   "display_name": "Python 3",
   "language": "python",
   "name": "python3"
  },
  "language_info": {
   "codemirror_mode": {
    "name": "ipython",
    "version": 3
   },
   "file_extension": ".py",
   "mimetype": "text/x-python",
   "name": "python",
   "nbconvert_exporter": "python",
   "pygments_lexer": "ipython3",
   "version": "3.8.2"
  }
 },
 "nbformat": 4,
 "nbformat_minor": 4
}
